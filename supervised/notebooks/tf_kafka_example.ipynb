{
 "cells": [
  {
   "cell_type": "code",
   "execution_count": 1,
   "metadata": {},
   "outputs": [
    {
     "name": "stderr",
     "output_type": "stream",
     "text": [
      "2022-06-15 17:02:53.549643: W tensorflow/stream_executor/platform/default/dso_loader.cc:64] Could not load dynamic library 'libcudart.so.11.0'; dlerror: libcudart.so.11.0: cannot open shared object file: No such file or directory\n",
      "2022-06-15 17:02:53.549689: I tensorflow/stream_executor/cuda/cudart_stub.cc:29] Ignore above cudart dlerror if you do not have a GPU set up on your machine.\n"
     ]
    }
   ],
   "source": [
    "import os\n",
    "from datetime import datetime\n",
    "import time\n",
    "import threading\n",
    "import json\n",
    "from kafka import KafkaProducer\n",
    "from kafka.errors import KafkaError\n",
    "from sklearn.model_selection import train_test_split\n",
    "import pandas as pd\n",
    "import tensorflow as tf\n",
    "import tensorflow_io as tf_io"
   ]
  },
  {
   "cell_type": "code",
   "execution_count": 2,
   "metadata": {},
   "outputs": [
    {
     "name": "stdout",
     "output_type": "stream",
     "text": [
      "tensorflow-io version: 0.26.0\n",
      "tensorflow version: 2.9.1\n"
     ]
    }
   ],
   "source": [
    "print(\"tensorflow-io version: {}\".format(tf_io.__version__))\n",
    "print(\"tensorflow version: {}\".format(tf.__version__))"
   ]
  },
  {
   "cell_type": "code",
   "execution_count": 3,
   "metadata": {},
   "outputs": [],
   "source": [
    "COLUMNS = [\n",
    "          #  labels\n",
    "           'class',\n",
    "          #  low-level features\n",
    "           'lepton_1_pT',\n",
    "           'lepton_1_eta',\n",
    "           'lepton_1_phi',\n",
    "           'lepton_2_pT',\n",
    "           'lepton_2_eta',\n",
    "           'lepton_2_phi',\n",
    "           'missing_energy_magnitude',\n",
    "           'missing_energy_phi',\n",
    "          #  high-level derived features\n",
    "           'MET_rel',\n",
    "           'axial_MET',\n",
    "           'M_R',\n",
    "           'M_TR_2',\n",
    "           'R',\n",
    "           'MT2',\n",
    "           'S_R',\n",
    "           'M_Delta_R',\n",
    "           'dPhi_r_b',\n",
    "           'cos(theta_r1)'\n",
    "           ]"
   ]
  },
  {
   "cell_type": "code",
   "execution_count": 9,
   "metadata": {},
   "outputs": [
    {
     "name": "stdout",
     "output_type": "stream",
     "text": [
      "/workspaces/python-mathematical-modelling-examples/supervised/notebooks\n"
     ]
    }
   ],
   "source": [
    "cwd = os.getcwd()\n",
    "print(cwd)"
   ]
  },
  {
   "cell_type": "code",
   "execution_count": 10,
   "metadata": {},
   "outputs": [],
   "source": [
    "susy_iterator = pd.read_csv('/workspaces/python-mathematical-modelling-examples/SUSY.csv.gz', header=None, names=COLUMNS, chunksize=100000)\n"
   ]
  },
  {
   "cell_type": "code",
   "execution_count": 11,
   "metadata": {},
   "outputs": [
    {
     "data": {
      "text/html": [
       "<div>\n",
       "<style scoped>\n",
       "    .dataframe tbody tr th:only-of-type {\n",
       "        vertical-align: middle;\n",
       "    }\n",
       "\n",
       "    .dataframe tbody tr th {\n",
       "        vertical-align: top;\n",
       "    }\n",
       "\n",
       "    .dataframe thead th {\n",
       "        text-align: right;\n",
       "    }\n",
       "</style>\n",
       "<table border=\"1\" class=\"dataframe\">\n",
       "  <thead>\n",
       "    <tr style=\"text-align: right;\">\n",
       "      <th></th>\n",
       "      <th>class</th>\n",
       "      <th>lepton_1_pT</th>\n",
       "      <th>lepton_1_eta</th>\n",
       "      <th>lepton_1_phi</th>\n",
       "      <th>lepton_2_pT</th>\n",
       "      <th>lepton_2_eta</th>\n",
       "      <th>lepton_2_phi</th>\n",
       "      <th>missing_energy_magnitude</th>\n",
       "      <th>missing_energy_phi</th>\n",
       "      <th>MET_rel</th>\n",
       "      <th>axial_MET</th>\n",
       "      <th>M_R</th>\n",
       "      <th>M_TR_2</th>\n",
       "      <th>R</th>\n",
       "      <th>MT2</th>\n",
       "      <th>S_R</th>\n",
       "      <th>M_Delta_R</th>\n",
       "      <th>dPhi_r_b</th>\n",
       "      <th>cos(theta_r1)</th>\n",
       "    </tr>\n",
       "  </thead>\n",
       "  <tbody>\n",
       "    <tr>\n",
       "      <th>0</th>\n",
       "      <td>0.0</td>\n",
       "      <td>0.972861</td>\n",
       "      <td>0.653855</td>\n",
       "      <td>1.176225</td>\n",
       "      <td>1.157156</td>\n",
       "      <td>-1.739873</td>\n",
       "      <td>-0.874309</td>\n",
       "      <td>0.567765</td>\n",
       "      <td>-0.175000</td>\n",
       "      <td>0.810061</td>\n",
       "      <td>-0.252552</td>\n",
       "      <td>1.921887</td>\n",
       "      <td>0.889637</td>\n",
       "      <td>0.410772</td>\n",
       "      <td>1.145621</td>\n",
       "      <td>1.932632</td>\n",
       "      <td>0.994464</td>\n",
       "      <td>1.367815</td>\n",
       "      <td>0.040714</td>\n",
       "    </tr>\n",
       "    <tr>\n",
       "      <th>1</th>\n",
       "      <td>1.0</td>\n",
       "      <td>1.667973</td>\n",
       "      <td>0.064191</td>\n",
       "      <td>-1.225171</td>\n",
       "      <td>0.506102</td>\n",
       "      <td>-0.338939</td>\n",
       "      <td>1.672543</td>\n",
       "      <td>3.475464</td>\n",
       "      <td>-1.219136</td>\n",
       "      <td>0.012955</td>\n",
       "      <td>3.775174</td>\n",
       "      <td>1.045977</td>\n",
       "      <td>0.568051</td>\n",
       "      <td>0.481928</td>\n",
       "      <td>0.000000</td>\n",
       "      <td>0.448410</td>\n",
       "      <td>0.205356</td>\n",
       "      <td>1.321893</td>\n",
       "      <td>0.377584</td>\n",
       "    </tr>\n",
       "    <tr>\n",
       "      <th>2</th>\n",
       "      <td>1.0</td>\n",
       "      <td>0.444840</td>\n",
       "      <td>-0.134298</td>\n",
       "      <td>-0.709972</td>\n",
       "      <td>0.451719</td>\n",
       "      <td>-1.613871</td>\n",
       "      <td>-0.768661</td>\n",
       "      <td>1.219918</td>\n",
       "      <td>0.504026</td>\n",
       "      <td>1.831248</td>\n",
       "      <td>-0.431385</td>\n",
       "      <td>0.526283</td>\n",
       "      <td>0.941514</td>\n",
       "      <td>1.587535</td>\n",
       "      <td>2.024308</td>\n",
       "      <td>0.603498</td>\n",
       "      <td>1.562374</td>\n",
       "      <td>1.135454</td>\n",
       "      <td>0.180910</td>\n",
       "    </tr>\n",
       "    <tr>\n",
       "      <th>3</th>\n",
       "      <td>1.0</td>\n",
       "      <td>0.381256</td>\n",
       "      <td>-0.976145</td>\n",
       "      <td>0.693152</td>\n",
       "      <td>0.448959</td>\n",
       "      <td>0.891753</td>\n",
       "      <td>-0.677328</td>\n",
       "      <td>2.033060</td>\n",
       "      <td>1.533041</td>\n",
       "      <td>3.046260</td>\n",
       "      <td>-1.005285</td>\n",
       "      <td>0.569386</td>\n",
       "      <td>1.015211</td>\n",
       "      <td>1.582217</td>\n",
       "      <td>1.551914</td>\n",
       "      <td>0.761215</td>\n",
       "      <td>1.715464</td>\n",
       "      <td>1.492257</td>\n",
       "      <td>0.090719</td>\n",
       "    </tr>\n",
       "    <tr>\n",
       "      <th>4</th>\n",
       "      <td>1.0</td>\n",
       "      <td>1.309996</td>\n",
       "      <td>-0.690089</td>\n",
       "      <td>-0.676259</td>\n",
       "      <td>1.589283</td>\n",
       "      <td>-0.693326</td>\n",
       "      <td>0.622907</td>\n",
       "      <td>1.087562</td>\n",
       "      <td>-0.381742</td>\n",
       "      <td>0.589204</td>\n",
       "      <td>1.365479</td>\n",
       "      <td>1.179295</td>\n",
       "      <td>0.968218</td>\n",
       "      <td>0.728563</td>\n",
       "      <td>0.000000</td>\n",
       "      <td>1.083158</td>\n",
       "      <td>0.043429</td>\n",
       "      <td>1.154854</td>\n",
       "      <td>0.094859</td>\n",
       "    </tr>\n",
       "  </tbody>\n",
       "</table>\n",
       "</div>"
      ],
      "text/plain": [
       "   class  lepton_1_pT  lepton_1_eta  lepton_1_phi  lepton_2_pT  lepton_2_eta  \\\n",
       "0    0.0     0.972861      0.653855      1.176225     1.157156     -1.739873   \n",
       "1    1.0     1.667973      0.064191     -1.225171     0.506102     -0.338939   \n",
       "2    1.0     0.444840     -0.134298     -0.709972     0.451719     -1.613871   \n",
       "3    1.0     0.381256     -0.976145      0.693152     0.448959      0.891753   \n",
       "4    1.0     1.309996     -0.690089     -0.676259     1.589283     -0.693326   \n",
       "\n",
       "   lepton_2_phi  missing_energy_magnitude  missing_energy_phi   MET_rel  \\\n",
       "0     -0.874309                  0.567765           -0.175000  0.810061   \n",
       "1      1.672543                  3.475464           -1.219136  0.012955   \n",
       "2     -0.768661                  1.219918            0.504026  1.831248   \n",
       "3     -0.677328                  2.033060            1.533041  3.046260   \n",
       "4      0.622907                  1.087562           -0.381742  0.589204   \n",
       "\n",
       "   axial_MET       M_R    M_TR_2         R       MT2       S_R  M_Delta_R  \\\n",
       "0  -0.252552  1.921887  0.889637  0.410772  1.145621  1.932632   0.994464   \n",
       "1   3.775174  1.045977  0.568051  0.481928  0.000000  0.448410   0.205356   \n",
       "2  -0.431385  0.526283  0.941514  1.587535  2.024308  0.603498   1.562374   \n",
       "3  -1.005285  0.569386  1.015211  1.582217  1.551914  0.761215   1.715464   \n",
       "4   1.365479  1.179295  0.968218  0.728563  0.000000  1.083158   0.043429   \n",
       "\n",
       "   dPhi_r_b  cos(theta_r1)  \n",
       "0  1.367815       0.040714  \n",
       "1  1.321893       0.377584  \n",
       "2  1.135454       0.180910  \n",
       "3  1.492257       0.090719  \n",
       "4  1.154854       0.094859  "
      ]
     },
     "execution_count": 11,
     "metadata": {},
     "output_type": "execute_result"
    }
   ],
   "source": [
    "susy_df = next(susy_iterator)\n",
    "susy_df.head()"
   ]
  },
  {
   "cell_type": "code",
   "execution_count": 12,
   "metadata": {},
   "outputs": [
    {
     "data": {
      "text/plain": [
       "(100000, 19)"
      ]
     },
     "execution_count": 12,
     "metadata": {},
     "output_type": "execute_result"
    }
   ],
   "source": [
    "# Number of datapoints and columns\n",
    "len(susy_df), len(susy_df.columns)\n"
   ]
  },
  {
   "cell_type": "code",
   "execution_count": 13,
   "metadata": {},
   "outputs": [
    {
     "data": {
      "text/plain": [
       "(54025, 45975)"
      ]
     },
     "execution_count": 13,
     "metadata": {},
     "output_type": "execute_result"
    }
   ],
   "source": [
    "# Number of datapoints belonging to each class (0: background noise, 1: signal)\n",
    "len(susy_df[susy_df[\"class\"]==0]), len(susy_df[susy_df[\"class\"]==1])"
   ]
  },
  {
   "cell_type": "code",
   "execution_count": 14,
   "metadata": {},
   "outputs": [
    {
     "name": "stdout",
     "output_type": "stream",
     "text": [
      "Number of training samples:  60000\n",
      "Number of testing sample:  40000\n"
     ]
    }
   ],
   "source": [
    "train_df, test_df = train_test_split(susy_df, test_size=0.4, shuffle=True)\n",
    "print(\"Number of training samples: \",len(train_df))\n",
    "print(\"Number of testing sample: \",len(test_df))\n",
    "\n",
    "x_train_df = train_df.drop([\"class\"], axis=1)\n",
    "y_train_df = train_df[\"class\"]\n",
    "\n",
    "x_test_df = test_df.drop([\"class\"], axis=1)\n",
    "y_test_df = test_df[\"class\"]\n",
    "\n",
    "# The labels are set as the kafka message keys so as to store data\n",
    "# in multiple-partitions. Thus, enabling efficient data retrieval\n",
    "# using the consumer groups.\n",
    "x_train = list(filter(None, x_train_df.to_csv(index=False).split(\"\\n\")[1:]))\n",
    "y_train = list(filter(None, y_train_df.to_csv(index=False).split(\"\\n\")[1:]))\n",
    "\n",
    "x_test = list(filter(None, x_test_df.to_csv(index=False).split(\"\\n\")[1:]))\n",
    "y_test = list(filter(None, y_test_df.to_csv(index=False).split(\"\\n\")[1:]))"
   ]
  },
  {
   "cell_type": "code",
   "execution_count": 15,
   "metadata": {},
   "outputs": [
    {
     "data": {
      "text/plain": [
       "(60000, 60000, 40000, 40000)"
      ]
     },
     "execution_count": 15,
     "metadata": {},
     "output_type": "execute_result"
    }
   ],
   "source": [
    "NUM_COLUMNS = len(x_train_df.columns)\n",
    "len(x_train), len(y_train), len(x_test), len(y_test)"
   ]
  },
  {
   "cell_type": "code",
   "execution_count": 16,
   "metadata": {},
   "outputs": [
    {
     "name": "stdout",
     "output_type": "stream",
     "text": [
      "Wrote 60000 messages into topic: susy-train\n",
      "Wrote 40000 messages into topic: susy-test\n"
     ]
    }
   ],
   "source": [
    "def error_callback(exc):\n",
    "    raise Exception('Error while sendig data to kafka: {0}'.format(str(exc)))\n",
    "\n",
    "def write_to_kafka(topic_name, items):\n",
    "  count=0\n",
    "  producer = KafkaProducer(bootstrap_servers=['127.0.0.1:9092'])\n",
    "  for message, key in items:\n",
    "    producer.send(topic_name, key=key.encode('utf-8'), value=message.encode('utf-8')).add_errback(error_callback)\n",
    "    count+=1\n",
    "  producer.flush()\n",
    "  print(\"Wrote {0} messages into topic: {1}\".format(count, topic_name))\n",
    "\n",
    "write_to_kafka(\"susy-train\", zip(x_train, y_train))\n",
    "write_to_kafka(\"susy-test\", zip(x_test, y_test))"
   ]
  },
  {
   "cell_type": "code",
   "execution_count": 18,
   "metadata": {},
   "outputs": [
    {
     "name": "stderr",
     "output_type": "stream",
     "text": [
      "2022-06-15 17:51:01.139546: W tensorflow_io/core/kernels/audio_video_mp3_kernels.cc:271] libmp3lame.so.0 or lame functions are not available\n",
      "2022-06-15 17:51:01.155378: I tensorflow_io/core/kernels/cpu_check.cc:128] Your CPU supports instructions that this TensorFlow IO binary was not compiled to use: AVX2 AVX512F FMA\n",
      "2022-06-15 17:51:02.811879: W tensorflow/stream_executor/platform/default/dso_loader.cc:64] Could not load dynamic library 'libcuda.so.1'; dlerror: libcuda.so.1: cannot open shared object file: No such file or directory\n",
      "2022-06-15 17:51:02.811921: W tensorflow/stream_executor/cuda/cuda_driver.cc:269] failed call to cuInit: UNKNOWN ERROR (303)\n",
      "2022-06-15 17:51:02.827695: I tensorflow/stream_executor/cuda/cuda_diagnostics.cc:156] kernel driver does not appear to be running on this host (codespaces-0d7959): /proc/driver/nvidia/version does not exist\n",
      "2022-06-15 17:51:02.911475: I tensorflow/core/platform/cpu_feature_guard.cc:193] This TensorFlow binary is optimized with oneAPI Deep Neural Network Library (oneDNN) to use the following CPU instructions in performance-critical operations:  AVX2 AVX512F FMA\n",
      "To enable them in other operations, rebuild TensorFlow with the appropriate compiler flags.\n",
      "2022-06-15 17:51:03.357112: I tensorflow_io/core/kernels/kafka_kernels.cc:349] Kafka tail: 60000\n"
     ]
    }
   ],
   "source": [
    "def decode_kafka_item(item):\n",
    "  message = tf.io.decode_csv(item.message, [[0.0] for i in range(NUM_COLUMNS)])\n",
    "  key = tf.strings.to_number(item.key)\n",
    "  return (message, key)\n",
    "\n",
    "BATCH_SIZE=64\n",
    "SHUFFLE_BUFFER_SIZE=64\n",
    "train_ds = tf_io.IODataset.from_kafka('susy-train', partition=0, offset=0)\n",
    "train_ds = train_ds.shuffle(buffer_size=SHUFFLE_BUFFER_SIZE)\n",
    "train_ds = train_ds.map(decode_kafka_item)\n",
    "train_ds = train_ds.batch(BATCH_SIZE)"
   ]
  },
  {
   "cell_type": "code",
   "execution_count": 19,
   "metadata": {},
   "outputs": [],
   "source": [
    "# Set the parameters\n",
    "\n",
    "OPTIMIZER=\"adam\"\n",
    "LOSS=tf.keras.losses.BinaryCrossentropy(from_logits=True)\n",
    "METRICS=['accuracy']\n",
    "EPOCHS=10"
   ]
  },
  {
   "cell_type": "code",
   "execution_count": 20,
   "metadata": {},
   "outputs": [
    {
     "name": "stdout",
     "output_type": "stream",
     "text": [
      "Model: \"sequential\"\n",
      "_________________________________________________________________\n",
      " Layer (type)                Output Shape              Param #   \n",
      "=================================================================\n",
      " dense (Dense)               (None, 128)               2432      \n",
      "                                                                 \n",
      " dropout (Dropout)           (None, 128)               0         \n",
      "                                                                 \n",
      " dense_1 (Dense)             (None, 256)               33024     \n",
      "                                                                 \n",
      " dropout_1 (Dropout)         (None, 256)               0         \n",
      "                                                                 \n",
      " dense_2 (Dense)             (None, 128)               32896     \n",
      "                                                                 \n",
      " dropout_2 (Dropout)         (None, 128)               0         \n",
      "                                                                 \n",
      " dense_3 (Dense)             (None, 1)                 129       \n",
      "                                                                 \n",
      "=================================================================\n",
      "Total params: 68,481\n",
      "Trainable params: 68,481\n",
      "Non-trainable params: 0\n",
      "_________________________________________________________________\n",
      "None\n"
     ]
    }
   ],
   "source": [
    "# design/build the model\n",
    "model = tf.keras.Sequential([\n",
    "  tf.keras.layers.Input(shape=(NUM_COLUMNS,)),\n",
    "  tf.keras.layers.Dense(128, activation='relu'),\n",
    "  tf.keras.layers.Dropout(0.2),\n",
    "  tf.keras.layers.Dense(256, activation='relu'),\n",
    "  tf.keras.layers.Dropout(0.4),\n",
    "  tf.keras.layers.Dense(128, activation='relu'),\n",
    "  tf.keras.layers.Dropout(0.4),\n",
    "  tf.keras.layers.Dense(1, activation='sigmoid')\n",
    "])\n",
    "\n",
    "print(model.summary())"
   ]
  },
  {
   "cell_type": "code",
   "execution_count": 21,
   "metadata": {},
   "outputs": [],
   "source": [
    "# compile the model\n",
    "model.compile(optimizer=OPTIMIZER, loss=LOSS, metrics=METRICS)"
   ]
  },
  {
   "cell_type": "code",
   "execution_count": 22,
   "metadata": {},
   "outputs": [
    {
     "name": "stdout",
     "output_type": "stream",
     "text": [
      "Epoch 1/10\n"
     ]
    },
    {
     "name": "stderr",
     "output_type": "stream",
     "text": [
      "/opt/python/3.10.4/lib/python3.10/site-packages/tensorflow/python/util/dispatch.py:1082: UserWarning: \"`binary_crossentropy` received `from_logits=True`, but the `output` argument was produced by a sigmoid or softmax activation and thus does not represent logits. Was this intended?\"\n",
      "  return dispatch_target(*args, **kwargs)\n",
      "2022-06-15 17:58:17.152475: I tensorflow_io/core/kernels/kafka_kernels.cc:248] Kafka stream starts with current offset: 0\n"
     ]
    },
    {
     "name": "stdout",
     "output_type": "stream",
     "text": [
      "     27/Unknown - 2s 9ms/step - loss: 0.6439 - accuracy: 0.6181 "
     ]
    },
    {
     "name": "stderr",
     "output_type": "stream",
     "text": [
      "2022-06-15 17:58:18.051833: I tensorflow_io/core/kernels/kafka_kernels.cc:248] Kafka stream starts with current offset: 1024\n",
      "2022-06-15 17:58:18.262368: I tensorflow_io/core/kernels/kafka_kernels.cc:248] Kafka stream starts with current offset: 2048\n"
     ]
    },
    {
     "name": "stdout",
     "output_type": "stream",
     "text": [
      "     88/Unknown - 3s 12ms/step - loss: 0.5750 - accuracy: 0.6946"
     ]
    },
    {
     "name": "stderr",
     "output_type": "stream",
     "text": [
      "2022-06-15 17:58:18.816470: I tensorflow_io/core/kernels/kafka_kernels.cc:248] Kafka stream starts with current offset: 3072\n",
      "2022-06-15 17:58:18.888402: I tensorflow_io/core/kernels/kafka_kernels.cc:248] Kafka stream starts with current offset: 4096\n",
      "2022-06-15 17:58:18.961408: I tensorflow_io/core/kernels/kafka_kernels.cc:248] Kafka stream starts with current offset: 5120\n",
      "2022-06-15 17:58:19.044670: I tensorflow_io/core/kernels/kafka_kernels.cc:248] Kafka stream starts with current offset: 6144\n"
     ]
    },
    {
     "name": "stdout",
     "output_type": "stream",
     "text": [
      "    107/Unknown - 4s 15ms/step - loss: 0.5647 - accuracy: 0.7034"
     ]
    },
    {
     "name": "stderr",
     "output_type": "stream",
     "text": [
      "2022-06-15 17:58:19.602336: I tensorflow_io/core/kernels/kafka_kernels.cc:248] Kafka stream starts with current offset: 7168\n"
     ]
    },
    {
     "name": "stdout",
     "output_type": "stream",
     "text": [
      "    133/Unknown - 4s 17ms/step - loss: 0.5528 - accuracy: 0.7156"
     ]
    },
    {
     "name": "stderr",
     "output_type": "stream",
     "text": [
      "2022-06-15 17:58:20.174820: I tensorflow_io/core/kernels/kafka_kernels.cc:248] Kafka stream starts with current offset: 8192\n",
      "2022-06-15 17:58:20.265682: I tensorflow_io/core/kernels/kafka_kernels.cc:248] Kafka stream starts with current offset: 9216\n"
     ]
    },
    {
     "name": "stdout",
     "output_type": "stream",
     "text": [
      "    173/Unknown - 5s 17ms/step - loss: 0.5352 - accuracy: 0.7281"
     ]
    },
    {
     "name": "stderr",
     "output_type": "stream",
     "text": [
      "2022-06-15 17:58:20.812289: I tensorflow_io/core/kernels/kafka_kernels.cc:248] Kafka stream starts with current offset: 10240\n",
      "2022-06-15 17:58:20.896401: I tensorflow_io/core/kernels/kafka_kernels.cc:248] Kafka stream starts with current offset: 11264\n"
     ]
    },
    {
     "name": "stdout",
     "output_type": "stream",
     "text": [
      "    222/Unknown - 6s 16ms/step - loss: 0.5267 - accuracy: 0.7351"
     ]
    },
    {
     "name": "stderr",
     "output_type": "stream",
     "text": [
      "2022-06-15 17:58:21.451328: I tensorflow_io/core/kernels/kafka_kernels.cc:248] Kafka stream starts with current offset: 12288\n",
      "2022-06-15 17:58:21.534626: I tensorflow_io/core/kernels/kafka_kernels.cc:248] Kafka stream starts with current offset: 13312\n",
      "2022-06-15 17:58:21.608828: I tensorflow_io/core/kernels/kafka_kernels.cc:248] Kafka stream starts with current offset: 14336\n"
     ]
    },
    {
     "name": "stdout",
     "output_type": "stream",
     "text": [
      "    253/Unknown - 6s 15ms/step - loss: 0.5244 - accuracy: 0.7376"
     ]
    },
    {
     "name": "stderr",
     "output_type": "stream",
     "text": [
      "2022-06-15 17:58:21.695750: I tensorflow_io/core/kernels/kafka_kernels.cc:248] Kafka stream starts with current offset: 15360\n",
      "2022-06-15 17:58:21.771658: I tensorflow_io/core/kernels/kafka_kernels.cc:248] Kafka stream starts with current offset: 16384\n"
     ]
    },
    {
     "name": "stdout",
     "output_type": "stream",
     "text": [
      "    269/Unknown - 6s 16ms/step - loss: 0.5208 - accuracy: 0.7407"
     ]
    },
    {
     "name": "stderr",
     "output_type": "stream",
     "text": [
      "2022-06-15 17:58:22.323839: I tensorflow_io/core/kernels/kafka_kernels.cc:248] Kafka stream starts with current offset: 17408\n"
     ]
    },
    {
     "name": "stdout",
     "output_type": "stream",
     "text": [
      "    284/Unknown - 7s 17ms/step - loss: 0.5180 - accuracy: 0.7430"
     ]
    },
    {
     "name": "stderr",
     "output_type": "stream",
     "text": [
      "2022-06-15 17:58:22.882098: I tensorflow_io/core/kernels/kafka_kernels.cc:248] Kafka stream starts with current offset: 18432\n"
     ]
    },
    {
     "name": "stdout",
     "output_type": "stream",
     "text": [
      "    297/Unknown - 8s 18ms/step - loss: 0.5162 - accuracy: 0.7443"
     ]
    },
    {
     "name": "stderr",
     "output_type": "stream",
     "text": [
      "2022-06-15 17:58:23.442009: I tensorflow_io/core/kernels/kafka_kernels.cc:248] Kafka stream starts with current offset: 19456\n"
     ]
    },
    {
     "name": "stdout",
     "output_type": "stream",
     "text": [
      "    317/Unknown - 8s 19ms/step - loss: 0.5151 - accuracy: 0.7462"
     ]
    },
    {
     "name": "stderr",
     "output_type": "stream",
     "text": [
      "2022-06-15 17:58:23.976008: I tensorflow_io/core/kernels/kafka_kernels.cc:248] Kafka stream starts with current offset: 20480\n"
     ]
    },
    {
     "name": "stdout",
     "output_type": "stream",
     "text": [
      "    333/Unknown - 9s 20ms/step - loss: 0.5144 - accuracy: 0.7465"
     ]
    },
    {
     "name": "stderr",
     "output_type": "stream",
     "text": [
      "2022-06-15 17:58:24.537494: I tensorflow_io/core/kernels/kafka_kernels.cc:248] Kafka stream starts with current offset: 21504\n"
     ]
    },
    {
     "name": "stdout",
     "output_type": "stream",
     "text": [
      "    349/Unknown - 9s 20ms/step - loss: 0.5122 - accuracy: 0.7482"
     ]
    },
    {
     "name": "stderr",
     "output_type": "stream",
     "text": [
      "2022-06-15 17:58:25.085724: I tensorflow_io/core/kernels/kafka_kernels.cc:248] Kafka stream starts with current offset: 22528\n"
     ]
    },
    {
     "name": "stdout",
     "output_type": "stream",
     "text": [
      "    376/Unknown - 10s 20ms/step - loss: 0.5099 - accuracy: 0.7498"
     ]
    },
    {
     "name": "stderr",
     "output_type": "stream",
     "text": [
      "2022-06-15 17:58:25.631219: I tensorflow_io/core/kernels/kafka_kernels.cc:248] Kafka stream starts with current offset: 23552\n",
      "2022-06-15 17:58:25.701506: I tensorflow_io/core/kernels/kafka_kernels.cc:248] Kafka stream starts with current offset: 24576\n"
     ]
    },
    {
     "name": "stdout",
     "output_type": "stream",
     "text": [
      "    394/Unknown - 10s 21ms/step - loss: 0.5081 - accuracy: 0.7518"
     ]
    },
    {
     "name": "stderr",
     "output_type": "stream",
     "text": [
      "2022-06-15 17:58:26.256384: I tensorflow_io/core/kernels/kafka_kernels.cc:248] Kafka stream starts with current offset: 25600\n"
     ]
    },
    {
     "name": "stdout",
     "output_type": "stream",
     "text": [
      "    412/Unknown - 11s 21ms/step - loss: 0.5053 - accuracy: 0.7540"
     ]
    },
    {
     "name": "stderr",
     "output_type": "stream",
     "text": [
      "2022-06-15 17:58:26.812574: I tensorflow_io/core/kernels/kafka_kernels.cc:248] Kafka stream starts with current offset: 26624\n"
     ]
    },
    {
     "name": "stdout",
     "output_type": "stream",
     "text": [
      "    426/Unknown - 11s 22ms/step - loss: 0.5038 - accuracy: 0.7552"
     ]
    },
    {
     "name": "stderr",
     "output_type": "stream",
     "text": [
      "2022-06-15 17:58:27.366442: I tensorflow_io/core/kernels/kafka_kernels.cc:248] Kafka stream starts with current offset: 27648\n"
     ]
    },
    {
     "name": "stdout",
     "output_type": "stream",
     "text": [
      "    442/Unknown - 12s 22ms/step - loss: 0.5036 - accuracy: 0.7555"
     ]
    },
    {
     "name": "stderr",
     "output_type": "stream",
     "text": [
      "2022-06-15 17:58:27.919507: I tensorflow_io/core/kernels/kafka_kernels.cc:248] Kafka stream starts with current offset: 28672\n"
     ]
    },
    {
     "name": "stdout",
     "output_type": "stream",
     "text": [
      "    458/Unknown - 13s 23ms/step - loss: 0.5022 - accuracy: 0.7565"
     ]
    },
    {
     "name": "stderr",
     "output_type": "stream",
     "text": [
      "2022-06-15 17:58:28.473503: I tensorflow_io/core/kernels/kafka_kernels.cc:248] Kafka stream starts with current offset: 29696\n"
     ]
    },
    {
     "name": "stdout",
     "output_type": "stream",
     "text": [
      "    476/Unknown - 13s 23ms/step - loss: 0.5005 - accuracy: 0.7575"
     ]
    },
    {
     "name": "stderr",
     "output_type": "stream",
     "text": [
      "2022-06-15 17:58:29.025521: I tensorflow_io/core/kernels/kafka_kernels.cc:248] Kafka stream starts with current offset: 30720\n"
     ]
    },
    {
     "name": "stdout",
     "output_type": "stream",
     "text": [
      "    492/Unknown - 14s 24ms/step - loss: 0.4987 - accuracy: 0.7584"
     ]
    },
    {
     "name": "stderr",
     "output_type": "stream",
     "text": [
      "2022-06-15 17:58:29.559732: I tensorflow_io/core/kernels/kafka_kernels.cc:248] Kafka stream starts with current offset: 31744\n"
     ]
    },
    {
     "name": "stdout",
     "output_type": "stream",
     "text": [
      "    509/Unknown - 14s 24ms/step - loss: 0.4968 - accuracy: 0.7601"
     ]
    },
    {
     "name": "stderr",
     "output_type": "stream",
     "text": [
      "2022-06-15 17:58:30.089496: I tensorflow_io/core/kernels/kafka_kernels.cc:248] Kafka stream starts with current offset: 32768\n"
     ]
    },
    {
     "name": "stdout",
     "output_type": "stream",
     "text": [
      "    527/Unknown - 15s 24ms/step - loss: 0.4952 - accuracy: 0.7612"
     ]
    },
    {
     "name": "stderr",
     "output_type": "stream",
     "text": [
      "2022-06-15 17:58:30.623633: I tensorflow_io/core/kernels/kafka_kernels.cc:248] Kafka stream starts with current offset: 33792\n"
     ]
    },
    {
     "name": "stdout",
     "output_type": "stream",
     "text": [
      "    539/Unknown - 15s 24ms/step - loss: 0.4943 - accuracy: 0.7619"
     ]
    },
    {
     "name": "stderr",
     "output_type": "stream",
     "text": [
      "2022-06-15 17:58:31.193229: I tensorflow_io/core/kernels/kafka_kernels.cc:248] Kafka stream starts with current offset: 34816\n"
     ]
    },
    {
     "name": "stdout",
     "output_type": "stream",
     "text": [
      "    553/Unknown - 16s 25ms/step - loss: 0.4936 - accuracy: 0.7625"
     ]
    },
    {
     "name": "stderr",
     "output_type": "stream",
     "text": [
      "2022-06-15 17:58:31.752005: I tensorflow_io/core/kernels/kafka_kernels.cc:248] Kafka stream starts with current offset: 35840\n"
     ]
    },
    {
     "name": "stdout",
     "output_type": "stream",
     "text": [
      "    574/Unknown - 16s 25ms/step - loss: 0.4933 - accuracy: 0.7629"
     ]
    },
    {
     "name": "stderr",
     "output_type": "stream",
     "text": [
      "2022-06-15 17:58:32.280896: I tensorflow_io/core/kernels/kafka_kernels.cc:248] Kafka stream starts with current offset: 36864\n"
     ]
    },
    {
     "name": "stdout",
     "output_type": "stream",
     "text": [
      "    588/Unknown - 17s 25ms/step - loss: 0.4924 - accuracy: 0.7636"
     ]
    },
    {
     "name": "stderr",
     "output_type": "stream",
     "text": [
      "2022-06-15 17:58:32.809842: I tensorflow_io/core/kernels/kafka_kernels.cc:248] Kafka stream starts with current offset: 37888\n"
     ]
    },
    {
     "name": "stdout",
     "output_type": "stream",
     "text": [
      "    607/Unknown - 17s 25ms/step - loss: 0.4919 - accuracy: 0.7638"
     ]
    },
    {
     "name": "stderr",
     "output_type": "stream",
     "text": [
      "2022-06-15 17:58:33.341528: I tensorflow_io/core/kernels/kafka_kernels.cc:248] Kafka stream starts with current offset: 38912\n"
     ]
    },
    {
     "name": "stdout",
     "output_type": "stream",
     "text": [
      "    623/Unknown - 18s 26ms/step - loss: 0.4917 - accuracy: 0.7639"
     ]
    },
    {
     "name": "stderr",
     "output_type": "stream",
     "text": [
      "2022-06-15 17:58:33.858105: I tensorflow_io/core/kernels/kafka_kernels.cc:248] Kafka stream starts with current offset: 39936\n"
     ]
    },
    {
     "name": "stdout",
     "output_type": "stream",
     "text": [
      "    636/Unknown - 19s 26ms/step - loss: 0.4911 - accuracy: 0.7643"
     ]
    },
    {
     "name": "stderr",
     "output_type": "stream",
     "text": [
      "2022-06-15 17:58:34.402308: I tensorflow_io/core/kernels/kafka_kernels.cc:248] Kafka stream starts with current offset: 40960\n"
     ]
    },
    {
     "name": "stdout",
     "output_type": "stream",
     "text": [
      "    655/Unknown - 19s 26ms/step - loss: 0.4908 - accuracy: 0.7645"
     ]
    },
    {
     "name": "stderr",
     "output_type": "stream",
     "text": [
      "2022-06-15 17:58:34.931672: I tensorflow_io/core/kernels/kafka_kernels.cc:248] Kafka stream starts with current offset: 41984\n"
     ]
    },
    {
     "name": "stdout",
     "output_type": "stream",
     "text": [
      "    669/Unknown - 20s 26ms/step - loss: 0.4902 - accuracy: 0.7648"
     ]
    },
    {
     "name": "stderr",
     "output_type": "stream",
     "text": [
      "2022-06-15 17:58:35.469574: I tensorflow_io/core/kernels/kafka_kernels.cc:248] Kafka stream starts with current offset: 43008\n"
     ]
    },
    {
     "name": "stdout",
     "output_type": "stream",
     "text": [
      "    686/Unknown - 20s 26ms/step - loss: 0.4892 - accuracy: 0.7654"
     ]
    },
    {
     "name": "stderr",
     "output_type": "stream",
     "text": [
      "2022-06-15 17:58:36.000788: I tensorflow_io/core/kernels/kafka_kernels.cc:248] Kafka stream starts with current offset: 44032\n"
     ]
    },
    {
     "name": "stdout",
     "output_type": "stream",
     "text": [
      "    688/Unknown - 21s 27ms/step - loss: 0.4891 - accuracy: 0.7655"
     ]
    },
    {
     "name": "stderr",
     "output_type": "stream",
     "text": [
      "2022-06-15 17:58:36.520870: I tensorflow_io/core/kernels/kafka_kernels.cc:248] Kafka stream starts with current offset: 45056\n"
     ]
    },
    {
     "name": "stdout",
     "output_type": "stream",
     "text": [
      "    704/Unknown - 21s 27ms/step - loss: 0.4884 - accuracy: 0.7660"
     ]
    },
    {
     "name": "stderr",
     "output_type": "stream",
     "text": [
      "2022-06-15 17:58:37.040790: I tensorflow_io/core/kernels/kafka_kernels.cc:248] Kafka stream starts with current offset: 46080\n"
     ]
    },
    {
     "name": "stdout",
     "output_type": "stream",
     "text": [
      "    735/Unknown - 22s 27ms/step - loss: 0.4881 - accuracy: 0.7659"
     ]
    },
    {
     "name": "stderr",
     "output_type": "stream",
     "text": [
      "2022-06-15 17:58:37.573500: I tensorflow_io/core/kernels/kafka_kernels.cc:248] Kafka stream starts with current offset: 47104\n"
     ]
    },
    {
     "name": "stdout",
     "output_type": "stream",
     "text": [
      "    736/Unknown - 22s 27ms/step - loss: 0.4881 - accuracy: 0.7659"
     ]
    },
    {
     "name": "stderr",
     "output_type": "stream",
     "text": [
      "2022-06-15 17:58:38.096223: I tensorflow_io/core/kernels/kafka_kernels.cc:248] Kafka stream starts with current offset: 48128\n"
     ]
    },
    {
     "name": "stdout",
     "output_type": "stream",
     "text": [
      "    752/Unknown - 23s 27ms/step - loss: 0.4875 - accuracy: 0.7664"
     ]
    },
    {
     "name": "stderr",
     "output_type": "stream",
     "text": [
      "2022-06-15 17:58:38.616499: I tensorflow_io/core/kernels/kafka_kernels.cc:248] Kafka stream starts with current offset: 49152\n"
     ]
    },
    {
     "name": "stdout",
     "output_type": "stream",
     "text": [
      "    768/Unknown - 23s 27ms/step - loss: 0.4876 - accuracy: 0.7665"
     ]
    },
    {
     "name": "stderr",
     "output_type": "stream",
     "text": [
      "2022-06-15 17:58:39.127434: I tensorflow_io/core/kernels/kafka_kernels.cc:248] Kafka stream starts with current offset: 50176\n"
     ]
    },
    {
     "name": "stdout",
     "output_type": "stream",
     "text": [
      "    784/Unknown - 24s 28ms/step - loss: 0.4871 - accuracy: 0.7668"
     ]
    },
    {
     "name": "stderr",
     "output_type": "stream",
     "text": [
      "2022-06-15 17:58:39.634202: I tensorflow_io/core/kernels/kafka_kernels.cc:248] Kafka stream starts with current offset: 51200\n"
     ]
    },
    {
     "name": "stdout",
     "output_type": "stream",
     "text": [
      "    800/Unknown - 24s 28ms/step - loss: 0.4866 - accuracy: 0.7669"
     ]
    },
    {
     "name": "stderr",
     "output_type": "stream",
     "text": [
      "2022-06-15 17:58:40.143108: I tensorflow_io/core/kernels/kafka_kernels.cc:248] Kafka stream starts with current offset: 52224\n"
     ]
    },
    {
     "name": "stdout",
     "output_type": "stream",
     "text": [
      "    830/Unknown - 25s 27ms/step - loss: 0.4856 - accuracy: 0.7675"
     ]
    },
    {
     "name": "stderr",
     "output_type": "stream",
     "text": [
      "2022-06-15 17:58:40.654675: I tensorflow_io/core/kernels/kafka_kernels.cc:248] Kafka stream starts with current offset: 53248\n"
     ]
    },
    {
     "name": "stdout",
     "output_type": "stream",
     "text": [
      "    846/Unknown - 25s 27ms/step - loss: 0.4847 - accuracy: 0.7682"
     ]
    },
    {
     "name": "stderr",
     "output_type": "stream",
     "text": [
      "2022-06-15 17:58:41.168258: I tensorflow_io/core/kernels/kafka_kernels.cc:248] Kafka stream starts with current offset: 54272\n"
     ]
    },
    {
     "name": "stdout",
     "output_type": "stream",
     "text": [
      "    848/Unknown - 26s 28ms/step - loss: 0.4847 - accuracy: 0.7682"
     ]
    },
    {
     "name": "stderr",
     "output_type": "stream",
     "text": [
      "2022-06-15 17:58:41.680891: I tensorflow_io/core/kernels/kafka_kernels.cc:248] Kafka stream starts with current offset: 55296\n"
     ]
    },
    {
     "name": "stdout",
     "output_type": "stream",
     "text": [
      "    864/Unknown - 26s 28ms/step - loss: 0.4841 - accuracy: 0.7684"
     ]
    },
    {
     "name": "stderr",
     "output_type": "stream",
     "text": [
      "2022-06-15 17:58:42.183749: I tensorflow_io/core/kernels/kafka_kernels.cc:248] Kafka stream starts with current offset: 56320\n"
     ]
    },
    {
     "name": "stdout",
     "output_type": "stream",
     "text": [
      "    880/Unknown - 27s 28ms/step - loss: 0.4837 - accuracy: 0.7684"
     ]
    },
    {
     "name": "stderr",
     "output_type": "stream",
     "text": [
      "2022-06-15 17:58:42.694100: I tensorflow_io/core/kernels/kafka_kernels.cc:248] Kafka stream starts with current offset: 57344\n"
     ]
    },
    {
     "name": "stdout",
     "output_type": "stream",
     "text": [
      "    896/Unknown - 27s 28ms/step - loss: 0.4838 - accuracy: 0.7685"
     ]
    },
    {
     "name": "stderr",
     "output_type": "stream",
     "text": [
      "2022-06-15 17:58:43.193240: I tensorflow_io/core/kernels/kafka_kernels.cc:248] Kafka stream starts with current offset: 58368\n"
     ]
    },
    {
     "name": "stdout",
     "output_type": "stream",
     "text": [
      "    912/Unknown - 28s 28ms/step - loss: 0.4835 - accuracy: 0.7685"
     ]
    },
    {
     "name": "stderr",
     "output_type": "stream",
     "text": [
      "2022-06-15 17:58:43.695734: I tensorflow_io/core/kernels/kafka_kernels.cc:248] Kafka stream starts with current offset: 59392\n"
     ]
    },
    {
     "name": "stdout",
     "output_type": "stream",
     "text": [
      "938/938 [==============================] - 31s 30ms/step - loss: 0.4826 - accuracy: 0.7690\n",
      "Epoch 2/10\n",
      " 22/938 [..............................] - ETA: 4s - loss: 0.4454 - accuracy: 0.8040"
     ]
    },
    {
     "name": "stderr",
     "output_type": "stream",
     "text": [
      "2022-06-15 17:58:46.619767: I tensorflow_io/core/kernels/kafka_kernels.cc:248] Kafka stream starts with current offset: 0\n",
      "2022-06-15 17:58:46.727295: I tensorflow_io/core/kernels/kafka_kernels.cc:248] Kafka stream starts with current offset: 1024\n"
     ]
    },
    {
     "name": "stdout",
     "output_type": "stream",
     "text": [
      " 31/938 [..............................] - ETA: 4s - loss: 0.4418 - accuracy: 0.8024"
     ]
    },
    {
     "name": "stderr",
     "output_type": "stream",
     "text": [
      "2022-06-15 17:58:46.821508: I tensorflow_io/core/kernels/kafka_kernels.cc:248] Kafka stream starts with current offset: 2048\n"
     ]
    },
    {
     "name": "stdout",
     "output_type": "stream",
     "text": [
      " 41/938 [>.............................] - ETA: 16s - loss: 0.4441 - accuracy: 0.7999"
     ]
    },
    {
     "name": "stderr",
     "output_type": "stream",
     "text": [
      "2022-06-15 17:58:47.410329: I tensorflow_io/core/kernels/kafka_kernels.cc:248] Kafka stream starts with current offset: 3072\n"
     ]
    },
    {
     "name": "stdout",
     "output_type": "stream",
     "text": [
      " 59/938 [>.............................] - ETA: 19s - loss: 0.4548 - accuracy: 0.7924"
     ]
    },
    {
     "name": "stderr",
     "output_type": "stream",
     "text": [
      "2022-06-15 17:58:47.982245: I tensorflow_io/core/kernels/kafka_kernels.cc:248] Kafka stream starts with current offset: 4096\n"
     ]
    },
    {
     "name": "stdout",
     "output_type": "stream",
     "text": [
      "102/938 [==>...........................] - ETA: 17s - loss: 0.4569 - accuracy: 0.7914"
     ]
    },
    {
     "name": "stderr",
     "output_type": "stream",
     "text": [
      "2022-06-15 17:58:48.587847: I tensorflow_io/core/kernels/kafka_kernels.cc:248] Kafka stream starts with current offset: 5120\n",
      "2022-06-15 17:58:48.702231: I tensorflow_io/core/kernels/kafka_kernels.cc:248] Kafka stream starts with current offset: 6144\n"
     ]
    },
    {
     "name": "stdout",
     "output_type": "stream",
     "text": [
      "133/938 [===>..........................] - ETA: 14s - loss: 0.4573 - accuracy: 0.7895"
     ]
    },
    {
     "name": "stderr",
     "output_type": "stream",
     "text": [
      "2022-06-15 17:58:48.802415: I tensorflow_io/core/kernels/kafka_kernels.cc:248] Kafka stream starts with current offset: 7168\n",
      "2022-06-15 17:58:48.910337: I tensorflow_io/core/kernels/kafka_kernels.cc:248] Kafka stream starts with current offset: 8192\n"
     ]
    },
    {
     "name": "stdout",
     "output_type": "stream",
     "text": [
      "165/938 [====>.........................] - ETA: 11s - loss: 0.4593 - accuracy: 0.7878"
     ]
    },
    {
     "name": "stderr",
     "output_type": "stream",
     "text": [
      "2022-06-15 17:58:49.026841: I tensorflow_io/core/kernels/kafka_kernels.cc:248] Kafka stream starts with current offset: 9216\n",
      "2022-06-15 17:58:49.133599: I tensorflow_io/core/kernels/kafka_kernels.cc:248] Kafka stream starts with current offset: 10240\n",
      "2022-06-15 17:58:49.218870: I tensorflow_io/core/kernels/kafka_kernels.cc:248] Kafka stream starts with current offset: 11264\n"
     ]
    },
    {
     "name": "stdout",
     "output_type": "stream",
     "text": [
      "218/938 [=====>........................] - ETA: 9s - loss: 0.4623 - accuracy: 0.7865"
     ]
    },
    {
     "name": "stderr",
     "output_type": "stream",
     "text": [
      "2022-06-15 17:58:49.314700: I tensorflow_io/core/kernels/kafka_kernels.cc:248] Kafka stream starts with current offset: 12288\n",
      "2022-06-15 17:58:49.403844: I tensorflow_io/core/kernels/kafka_kernels.cc:248] Kafka stream starts with current offset: 13312\n",
      "2022-06-15 17:58:49.509858: I tensorflow_io/core/kernels/kafka_kernels.cc:248] Kafka stream starts with current offset: 14336\n"
     ]
    },
    {
     "name": "stdout",
     "output_type": "stream",
     "text": [
      "236/938 [======>.......................] - ETA: 10s - loss: 0.4636 - accuracy: 0.7854"
     ]
    },
    {
     "name": "stderr",
     "output_type": "stream",
     "text": [
      "2022-06-15 17:58:50.077243: I tensorflow_io/core/kernels/kafka_kernels.cc:248] Kafka stream starts with current offset: 15360\n"
     ]
    },
    {
     "name": "stdout",
     "output_type": "stream",
     "text": [
      "254/938 [=======>......................] - ETA: 10s - loss: 0.4643 - accuracy: 0.7850"
     ]
    },
    {
     "name": "stderr",
     "output_type": "stream",
     "text": [
      "2022-06-15 17:58:50.633505: I tensorflow_io/core/kernels/kafka_kernels.cc:248] Kafka stream starts with current offset: 16384\n"
     ]
    },
    {
     "name": "stdout",
     "output_type": "stream",
     "text": [
      "270/938 [=======>......................] - ETA: 11s - loss: 0.4631 - accuracy: 0.7859"
     ]
    },
    {
     "name": "stderr",
     "output_type": "stream",
     "text": [
      "2022-06-15 17:58:51.171573: I tensorflow_io/core/kernels/kafka_kernels.cc:248] Kafka stream starts with current offset: 17408\n"
     ]
    },
    {
     "name": "stdout",
     "output_type": "stream",
     "text": [
      "285/938 [========>.....................] - ETA: 11s - loss: 0.4618 - accuracy: 0.7865"
     ]
    },
    {
     "name": "stderr",
     "output_type": "stream",
     "text": [
      "2022-06-15 17:58:51.734024: I tensorflow_io/core/kernels/kafka_kernels.cc:248] Kafka stream starts with current offset: 18432\n"
     ]
    },
    {
     "name": "stdout",
     "output_type": "stream",
     "text": [
      "301/938 [========>.....................] - ETA: 11s - loss: 0.4624 - accuracy: 0.7862"
     ]
    },
    {
     "name": "stderr",
     "output_type": "stream",
     "text": [
      "2022-06-15 17:58:52.281791: I tensorflow_io/core/kernels/kafka_kernels.cc:248] Kafka stream starts with current offset: 19456\n"
     ]
    },
    {
     "name": "stdout",
     "output_type": "stream",
     "text": [
      "319/938 [=========>....................] - ETA: 12s - loss: 0.4634 - accuracy: 0.7861"
     ]
    },
    {
     "name": "stderr",
     "output_type": "stream",
     "text": [
      "2022-06-15 17:58:52.836981: I tensorflow_io/core/kernels/kafka_kernels.cc:248] Kafka stream starts with current offset: 20480\n"
     ]
    },
    {
     "name": "stdout",
     "output_type": "stream",
     "text": [
      "334/938 [=========>....................] - ETA: 12s - loss: 0.4632 - accuracy: 0.7858"
     ]
    },
    {
     "name": "stderr",
     "output_type": "stream",
     "text": [
      "2022-06-15 17:58:53.379603: I tensorflow_io/core/kernels/kafka_kernels.cc:248] Kafka stream starts with current offset: 21504\n"
     ]
    },
    {
     "name": "stdout",
     "output_type": "stream",
     "text": [
      "351/938 [==========>...................] - ETA: 12s - loss: 0.4629 - accuracy: 0.7857"
     ]
    },
    {
     "name": "stderr",
     "output_type": "stream",
     "text": [
      "2022-06-15 17:58:53.934793: I tensorflow_io/core/kernels/kafka_kernels.cc:248] Kafka stream starts with current offset: 22528\n"
     ]
    },
    {
     "name": "stdout",
     "output_type": "stream",
     "text": [
      "365/938 [==========>...................] - ETA: 12s - loss: 0.4624 - accuracy: 0.7863"
     ]
    },
    {
     "name": "stderr",
     "output_type": "stream",
     "text": [
      "2022-06-15 17:58:54.493493: I tensorflow_io/core/kernels/kafka_kernels.cc:248] Kafka stream starts with current offset: 23552\n"
     ]
    },
    {
     "name": "stdout",
     "output_type": "stream",
     "text": [
      "382/938 [===========>..................] - ETA: 12s - loss: 0.4619 - accuracy: 0.7865"
     ]
    },
    {
     "name": "stderr",
     "output_type": "stream",
     "text": [
      "2022-06-15 17:58:55.035335: I tensorflow_io/core/kernels/kafka_kernels.cc:248] Kafka stream starts with current offset: 24576\n"
     ]
    },
    {
     "name": "stdout",
     "output_type": "stream",
     "text": [
      "398/938 [===========>..................] - ETA: 12s - loss: 0.4612 - accuracy: 0.7876"
     ]
    },
    {
     "name": "stderr",
     "output_type": "stream",
     "text": [
      "2022-06-15 17:58:55.581670: I tensorflow_io/core/kernels/kafka_kernels.cc:248] Kafka stream starts with current offset: 25600\n"
     ]
    },
    {
     "name": "stdout",
     "output_type": "stream",
     "text": [
      "414/938 [============>.................] - ETA: 12s - loss: 0.4601 - accuracy: 0.7882"
     ]
    },
    {
     "name": "stderr",
     "output_type": "stream",
     "text": [
      "2022-06-15 17:58:56.127913: I tensorflow_io/core/kernels/kafka_kernels.cc:248] Kafka stream starts with current offset: 26624\n"
     ]
    },
    {
     "name": "stdout",
     "output_type": "stream",
     "text": [
      "431/938 [============>.................] - ETA: 11s - loss: 0.4601 - accuracy: 0.7885"
     ]
    },
    {
     "name": "stderr",
     "output_type": "stream",
     "text": [
      "2022-06-15 17:58:56.675422: I tensorflow_io/core/kernels/kafka_kernels.cc:248] Kafka stream starts with current offset: 27648\n"
     ]
    },
    {
     "name": "stdout",
     "output_type": "stream",
     "text": [
      "445/938 [=============>................] - ETA: 11s - loss: 0.4613 - accuracy: 0.7875"
     ]
    },
    {
     "name": "stderr",
     "output_type": "stream",
     "text": [
      "2022-06-15 17:58:57.223435: I tensorflow_io/core/kernels/kafka_kernels.cc:248] Kafka stream starts with current offset: 28672\n"
     ]
    },
    {
     "name": "stdout",
     "output_type": "stream",
     "text": [
      "462/938 [=============>................] - ETA: 11s - loss: 0.4606 - accuracy: 0.7875"
     ]
    },
    {
     "name": "stderr",
     "output_type": "stream",
     "text": [
      "2022-06-15 17:58:57.761690: I tensorflow_io/core/kernels/kafka_kernels.cc:248] Kafka stream starts with current offset: 29696\n"
     ]
    },
    {
     "name": "stdout",
     "output_type": "stream",
     "text": [
      "479/938 [==============>...............] - ETA: 11s - loss: 0.4598 - accuracy: 0.7881"
     ]
    },
    {
     "name": "stderr",
     "output_type": "stream",
     "text": [
      "2022-06-15 17:58:58.288885: I tensorflow_io/core/kernels/kafka_kernels.cc:248] Kafka stream starts with current offset: 30720\n"
     ]
    },
    {
     "name": "stdout",
     "output_type": "stream",
     "text": [
      "495/938 [==============>...............] - ETA: 10s - loss: 0.4587 - accuracy: 0.7886"
     ]
    },
    {
     "name": "stderr",
     "output_type": "stream",
     "text": [
      "2022-06-15 17:58:58.830980: I tensorflow_io/core/kernels/kafka_kernels.cc:248] Kafka stream starts with current offset: 31744\n"
     ]
    },
    {
     "name": "stdout",
     "output_type": "stream",
     "text": [
      "508/938 [===============>..............] - ETA: 10s - loss: 0.4582 - accuracy: 0.7888"
     ]
    },
    {
     "name": "stderr",
     "output_type": "stream",
     "text": [
      "2022-06-15 17:58:59.385526: I tensorflow_io/core/kernels/kafka_kernels.cc:248] Kafka stream starts with current offset: 32768\n"
     ]
    },
    {
     "name": "stdout",
     "output_type": "stream",
     "text": [
      "527/938 [===============>..............] - ETA: 10s - loss: 0.4576 - accuracy: 0.7889"
     ]
    },
    {
     "name": "stderr",
     "output_type": "stream",
     "text": [
      "2022-06-15 17:58:59.915590: I tensorflow_io/core/kernels/kafka_kernels.cc:248] Kafka stream starts with current offset: 33792\n"
     ]
    },
    {
     "name": "stdout",
     "output_type": "stream",
     "text": [
      "543/938 [================>.............] - ETA: 10s - loss: 0.4578 - accuracy: 0.7886"
     ]
    },
    {
     "name": "stderr",
     "output_type": "stream",
     "text": [
      "2022-06-15 17:59:00.459289: I tensorflow_io/core/kernels/kafka_kernels.cc:248] Kafka stream starts with current offset: 34816\n"
     ]
    },
    {
     "name": "stdout",
     "output_type": "stream",
     "text": [
      "558/938 [================>.............] - ETA: 9s - loss: 0.4577 - accuracy: 0.7888 "
     ]
    },
    {
     "name": "stderr",
     "output_type": "stream",
     "text": [
      "2022-06-15 17:59:00.998826: I tensorflow_io/core/kernels/kafka_kernels.cc:248] Kafka stream starts with current offset: 35840\n"
     ]
    },
    {
     "name": "stdout",
     "output_type": "stream",
     "text": [
      "574/938 [=================>............] - ETA: 9s - loss: 0.4581 - accuracy: 0.7886 "
     ]
    },
    {
     "name": "stderr",
     "output_type": "stream",
     "text": [
      "2022-06-15 17:59:01.534277: I tensorflow_io/core/kernels/kafka_kernels.cc:248] Kafka stream starts with current offset: 36864\n"
     ]
    },
    {
     "name": "stdout",
     "output_type": "stream",
     "text": [
      "590/938 [=================>............] - ETA: 9s - loss: 0.4578 - accuracy: 0.7886"
     ]
    },
    {
     "name": "stderr",
     "output_type": "stream",
     "text": [
      "2022-06-15 17:59:02.060184: I tensorflow_io/core/kernels/kafka_kernels.cc:248] Kafka stream starts with current offset: 37888\n"
     ]
    },
    {
     "name": "stdout",
     "output_type": "stream",
     "text": [
      "603/938 [==================>...........] - ETA: 8s - loss: 0.4581 - accuracy: 0.7882"
     ]
    },
    {
     "name": "stderr",
     "output_type": "stream",
     "text": [
      "2022-06-15 17:59:02.592051: I tensorflow_io/core/kernels/kafka_kernels.cc:248] Kafka stream starts with current offset: 38912\n"
     ]
    },
    {
     "name": "stdout",
     "output_type": "stream",
     "text": [
      "621/938 [==================>...........] - ETA: 8s - loss: 0.4588 - accuracy: 0.7877"
     ]
    },
    {
     "name": "stderr",
     "output_type": "stream",
     "text": [
      "2022-06-15 17:59:03.117801: I tensorflow_io/core/kernels/kafka_kernels.cc:248] Kafka stream starts with current offset: 39936\n"
     ]
    },
    {
     "name": "stdout",
     "output_type": "stream",
     "text": [
      "636/938 [===================>..........] - ETA: 8s - loss: 0.4588 - accuracy: 0.7878"
     ]
    },
    {
     "name": "stderr",
     "output_type": "stream",
     "text": [
      "2022-06-15 17:59:03.643392: I tensorflow_io/core/kernels/kafka_kernels.cc:248] Kafka stream starts with current offset: 40960\n"
     ]
    },
    {
     "name": "stdout",
     "output_type": "stream",
     "text": [
      "654/938 [===================>..........] - ETA: 7s - loss: 0.4591 - accuracy: 0.7875"
     ]
    },
    {
     "name": "stderr",
     "output_type": "stream",
     "text": [
      "2022-06-15 17:59:04.160143: I tensorflow_io/core/kernels/kafka_kernels.cc:248] Kafka stream starts with current offset: 41984\n"
     ]
    },
    {
     "name": "stdout",
     "output_type": "stream",
     "text": [
      "670/938 [====================>.........] - ETA: 7s - loss: 0.4588 - accuracy: 0.7875"
     ]
    },
    {
     "name": "stderr",
     "output_type": "stream",
     "text": [
      "2022-06-15 17:59:04.695479: I tensorflow_io/core/kernels/kafka_kernels.cc:248] Kafka stream starts with current offset: 43008\n"
     ]
    },
    {
     "name": "stdout",
     "output_type": "stream",
     "text": [
      "684/938 [====================>.........] - ETA: 6s - loss: 0.4582 - accuracy: 0.7880"
     ]
    },
    {
     "name": "stderr",
     "output_type": "stream",
     "text": [
      "2022-06-15 17:59:05.228814: I tensorflow_io/core/kernels/kafka_kernels.cc:248] Kafka stream starts with current offset: 44032\n"
     ]
    },
    {
     "name": "stdout",
     "output_type": "stream",
     "text": [
      "703/938 [=====================>........] - ETA: 6s - loss: 0.4580 - accuracy: 0.7881"
     ]
    },
    {
     "name": "stderr",
     "output_type": "stream",
     "text": [
      "2022-06-15 17:59:05.750233: I tensorflow_io/core/kernels/kafka_kernels.cc:248] Kafka stream starts with current offset: 45056\n"
     ]
    },
    {
     "name": "stdout",
     "output_type": "stream",
     "text": [
      "719/938 [=====================>........] - ETA: 5s - loss: 0.4583 - accuracy: 0.7878"
     ]
    },
    {
     "name": "stderr",
     "output_type": "stream",
     "text": [
      "2022-06-15 17:59:06.269540: I tensorflow_io/core/kernels/kafka_kernels.cc:248] Kafka stream starts with current offset: 46080\n"
     ]
    },
    {
     "name": "stdout",
     "output_type": "stream",
     "text": [
      "734/938 [======================>.......] - ETA: 5s - loss: 0.4580 - accuracy: 0.7881"
     ]
    },
    {
     "name": "stderr",
     "output_type": "stream",
     "text": [
      "2022-06-15 17:59:06.796187: I tensorflow_io/core/kernels/kafka_kernels.cc:248] Kafka stream starts with current offset: 47104\n"
     ]
    },
    {
     "name": "stdout",
     "output_type": "stream",
     "text": [
      "736/938 [======================>.......] - ETA: 5s - loss: 0.4579 - accuracy: 0.7881"
     ]
    },
    {
     "name": "stderr",
     "output_type": "stream",
     "text": [
      "2022-06-15 17:59:07.303160: I tensorflow_io/core/kernels/kafka_kernels.cc:248] Kafka stream starts with current offset: 48128\n"
     ]
    },
    {
     "name": "stdout",
     "output_type": "stream",
     "text": [
      "767/938 [=======================>......] - ETA: 4s - loss: 0.4578 - accuracy: 0.7881"
     ]
    },
    {
     "name": "stderr",
     "output_type": "stream",
     "text": [
      "2022-06-15 17:59:07.822515: I tensorflow_io/core/kernels/kafka_kernels.cc:248] Kafka stream starts with current offset: 49152\n"
     ]
    },
    {
     "name": "stdout",
     "output_type": "stream",
     "text": [
      "783/938 [========================>.....] - ETA: 4s - loss: 0.4581 - accuracy: 0.7877"
     ]
    },
    {
     "name": "stderr",
     "output_type": "stream",
     "text": [
      "2022-06-15 17:59:08.334825: I tensorflow_io/core/kernels/kafka_kernels.cc:248] Kafka stream starts with current offset: 50176\n"
     ]
    },
    {
     "name": "stdout",
     "output_type": "stream",
     "text": [
      "784/938 [========================>.....] - ETA: 4s - loss: 0.4580 - accuracy: 0.7878"
     ]
    },
    {
     "name": "stderr",
     "output_type": "stream",
     "text": [
      "2022-06-15 17:59:08.843881: I tensorflow_io/core/kernels/kafka_kernels.cc:248] Kafka stream starts with current offset: 51200\n"
     ]
    },
    {
     "name": "stdout",
     "output_type": "stream",
     "text": [
      "810/938 [========================>.....] - ETA: 3s - loss: 0.4579 - accuracy: 0.7877"
     ]
    },
    {
     "name": "stderr",
     "output_type": "stream",
     "text": [
      "2022-06-15 17:59:09.385468: I tensorflow_io/core/kernels/kafka_kernels.cc:248] Kafka stream starts with current offset: 52224\n"
     ]
    },
    {
     "name": "stdout",
     "output_type": "stream",
     "text": [
      "816/938 [=========================>....] - ETA: 3s - loss: 0.4578 - accuracy: 0.7878"
     ]
    },
    {
     "name": "stderr",
     "output_type": "stream",
     "text": [
      "2022-06-15 17:59:09.861979: I tensorflow_io/core/kernels/kafka_kernels.cc:248] Kafka stream starts with current offset: 53248\n"
     ]
    },
    {
     "name": "stdout",
     "output_type": "stream",
     "text": [
      "847/938 [==========================>...] - ETA: 2s - loss: 0.4571 - accuracy: 0.7886"
     ]
    },
    {
     "name": "stderr",
     "output_type": "stream",
     "text": [
      "2022-06-15 17:59:10.379121: I tensorflow_io/core/kernels/kafka_kernels.cc:248] Kafka stream starts with current offset: 54272\n"
     ]
    },
    {
     "name": "stdout",
     "output_type": "stream",
     "text": [
      "848/938 [==========================>...] - ETA: 2s - loss: 0.4571 - accuracy: 0.7885"
     ]
    },
    {
     "name": "stderr",
     "output_type": "stream",
     "text": [
      "2022-06-15 17:59:10.880360: I tensorflow_io/core/kernels/kafka_kernels.cc:248] Kafka stream starts with current offset: 55296\n"
     ]
    },
    {
     "name": "stdout",
     "output_type": "stream",
     "text": [
      "875/938 [==========================>...] - ETA: 1s - loss: 0.4572 - accuracy: 0.7884"
     ]
    },
    {
     "name": "stderr",
     "output_type": "stream",
     "text": [
      "2022-06-15 17:59:11.406301: I tensorflow_io/core/kernels/kafka_kernels.cc:248] Kafka stream starts with current offset: 56320\n"
     ]
    },
    {
     "name": "stdout",
     "output_type": "stream",
     "text": [
      "891/938 [===========================>..] - ETA: 1s - loss: 0.4576 - accuracy: 0.7882"
     ]
    },
    {
     "name": "stderr",
     "output_type": "stream",
     "text": [
      "2022-06-15 17:59:11.930317: I tensorflow_io/core/kernels/kafka_kernels.cc:248] Kafka stream starts with current offset: 57344\n"
     ]
    },
    {
     "name": "stdout",
     "output_type": "stream",
     "text": [
      "896/938 [===========================>..] - ETA: 1s - loss: 0.4577 - accuracy: 0.7881"
     ]
    },
    {
     "name": "stderr",
     "output_type": "stream",
     "text": [
      "2022-06-15 17:59:12.414982: I tensorflow_io/core/kernels/kafka_kernels.cc:248] Kafka stream starts with current offset: 58368\n"
     ]
    },
    {
     "name": "stdout",
     "output_type": "stream",
     "text": [
      "927/938 [============================>.] - ETA: 0s - loss: 0.4582 - accuracy: 0.7874"
     ]
    },
    {
     "name": "stderr",
     "output_type": "stream",
     "text": [
      "2022-06-15 17:59:12.917625: I tensorflow_io/core/kernels/kafka_kernels.cc:248] Kafka stream starts with current offset: 59392\n"
     ]
    },
    {
     "name": "stdout",
     "output_type": "stream",
     "text": [
      "938/938 [==============================] - 27s 29ms/step - loss: 0.4576 - accuracy: 0.7879\n",
      "Epoch 3/10\n"
     ]
    },
    {
     "name": "stderr",
     "output_type": "stream",
     "text": [
      "2022-06-15 17:59:13.424341: I tensorflow_io/core/kernels/kafka_kernels.cc:248] Kafka stream starts with current offset: 0\n"
     ]
    },
    {
     "name": "stdout",
     "output_type": "stream",
     "text": [
      " 24/938 [..............................] - ETA: 4s - loss: 0.4331 - accuracy: 0.8001"
     ]
    },
    {
     "name": "stderr",
     "output_type": "stream",
     "text": [
      "2022-06-15 17:59:13.924909: I tensorflow_io/core/kernels/kafka_kernels.cc:248] Kafka stream starts with current offset: 1024\n",
      "2022-06-15 17:59:14.003425: I tensorflow_io/core/kernels/kafka_kernels.cc:248] Kafka stream starts with current offset: 2048\n"
     ]
    },
    {
     "name": "stdout",
     "output_type": "stream",
     "text": [
      " 45/938 [>.............................] - ETA: 13s - loss: 0.4363 - accuracy: 0.7972"
     ]
    },
    {
     "name": "stderr",
     "output_type": "stream",
     "text": [
      "2022-06-15 17:59:14.556098: I tensorflow_io/core/kernels/kafka_kernels.cc:248] Kafka stream starts with current offset: 3072\n"
     ]
    },
    {
     "name": "stdout",
     "output_type": "stream",
     "text": [
      " 60/938 [>.............................] - ETA: 18s - loss: 0.4450 - accuracy: 0.7935"
     ]
    },
    {
     "name": "stderr",
     "output_type": "stream",
     "text": [
      "2022-06-15 17:59:15.125538: I tensorflow_io/core/kernels/kafka_kernels.cc:248] Kafka stream starts with current offset: 4096\n"
     ]
    },
    {
     "name": "stdout",
     "output_type": "stream",
     "text": [
      "105/938 [==>...........................] - ETA: 15s - loss: 0.4484 - accuracy: 0.7939"
     ]
    },
    {
     "name": "stderr",
     "output_type": "stream",
     "text": [
      "2022-06-15 17:59:15.668682: I tensorflow_io/core/kernels/kafka_kernels.cc:248] Kafka stream starts with current offset: 5120\n",
      "2022-06-15 17:59:15.748776: I tensorflow_io/core/kernels/kafka_kernels.cc:248] Kafka stream starts with current offset: 6144\n",
      "2022-06-15 17:59:15.852800: I tensorflow_io/core/kernels/kafka_kernels.cc:248] Kafka stream starts with current offset: 7168\n"
     ]
    },
    {
     "name": "stdout",
     "output_type": "stream",
     "text": [
      "138/938 [===>..........................] - ETA: 15s - loss: 0.4507 - accuracy: 0.7910"
     ]
    },
    {
     "name": "stderr",
     "output_type": "stream",
     "text": [
      "2022-06-15 17:59:16.423931: I tensorflow_io/core/kernels/kafka_kernels.cc:248] Kafka stream starts with current offset: 8192\n",
      "2022-06-15 17:59:16.519159: I tensorflow_io/core/kernels/kafka_kernels.cc:248] Kafka stream starts with current offset: 9216\n"
     ]
    },
    {
     "name": "stdout",
     "output_type": "stream",
     "text": [
      "157/938 [====>.........................] - ETA: 15s - loss: 0.4519 - accuracy: 0.7889"
     ]
    },
    {
     "name": "stderr",
     "output_type": "stream",
     "text": [
      "2022-06-15 17:59:17.059388: I tensorflow_io/core/kernels/kafka_kernels.cc:248] Kafka stream starts with current offset: 10240\n"
     ]
    },
    {
     "name": "stdout",
     "output_type": "stream",
     "text": [
      "185/938 [====>.........................] - ETA: 15s - loss: 0.4528 - accuracy: 0.7878"
     ]
    },
    {
     "name": "stderr",
     "output_type": "stream",
     "text": [
      "2022-06-15 17:59:17.611716: I tensorflow_io/core/kernels/kafka_kernels.cc:248] Kafka stream starts with current offset: 11264\n",
      "2022-06-15 17:59:17.681131: I tensorflow_io/core/kernels/kafka_kernels.cc:248] Kafka stream starts with current offset: 12288\n"
     ]
    },
    {
     "name": "stdout",
     "output_type": "stream",
     "text": [
      "204/938 [=====>........................] - ETA: 15s - loss: 0.4535 - accuracy: 0.7874"
     ]
    },
    {
     "name": "stderr",
     "output_type": "stream",
     "text": [
      "2022-06-15 17:59:18.229041: I tensorflow_io/core/kernels/kafka_kernels.cc:248] Kafka stream starts with current offset: 13312\n"
     ]
    },
    {
     "name": "stdout",
     "output_type": "stream",
     "text": [
      "220/938 [======>.......................] - ETA: 16s - loss: 0.4521 - accuracy: 0.7893"
     ]
    },
    {
     "name": "stderr",
     "output_type": "stream",
     "text": [
      "2022-06-15 17:59:18.782223: I tensorflow_io/core/kernels/kafka_kernels.cc:248] Kafka stream starts with current offset: 14336\n"
     ]
    },
    {
     "name": "stdout",
     "output_type": "stream",
     "text": [
      "248/938 [======>.......................] - ETA: 15s - loss: 0.4552 - accuracy: 0.7877"
     ]
    },
    {
     "name": "stderr",
     "output_type": "stream",
     "text": [
      "2022-06-15 17:59:19.328772: I tensorflow_io/core/kernels/kafka_kernels.cc:248] Kafka stream starts with current offset: 15360\n",
      "2022-06-15 17:59:19.410634: I tensorflow_io/core/kernels/kafka_kernels.cc:248] Kafka stream starts with current offset: 16384\n"
     ]
    },
    {
     "name": "stdout",
     "output_type": "stream",
     "text": [
      "266/938 [=======>......................] - ETA: 15s - loss: 0.4542 - accuracy: 0.7882"
     ]
    },
    {
     "name": "stderr",
     "output_type": "stream",
     "text": [
      "2022-06-15 17:59:19.977497: I tensorflow_io/core/kernels/kafka_kernels.cc:248] Kafka stream starts with current offset: 17408\n"
     ]
    },
    {
     "name": "stdout",
     "output_type": "stream",
     "text": [
      "284/938 [========>.....................] - ETA: 15s - loss: 0.4535 - accuracy: 0.7885"
     ]
    },
    {
     "name": "stderr",
     "output_type": "stream",
     "text": [
      "2022-06-15 17:59:20.516107: I tensorflow_io/core/kernels/kafka_kernels.cc:248] Kafka stream starts with current offset: 18432\n"
     ]
    },
    {
     "name": "stdout",
     "output_type": "stream",
     "text": [
      "296/938 [========>.....................] - ETA: 15s - loss: 0.4539 - accuracy: 0.7889"
     ]
    },
    {
     "name": "stderr",
     "output_type": "stream",
     "text": [
      "2022-06-15 17:59:21.109378: I tensorflow_io/core/kernels/kafka_kernels.cc:248] Kafka stream starts with current offset: 19456\n"
     ]
    },
    {
     "name": "stdout",
     "output_type": "stream",
     "text": [
      "315/938 [=========>....................] - ETA: 15s - loss: 0.4547 - accuracy: 0.7889"
     ]
    },
    {
     "name": "stderr",
     "output_type": "stream",
     "text": [
      "2022-06-15 17:59:21.671346: I tensorflow_io/core/kernels/kafka_kernels.cc:248] Kafka stream starts with current offset: 20480\n"
     ]
    },
    {
     "name": "stdout",
     "output_type": "stream",
     "text": [
      "334/938 [=========>....................] - ETA: 15s - loss: 0.4552 - accuracy: 0.7883"
     ]
    },
    {
     "name": "stderr",
     "output_type": "stream",
     "text": [
      "2022-06-15 17:59:22.218349: I tensorflow_io/core/kernels/kafka_kernels.cc:248] Kafka stream starts with current offset: 21504\n"
     ]
    },
    {
     "name": "stdout",
     "output_type": "stream",
     "text": [
      "349/938 [==========>...................] - ETA: 15s - loss: 0.4544 - accuracy: 0.7889"
     ]
    },
    {
     "name": "stderr",
     "output_type": "stream",
     "text": [
      "2022-06-15 17:59:22.780703: I tensorflow_io/core/kernels/kafka_kernels.cc:248] Kafka stream starts with current offset: 22528\n"
     ]
    },
    {
     "name": "stdout",
     "output_type": "stream",
     "text": [
      "367/938 [==========>...................] - ETA: 14s - loss: 0.4543 - accuracy: 0.7883"
     ]
    },
    {
     "name": "stderr",
     "output_type": "stream",
     "text": [
      "2022-06-15 17:59:23.329277: I tensorflow_io/core/kernels/kafka_kernels.cc:248] Kafka stream starts with current offset: 23552\n"
     ]
    },
    {
     "name": "stdout",
     "output_type": "stream",
     "text": [
      "396/938 [===========>..................] - ETA: 13s - loss: 0.4535 - accuracy: 0.7894"
     ]
    },
    {
     "name": "stderr",
     "output_type": "stream",
     "text": [
      "2022-06-15 17:59:23.875998: I tensorflow_io/core/kernels/kafka_kernels.cc:248] Kafka stream starts with current offset: 24576\n",
      "2022-06-15 17:59:23.943758: I tensorflow_io/core/kernels/kafka_kernels.cc:248] Kafka stream starts with current offset: 25600\n"
     ]
    },
    {
     "name": "stdout",
     "output_type": "stream",
     "text": [
      "415/938 [============>.................] - ETA: 13s - loss: 0.4523 - accuracy: 0.7902"
     ]
    },
    {
     "name": "stderr",
     "output_type": "stream",
     "text": [
      "2022-06-15 17:59:24.473294: I tensorflow_io/core/kernels/kafka_kernels.cc:248] Kafka stream starts with current offset: 26624\n"
     ]
    },
    {
     "name": "stdout",
     "output_type": "stream",
     "text": [
      "430/938 [============>.................] - ETA: 13s - loss: 0.4528 - accuracy: 0.7901"
     ]
    },
    {
     "name": "stderr",
     "output_type": "stream",
     "text": [
      "2022-06-15 17:59:25.028723: I tensorflow_io/core/kernels/kafka_kernels.cc:248] Kafka stream starts with current offset: 27648\n"
     ]
    },
    {
     "name": "stdout",
     "output_type": "stream",
     "text": [
      "446/938 [=============>................] - ETA: 12s - loss: 0.4540 - accuracy: 0.7893"
     ]
    },
    {
     "name": "stderr",
     "output_type": "stream",
     "text": [
      "2022-06-15 17:59:25.569891: I tensorflow_io/core/kernels/kafka_kernels.cc:248] Kafka stream starts with current offset: 28672\n"
     ]
    },
    {
     "name": "stdout",
     "output_type": "stream",
     "text": [
      "448/938 [=============>................] - ETA: 13s - loss: 0.4540 - accuracy: 0.7894"
     ]
    },
    {
     "name": "stderr",
     "output_type": "stream",
     "text": [
      "2022-06-15 17:59:26.118504: I tensorflow_io/core/kernels/kafka_kernels.cc:248] Kafka stream starts with current offset: 29696\n"
     ]
    },
    {
     "name": "stdout",
     "output_type": "stream",
     "text": [
      "464/938 [=============>................] - ETA: 13s - loss: 0.4534 - accuracy: 0.7903"
     ]
    },
    {
     "name": "stderr",
     "output_type": "stream",
     "text": [
      "2022-06-15 17:59:26.649716: I tensorflow_io/core/kernels/kafka_kernels.cc:248] Kafka stream starts with current offset: 30720\n"
     ]
    },
    {
     "name": "stdout",
     "output_type": "stream",
     "text": [
      "495/938 [==============>...............] - ETA: 11s - loss: 0.4520 - accuracy: 0.7906"
     ]
    },
    {
     "name": "stderr",
     "output_type": "stream",
     "text": [
      "2022-06-15 17:59:27.187301: I tensorflow_io/core/kernels/kafka_kernels.cc:248] Kafka stream starts with current offset: 31744\n"
     ]
    },
    {
     "name": "stdout",
     "output_type": "stream",
     "text": [
      "511/938 [===============>..............] - ETA: 11s - loss: 0.4517 - accuracy: 0.7910"
     ]
    },
    {
     "name": "stderr",
     "output_type": "stream",
     "text": [
      "2022-06-15 17:59:27.723495: I tensorflow_io/core/kernels/kafka_kernels.cc:248] Kafka stream starts with current offset: 32768\n"
     ]
    },
    {
     "name": "stdout",
     "output_type": "stream",
     "text": [
      "512/938 [===============>..............] - ETA: 11s - loss: 0.4516 - accuracy: 0.7911"
     ]
    },
    {
     "name": "stderr",
     "output_type": "stream",
     "text": [
      "2022-06-15 17:59:28.253494: I tensorflow_io/core/kernels/kafka_kernels.cc:248] Kafka stream starts with current offset: 33792\n"
     ]
    },
    {
     "name": "stdout",
     "output_type": "stream",
     "text": [
      "528/938 [===============>..............] - ETA: 11s - loss: 0.4514 - accuracy: 0.7913"
     ]
    },
    {
     "name": "stderr",
     "output_type": "stream",
     "text": [
      "2022-06-15 17:59:28.789510: I tensorflow_io/core/kernels/kafka_kernels.cc:248] Kafka stream starts with current offset: 34816\n"
     ]
    },
    {
     "name": "stdout",
     "output_type": "stream",
     "text": [
      "544/938 [================>.............] - ETA: 11s - loss: 0.4516 - accuracy: 0.7910"
     ]
    },
    {
     "name": "stderr",
     "output_type": "stream",
     "text": [
      "2022-06-15 17:59:29.329393: I tensorflow_io/core/kernels/kafka_kernels.cc:248] Kafka stream starts with current offset: 35840\n"
     ]
    },
    {
     "name": "stdout",
     "output_type": "stream",
     "text": [
      "574/938 [=================>............] - ETA: 10s - loss: 0.4516 - accuracy: 0.7909"
     ]
    },
    {
     "name": "stderr",
     "output_type": "stream",
     "text": [
      "2022-06-15 17:59:29.867747: I tensorflow_io/core/kernels/kafka_kernels.cc:248] Kafka stream starts with current offset: 36864\n"
     ]
    },
    {
     "name": "stdout",
     "output_type": "stream",
     "text": [
      "591/938 [=================>............] - ETA: 9s - loss: 0.4513 - accuracy: 0.7910 "
     ]
    },
    {
     "name": "stderr",
     "output_type": "stream",
     "text": [
      "2022-06-15 17:59:30.388669: I tensorflow_io/core/kernels/kafka_kernels.cc:248] Kafka stream starts with current offset: 37888\n"
     ]
    },
    {
     "name": "stdout",
     "output_type": "stream",
     "text": [
      "606/938 [==================>...........] - ETA: 9s - loss: 0.4520 - accuracy: 0.7904"
     ]
    },
    {
     "name": "stderr",
     "output_type": "stream",
     "text": [
      "2022-06-15 17:59:30.926871: I tensorflow_io/core/kernels/kafka_kernels.cc:248] Kafka stream starts with current offset: 38912\n"
     ]
    },
    {
     "name": "stdout",
     "output_type": "stream",
     "text": [
      "618/938 [==================>...........] - ETA: 9s - loss: 0.4521 - accuracy: 0.7901"
     ]
    },
    {
     "name": "stderr",
     "output_type": "stream",
     "text": [
      "2022-06-15 17:59:31.463462: I tensorflow_io/core/kernels/kafka_kernels.cc:248] Kafka stream starts with current offset: 39936\n"
     ]
    },
    {
     "name": "stdout",
     "output_type": "stream",
     "text": [
      "638/938 [===================>..........] - ETA: 8s - loss: 0.4524 - accuracy: 0.7901"
     ]
    },
    {
     "name": "stderr",
     "output_type": "stream",
     "text": [
      "2022-06-15 17:59:31.980132: I tensorflow_io/core/kernels/kafka_kernels.cc:248] Kafka stream starts with current offset: 40960\n"
     ]
    },
    {
     "name": "stdout",
     "output_type": "stream",
     "text": [
      "640/938 [===================>..........] - ETA: 8s - loss: 0.4523 - accuracy: 0.7902"
     ]
    },
    {
     "name": "stderr",
     "output_type": "stream",
     "text": [
      "2022-06-15 17:59:32.513830: I tensorflow_io/core/kernels/kafka_kernels.cc:248] Kafka stream starts with current offset: 41984\n"
     ]
    },
    {
     "name": "stdout",
     "output_type": "stream",
     "text": [
      "656/938 [===================>..........] - ETA: 8s - loss: 0.4525 - accuracy: 0.7898"
     ]
    },
    {
     "name": "stderr",
     "output_type": "stream",
     "text": [
      "2022-06-15 17:59:33.026903: I tensorflow_io/core/kernels/kafka_kernels.cc:248] Kafka stream starts with current offset: 43008\n"
     ]
    },
    {
     "name": "stdout",
     "output_type": "stream",
     "text": [
      "687/938 [====================>.........] - ETA: 7s - loss: 0.4523 - accuracy: 0.7896"
     ]
    },
    {
     "name": "stderr",
     "output_type": "stream",
     "text": [
      "2022-06-15 17:59:33.564135: I tensorflow_io/core/kernels/kafka_kernels.cc:248] Kafka stream starts with current offset: 44032\n"
     ]
    },
    {
     "name": "stdout",
     "output_type": "stream",
     "text": [
      "702/938 [=====================>........] - ETA: 6s - loss: 0.4521 - accuracy: 0.7897"
     ]
    },
    {
     "name": "stderr",
     "output_type": "stream",
     "text": [
      "2022-06-15 17:59:34.097584: I tensorflow_io/core/kernels/kafka_kernels.cc:248] Kafka stream starts with current offset: 45056\n"
     ]
    },
    {
     "name": "stdout",
     "output_type": "stream",
     "text": [
      "719/938 [=====================>........] - ETA: 6s - loss: 0.4523 - accuracy: 0.7894"
     ]
    },
    {
     "name": "stderr",
     "output_type": "stream",
     "text": [
      "2022-06-15 17:59:34.597507: I tensorflow_io/core/kernels/kafka_kernels.cc:248] Kafka stream starts with current offset: 46080\n"
     ]
    },
    {
     "name": "stdout",
     "output_type": "stream",
     "text": [
      "720/938 [======================>.......] - ETA: 6s - loss: 0.4524 - accuracy: 0.7893"
     ]
    },
    {
     "name": "stderr",
     "output_type": "stream",
     "text": [
      "2022-06-15 17:59:35.112281: I tensorflow_io/core/kernels/kafka_kernels.cc:248] Kafka stream starts with current offset: 47104\n"
     ]
    },
    {
     "name": "stdout",
     "output_type": "stream",
     "text": [
      "736/938 [======================>.......] - ETA: 5s - loss: 0.4520 - accuracy: 0.7899"
     ]
    },
    {
     "name": "stderr",
     "output_type": "stream",
     "text": [
      "2022-06-15 17:59:35.633266: I tensorflow_io/core/kernels/kafka_kernels.cc:248] Kafka stream starts with current offset: 48128\n"
     ]
    },
    {
     "name": "stdout",
     "output_type": "stream",
     "text": [
      "752/938 [=======================>......] - ETA: 5s - loss: 0.4517 - accuracy: 0.7899"
     ]
    },
    {
     "name": "stderr",
     "output_type": "stream",
     "text": [
      "2022-06-15 17:59:36.152551: I tensorflow_io/core/kernels/kafka_kernels.cc:248] Kafka stream starts with current offset: 49152\n"
     ]
    },
    {
     "name": "stdout",
     "output_type": "stream",
     "text": [
      "768/938 [=======================>......] - ETA: 5s - loss: 0.4522 - accuracy: 0.7896"
     ]
    },
    {
     "name": "stderr",
     "output_type": "stream",
     "text": [
      "2022-06-15 17:59:36.673488: I tensorflow_io/core/kernels/kafka_kernels.cc:248] Kafka stream starts with current offset: 50176\n"
     ]
    },
    {
     "name": "stdout",
     "output_type": "stream",
     "text": [
      "784/938 [========================>.....] - ETA: 4s - loss: 0.4526 - accuracy: 0.7893"
     ]
    },
    {
     "name": "stderr",
     "output_type": "stream",
     "text": [
      "2022-06-15 17:59:37.180749: I tensorflow_io/core/kernels/kafka_kernels.cc:248] Kafka stream starts with current offset: 51200\n"
     ]
    },
    {
     "name": "stdout",
     "output_type": "stream",
     "text": [
      "800/938 [========================>.....] - ETA: 4s - loss: 0.4524 - accuracy: 0.7894"
     ]
    },
    {
     "name": "stderr",
     "output_type": "stream",
     "text": [
      "2022-06-15 17:59:37.701583: I tensorflow_io/core/kernels/kafka_kernels.cc:248] Kafka stream starts with current offset: 52224\n"
     ]
    },
    {
     "name": "stdout",
     "output_type": "stream",
     "text": [
      "816/938 [=========================>....] - ETA: 3s - loss: 0.4524 - accuracy: 0.7897"
     ]
    },
    {
     "name": "stderr",
     "output_type": "stream",
     "text": [
      "2022-06-15 17:59:38.212051: I tensorflow_io/core/kernels/kafka_kernels.cc:248] Kafka stream starts with current offset: 53248\n"
     ]
    },
    {
     "name": "stdout",
     "output_type": "stream",
     "text": [
      "832/938 [=========================>....] - ETA: 3s - loss: 0.4522 - accuracy: 0.7900"
     ]
    },
    {
     "name": "stderr",
     "output_type": "stream",
     "text": [
      "2022-06-15 17:59:38.712536: I tensorflow_io/core/kernels/kafka_kernels.cc:248] Kafka stream starts with current offset: 54272\n"
     ]
    },
    {
     "name": "stdout",
     "output_type": "stream",
     "text": [
      "848/938 [==========================>...] - ETA: 2s - loss: 0.4518 - accuracy: 0.7906"
     ]
    },
    {
     "name": "stderr",
     "output_type": "stream",
     "text": [
      "2022-06-15 17:59:39.215076: I tensorflow_io/core/kernels/kafka_kernels.cc:248] Kafka stream starts with current offset: 55296\n"
     ]
    },
    {
     "name": "stdout",
     "output_type": "stream",
     "text": [
      "864/938 [==========================>...] - ETA: 2s - loss: 0.4518 - accuracy: 0.7904"
     ]
    },
    {
     "name": "stderr",
     "output_type": "stream",
     "text": [
      "2022-06-15 17:59:39.730195: I tensorflow_io/core/kernels/kafka_kernels.cc:248] Kafka stream starts with current offset: 56320\n"
     ]
    },
    {
     "name": "stdout",
     "output_type": "stream",
     "text": [
      "894/938 [===========================>..] - ETA: 1s - loss: 0.4523 - accuracy: 0.7897"
     ]
    },
    {
     "name": "stderr",
     "output_type": "stream",
     "text": [
      "2022-06-15 17:59:40.232982: I tensorflow_io/core/kernels/kafka_kernels.cc:248] Kafka stream starts with current offset: 57344\n"
     ]
    },
    {
     "name": "stdout",
     "output_type": "stream",
     "text": [
      "896/938 [===========================>..] - ETA: 1s - loss: 0.4523 - accuracy: 0.7896"
     ]
    },
    {
     "name": "stderr",
     "output_type": "stream",
     "text": [
      "2022-06-15 17:59:40.732988: I tensorflow_io/core/kernels/kafka_kernels.cc:248] Kafka stream starts with current offset: 58368\n"
     ]
    },
    {
     "name": "stdout",
     "output_type": "stream",
     "text": [
      "912/938 [============================>.] - ETA: 0s - loss: 0.4526 - accuracy: 0.7894"
     ]
    },
    {
     "name": "stderr",
     "output_type": "stream",
     "text": [
      "2022-06-15 17:59:41.236901: I tensorflow_io/core/kernels/kafka_kernels.cc:248] Kafka stream starts with current offset: 59392\n"
     ]
    },
    {
     "name": "stdout",
     "output_type": "stream",
     "text": [
      "938/938 [==============================] - 28s 30ms/step - loss: 0.4525 - accuracy: 0.7896\n",
      "Epoch 4/10\n"
     ]
    },
    {
     "name": "stderr",
     "output_type": "stream",
     "text": [
      "2022-06-15 17:59:41.741627: I tensorflow_io/core/kernels/kafka_kernels.cc:248] Kafka stream starts with current offset: 0\n"
     ]
    },
    {
     "name": "stdout",
     "output_type": "stream",
     "text": [
      " 47/938 [>.............................] - ETA: 4s - loss: 0.4339 - accuracy: 0.8025"
     ]
    },
    {
     "name": "stderr",
     "output_type": "stream",
     "text": [
      "2022-06-15 17:59:42.251521: I tensorflow_io/core/kernels/kafka_kernels.cc:248] Kafka stream starts with current offset: 1024\n",
      "2022-06-15 17:59:42.331119: I tensorflow_io/core/kernels/kafka_kernels.cc:248] Kafka stream starts with current offset: 2048\n",
      "2022-06-15 17:59:42.395054: I tensorflow_io/core/kernels/kafka_kernels.cc:248] Kafka stream starts with current offset: 3072\n"
     ]
    },
    {
     "name": "stdout",
     "output_type": "stream",
     "text": [
      " 78/938 [=>............................] - ETA: 4s - loss: 0.4418 - accuracy: 0.8001"
     ]
    },
    {
     "name": "stderr",
     "output_type": "stream",
     "text": [
      "2022-06-15 17:59:42.471992: I tensorflow_io/core/kernels/kafka_kernels.cc:248] Kafka stream starts with current offset: 4096\n",
      "2022-06-15 17:59:42.561275: I tensorflow_io/core/kernels/kafka_kernels.cc:248] Kafka stream starts with current offset: 5120\n"
     ]
    },
    {
     "name": "stdout",
     "output_type": "stream",
     "text": [
      "105/938 [==>...........................] - ETA: 7s - loss: 0.4422 - accuracy: 0.8000"
     ]
    },
    {
     "name": "stderr",
     "output_type": "stream",
     "text": [
      "2022-06-15 17:59:43.109069: I tensorflow_io/core/kernels/kafka_kernels.cc:248] Kafka stream starts with current offset: 6144\n",
      "2022-06-15 17:59:43.185486: I tensorflow_io/core/kernels/kafka_kernels.cc:248] Kafka stream starts with current offset: 7168\n"
     ]
    },
    {
     "name": "stdout",
     "output_type": "stream",
     "text": [
      "151/938 [===>..........................] - ETA: 8s - loss: 0.4470 - accuracy: 0.7947"
     ]
    },
    {
     "name": "stderr",
     "output_type": "stream",
     "text": [
      "2022-06-15 17:59:43.728379: I tensorflow_io/core/kernels/kafka_kernels.cc:248] Kafka stream starts with current offset: 8192\n",
      "2022-06-15 17:59:43.793718: I tensorflow_io/core/kernels/kafka_kernels.cc:248] Kafka stream starts with current offset: 9216\n",
      "2022-06-15 17:59:43.858277: I tensorflow_io/core/kernels/kafka_kernels.cc:248] Kafka stream starts with current offset: 10240\n"
     ]
    },
    {
     "name": "stdout",
     "output_type": "stream",
     "text": [
      "174/938 [====>.........................] - ETA: 9s - loss: 0.4471 - accuracy: 0.7936 "
     ]
    },
    {
     "name": "stderr",
     "output_type": "stream",
     "text": [
      "2022-06-15 17:59:44.404055: I tensorflow_io/core/kernels/kafka_kernels.cc:248] Kafka stream starts with current offset: 11264\n"
     ]
    },
    {
     "name": "stdout",
     "output_type": "stream",
     "text": [
      "189/938 [=====>........................] - ETA: 11s - loss: 0.4481 - accuracy: 0.7927"
     ]
    },
    {
     "name": "stderr",
     "output_type": "stream",
     "text": [
      "2022-06-15 17:59:44.966690: I tensorflow_io/core/kernels/kafka_kernels.cc:248] Kafka stream starts with current offset: 12288\n"
     ]
    },
    {
     "name": "stdout",
     "output_type": "stream",
     "text": [
      "207/938 [=====>........................] - ETA: 11s - loss: 0.4500 - accuracy: 0.7920"
     ]
    },
    {
     "name": "stderr",
     "output_type": "stream",
     "text": [
      "2022-06-15 17:59:45.504872: I tensorflow_io/core/kernels/kafka_kernels.cc:248] Kafka stream starts with current offset: 13312\n"
     ]
    },
    {
     "name": "stdout",
     "output_type": "stream",
     "text": [
      "221/938 [======>.......................] - ETA: 12s - loss: 0.4491 - accuracy: 0.7929"
     ]
    },
    {
     "name": "stderr",
     "output_type": "stream",
     "text": [
      "2022-06-15 17:59:46.066852: I tensorflow_io/core/kernels/kafka_kernels.cc:248] Kafka stream starts with current offset: 14336\n"
     ]
    },
    {
     "name": "stdout",
     "output_type": "stream",
     "text": [
      "238/938 [======>.......................] - ETA: 13s - loss: 0.4514 - accuracy: 0.7917"
     ]
    },
    {
     "name": "stderr",
     "output_type": "stream",
     "text": [
      "2022-06-15 17:59:46.617498: I tensorflow_io/core/kernels/kafka_kernels.cc:248] Kafka stream starts with current offset: 15360\n"
     ]
    },
    {
     "name": "stdout",
     "output_type": "stream",
     "text": [
      "253/938 [=======>......................] - ETA: 13s - loss: 0.4517 - accuracy: 0.7916"
     ]
    },
    {
     "name": "stderr",
     "output_type": "stream",
     "text": [
      "2022-06-15 17:59:47.167741: I tensorflow_io/core/kernels/kafka_kernels.cc:248] Kafka stream starts with current offset: 16384\n"
     ]
    },
    {
     "name": "stdout",
     "output_type": "stream",
     "text": [
      "269/938 [=======>......................] - ETA: 13s - loss: 0.4518 - accuracy: 0.7915"
     ]
    },
    {
     "name": "stderr",
     "output_type": "stream",
     "text": [
      "2022-06-15 17:59:47.721249: I tensorflow_io/core/kernels/kafka_kernels.cc:248] Kafka stream starts with current offset: 17408\n"
     ]
    },
    {
     "name": "stdout",
     "output_type": "stream",
     "text": [
      "284/938 [========>.....................] - ETA: 14s - loss: 0.4503 - accuracy: 0.7919"
     ]
    },
    {
     "name": "stderr",
     "output_type": "stream",
     "text": [
      "2022-06-15 17:59:48.282898: I tensorflow_io/core/kernels/kafka_kernels.cc:248] Kafka stream starts with current offset: 18432\n"
     ]
    },
    {
     "name": "stdout",
     "output_type": "stream",
     "text": [
      "310/938 [========>.....................] - ETA: 13s - loss: 0.4513 - accuracy: 0.7913"
     ]
    },
    {
     "name": "stderr",
     "output_type": "stream",
     "text": [
      "2022-06-15 17:59:48.836580: I tensorflow_io/core/kernels/kafka_kernels.cc:248] Kafka stream starts with current offset: 19456\n",
      "2022-06-15 17:59:48.914175: I tensorflow_io/core/kernels/kafka_kernels.cc:248] Kafka stream starts with current offset: 20480\n"
     ]
    },
    {
     "name": "stdout",
     "output_type": "stream",
     "text": [
      "334/938 [=========>....................] - ETA: 13s - loss: 0.4516 - accuracy: 0.7908"
     ]
    },
    {
     "name": "stderr",
     "output_type": "stream",
     "text": [
      "2022-06-15 17:59:49.467303: I tensorflow_io/core/kernels/kafka_kernels.cc:248] Kafka stream starts with current offset: 21504\n"
     ]
    },
    {
     "name": "stdout",
     "output_type": "stream",
     "text": [
      "349/938 [==========>...................] - ETA: 13s - loss: 0.4514 - accuracy: 0.7912"
     ]
    },
    {
     "name": "stderr",
     "output_type": "stream",
     "text": [
      "2022-06-15 17:59:50.019696: I tensorflow_io/core/kernels/kafka_kernels.cc:248] Kafka stream starts with current offset: 22528\n"
     ]
    },
    {
     "name": "stdout",
     "output_type": "stream",
     "text": [
      "363/938 [==========>...................] - ETA: 13s - loss: 0.4514 - accuracy: 0.7909"
     ]
    },
    {
     "name": "stderr",
     "output_type": "stream",
     "text": [
      "2022-06-15 17:59:50.574783: I tensorflow_io/core/kernels/kafka_kernels.cc:248] Kafka stream starts with current offset: 23552\n"
     ]
    },
    {
     "name": "stdout",
     "output_type": "stream",
     "text": [
      "382/938 [===========>..................] - ETA: 13s - loss: 0.4513 - accuracy: 0.7914"
     ]
    },
    {
     "name": "stderr",
     "output_type": "stream",
     "text": [
      "2022-06-15 17:59:51.128127: I tensorflow_io/core/kernels/kafka_kernels.cc:248] Kafka stream starts with current offset: 24576\n"
     ]
    },
    {
     "name": "stdout",
     "output_type": "stream",
     "text": [
      "398/938 [===========>..................] - ETA: 12s - loss: 0.4504 - accuracy: 0.7923"
     ]
    },
    {
     "name": "stderr",
     "output_type": "stream",
     "text": [
      "2022-06-15 17:59:51.668802: I tensorflow_io/core/kernels/kafka_kernels.cc:248] Kafka stream starts with current offset: 25600\n"
     ]
    },
    {
     "name": "stdout",
     "output_type": "stream",
     "text": [
      "414/938 [============>.................] - ETA: 12s - loss: 0.4493 - accuracy: 0.7930"
     ]
    },
    {
     "name": "stderr",
     "output_type": "stream",
     "text": [
      "2022-06-15 17:59:52.216824: I tensorflow_io/core/kernels/kafka_kernels.cc:248] Kafka stream starts with current offset: 26624\n"
     ]
    },
    {
     "name": "stdout",
     "output_type": "stream",
     "text": [
      "430/938 [============>.................] - ETA: 12s - loss: 0.4495 - accuracy: 0.7931"
     ]
    },
    {
     "name": "stderr",
     "output_type": "stream",
     "text": [
      "2022-06-15 17:59:52.759413: I tensorflow_io/core/kernels/kafka_kernels.cc:248] Kafka stream starts with current offset: 27648\n"
     ]
    },
    {
     "name": "stdout",
     "output_type": "stream",
     "text": [
      "447/938 [=============>................] - ETA: 12s - loss: 0.4508 - accuracy: 0.7920"
     ]
    },
    {
     "name": "stderr",
     "output_type": "stream",
     "text": [
      "2022-06-15 17:59:53.293777: I tensorflow_io/core/kernels/kafka_kernels.cc:248] Kafka stream starts with current offset: 28672\n"
     ]
    },
    {
     "name": "stdout",
     "output_type": "stream",
     "text": [
      "463/938 [=============>................] - ETA: 11s - loss: 0.4500 - accuracy: 0.7928"
     ]
    },
    {
     "name": "stderr",
     "output_type": "stream",
     "text": [
      "2022-06-15 17:59:53.837502: I tensorflow_io/core/kernels/kafka_kernels.cc:248] Kafka stream starts with current offset: 29696\n"
     ]
    },
    {
     "name": "stdout",
     "output_type": "stream",
     "text": [
      "477/938 [==============>...............] - ETA: 11s - loss: 0.4494 - accuracy: 0.7929"
     ]
    },
    {
     "name": "stderr",
     "output_type": "stream",
     "text": [
      "2022-06-15 17:59:54.385604: I tensorflow_io/core/kernels/kafka_kernels.cc:248] Kafka stream starts with current offset: 30720\n"
     ]
    },
    {
     "name": "stdout",
     "output_type": "stream",
     "text": [
      "494/938 [==============>...............] - ETA: 11s - loss: 0.4485 - accuracy: 0.7935"
     ]
    },
    {
     "name": "stderr",
     "output_type": "stream",
     "text": [
      "2022-06-15 17:59:54.933570: I tensorflow_io/core/kernels/kafka_kernels.cc:248] Kafka stream starts with current offset: 31744\n"
     ]
    },
    {
     "name": "stdout",
     "output_type": "stream",
     "text": [
      "509/938 [===============>..............] - ETA: 11s - loss: 0.4483 - accuracy: 0.7941"
     ]
    },
    {
     "name": "stderr",
     "output_type": "stream",
     "text": [
      "2022-06-15 17:59:55.475136: I tensorflow_io/core/kernels/kafka_kernels.cc:248] Kafka stream starts with current offset: 32768\n"
     ]
    },
    {
     "name": "stdout",
     "output_type": "stream",
     "text": [
      "527/938 [===============>..............] - ETA: 10s - loss: 0.4479 - accuracy: 0.7944"
     ]
    },
    {
     "name": "stderr",
     "output_type": "stream",
     "text": [
      "2022-06-15 17:59:55.998210: I tensorflow_io/core/kernels/kafka_kernels.cc:248] Kafka stream starts with current offset: 33792\n"
     ]
    },
    {
     "name": "stdout",
     "output_type": "stream",
     "text": [
      "539/938 [================>.............] - ETA: 10s - loss: 0.4478 - accuracy: 0.7939"
     ]
    },
    {
     "name": "stderr",
     "output_type": "stream",
     "text": [
      "2022-06-15 17:59:56.564262: I tensorflow_io/core/kernels/kafka_kernels.cc:248] Kafka stream starts with current offset: 34816\n"
     ]
    },
    {
     "name": "stdout",
     "output_type": "stream",
     "text": [
      "556/938 [================>.............] - ETA: 10s - loss: 0.4479 - accuracy: 0.7939"
     ]
    },
    {
     "name": "stderr",
     "output_type": "stream",
     "text": [
      "2022-06-15 17:59:57.117773: I tensorflow_io/core/kernels/kafka_kernels.cc:248] Kafka stream starts with current offset: 35840\n"
     ]
    },
    {
     "name": "stdout",
     "output_type": "stream",
     "text": [
      "573/938 [=================>............] - ETA: 9s - loss: 0.4485 - accuracy: 0.7938 "
     ]
    },
    {
     "name": "stderr",
     "output_type": "stream",
     "text": [
      "2022-06-15 17:59:57.649120: I tensorflow_io/core/kernels/kafka_kernels.cc:248] Kafka stream starts with current offset: 36864\n"
     ]
    },
    {
     "name": "stdout",
     "output_type": "stream",
     "text": [
      "589/938 [=================>............] - ETA: 9s - loss: 0.4484 - accuracy: 0.7937 "
     ]
    },
    {
     "name": "stderr",
     "output_type": "stream",
     "text": [
      "2022-06-15 17:59:58.180426: I tensorflow_io/core/kernels/kafka_kernels.cc:248] Kafka stream starts with current offset: 37888\n"
     ]
    },
    {
     "name": "stdout",
     "output_type": "stream",
     "text": [
      "607/938 [==================>...........] - ETA: 9s - loss: 0.4489 - accuracy: 0.7931"
     ]
    },
    {
     "name": "stderr",
     "output_type": "stream",
     "text": [
      "2022-06-15 17:59:58.711275: I tensorflow_io/core/kernels/kafka_kernels.cc:248] Kafka stream starts with current offset: 38912\n"
     ]
    },
    {
     "name": "stdout",
     "output_type": "stream",
     "text": [
      "622/938 [==================>...........] - ETA: 8s - loss: 0.4490 - accuracy: 0.7928"
     ]
    },
    {
     "name": "stderr",
     "output_type": "stream",
     "text": [
      "2022-06-15 17:59:59.238381: I tensorflow_io/core/kernels/kafka_kernels.cc:248] Kafka stream starts with current offset: 39936\n"
     ]
    },
    {
     "name": "stdout",
     "output_type": "stream",
     "text": [
      "639/938 [===================>..........] - ETA: 8s - loss: 0.4493 - accuracy: 0.7927"
     ]
    },
    {
     "name": "stderr",
     "output_type": "stream",
     "text": [
      "2022-06-15 17:59:59.761265: I tensorflow_io/core/kernels/kafka_kernels.cc:248] Kafka stream starts with current offset: 40960\n"
     ]
    },
    {
     "name": "stdout",
     "output_type": "stream",
     "text": [
      "654/938 [===================>..........] - ETA: 7s - loss: 0.4497 - accuracy: 0.7921"
     ]
    },
    {
     "name": "stderr",
     "output_type": "stream",
     "text": [
      "2022-06-15 18:00:00.294441: I tensorflow_io/core/kernels/kafka_kernels.cc:248] Kafka stream starts with current offset: 41984\n"
     ]
    },
    {
     "name": "stdout",
     "output_type": "stream",
     "text": [
      "656/938 [===================>..........] - ETA: 7s - loss: 0.4495 - accuracy: 0.7921"
     ]
    },
    {
     "name": "stderr",
     "output_type": "stream",
     "text": [
      "2022-06-15 18:00:00.807305: I tensorflow_io/core/kernels/kafka_kernels.cc:248] Kafka stream starts with current offset: 43008\n"
     ]
    },
    {
     "name": "stdout",
     "output_type": "stream",
     "text": [
      "687/938 [====================>.........] - ETA: 7s - loss: 0.4491 - accuracy: 0.7923"
     ]
    },
    {
     "name": "stderr",
     "output_type": "stream",
     "text": [
      "2022-06-15 18:00:01.341528: I tensorflow_io/core/kernels/kafka_kernels.cc:248] Kafka stream starts with current offset: 44032\n"
     ]
    },
    {
     "name": "stdout",
     "output_type": "stream",
     "text": [
      "688/938 [=====================>........] - ETA: 7s - loss: 0.4491 - accuracy: 0.7924"
     ]
    },
    {
     "name": "stderr",
     "output_type": "stream",
     "text": [
      "2022-06-15 18:00:01.860738: I tensorflow_io/core/kernels/kafka_kernels.cc:248] Kafka stream starts with current offset: 45056\n"
     ]
    },
    {
     "name": "stdout",
     "output_type": "stream",
     "text": [
      "718/938 [=====================>........] - ETA: 6s - loss: 0.4491 - accuracy: 0.7923"
     ]
    },
    {
     "name": "stderr",
     "output_type": "stream",
     "text": [
      "2022-06-15 18:00:02.391274: I tensorflow_io/core/kernels/kafka_kernels.cc:248] Kafka stream starts with current offset: 46080\n"
     ]
    },
    {
     "name": "stdout",
     "output_type": "stream",
     "text": [
      "720/938 [======================>.......] - ETA: 6s - loss: 0.4493 - accuracy: 0.7922"
     ]
    },
    {
     "name": "stderr",
     "output_type": "stream",
     "text": [
      "2022-06-15 18:00:02.889816: I tensorflow_io/core/kernels/kafka_kernels.cc:248] Kafka stream starts with current offset: 47104\n"
     ]
    },
    {
     "name": "stdout",
     "output_type": "stream",
     "text": [
      "750/938 [======================>.......] - ETA: 5s - loss: 0.4489 - accuracy: 0.7924"
     ]
    },
    {
     "name": "stderr",
     "output_type": "stream",
     "text": [
      "2022-06-15 18:00:03.409147: I tensorflow_io/core/kernels/kafka_kernels.cc:248] Kafka stream starts with current offset: 48128\n"
     ]
    },
    {
     "name": "stdout",
     "output_type": "stream",
     "text": [
      "752/938 [=======================>......] - ETA: 5s - loss: 0.4488 - accuracy: 0.7924"
     ]
    },
    {
     "name": "stderr",
     "output_type": "stream",
     "text": [
      "2022-06-15 18:00:03.909458: I tensorflow_io/core/kernels/kafka_kernels.cc:248] Kafka stream starts with current offset: 49152\n"
     ]
    },
    {
     "name": "stdout",
     "output_type": "stream",
     "text": [
      "782/938 [========================>.....] - ETA: 4s - loss: 0.4496 - accuracy: 0.7917"
     ]
    },
    {
     "name": "stderr",
     "output_type": "stream",
     "text": [
      "2022-06-15 18:00:04.446125: I tensorflow_io/core/kernels/kafka_kernels.cc:248] Kafka stream starts with current offset: 50176\n"
     ]
    },
    {
     "name": "stdout",
     "output_type": "stream",
     "text": [
      "799/938 [========================>.....] - ETA: 3s - loss: 0.4496 - accuracy: 0.7919"
     ]
    },
    {
     "name": "stderr",
     "output_type": "stream",
     "text": [
      "2022-06-15 18:00:04.953502: I tensorflow_io/core/kernels/kafka_kernels.cc:248] Kafka stream starts with current offset: 51200\n"
     ]
    },
    {
     "name": "stdout",
     "output_type": "stream",
     "text": [
      "812/938 [========================>.....] - ETA: 3s - loss: 0.4496 - accuracy: 0.7920"
     ]
    },
    {
     "name": "stderr",
     "output_type": "stream",
     "text": [
      "2022-06-15 18:00:05.471787: I tensorflow_io/core/kernels/kafka_kernels.cc:248] Kafka stream starts with current offset: 52224\n"
     ]
    },
    {
     "name": "stdout",
     "output_type": "stream",
     "text": [
      "831/938 [=========================>....] - ETA: 3s - loss: 0.4493 - accuracy: 0.7921"
     ]
    },
    {
     "name": "stderr",
     "output_type": "stream",
     "text": [
      "2022-06-15 18:00:06.004923: I tensorflow_io/core/kernels/kafka_kernels.cc:248] Kafka stream starts with current offset: 53248\n"
     ]
    },
    {
     "name": "stdout",
     "output_type": "stream",
     "text": [
      "845/938 [==========================>...] - ETA: 2s - loss: 0.4492 - accuracy: 0.7925"
     ]
    },
    {
     "name": "stderr",
     "output_type": "stream",
     "text": [
      "2022-06-15 18:00:06.510117: I tensorflow_io/core/kernels/kafka_kernels.cc:248] Kafka stream starts with current offset: 54272\n"
     ]
    },
    {
     "name": "stdout",
     "output_type": "stream",
     "text": [
      "848/938 [==========================>...] - ETA: 2s - loss: 0.4491 - accuracy: 0.7926"
     ]
    },
    {
     "name": "stderr",
     "output_type": "stream",
     "text": [
      "2022-06-15 18:00:07.013874: I tensorflow_io/core/kernels/kafka_kernels.cc:248] Kafka stream starts with current offset: 55296\n"
     ]
    },
    {
     "name": "stdout",
     "output_type": "stream",
     "text": [
      "879/938 [===========================>..] - ETA: 1s - loss: 0.4494 - accuracy: 0.7921"
     ]
    },
    {
     "name": "stderr",
     "output_type": "stream",
     "text": [
      "2022-06-15 18:00:07.516943: I tensorflow_io/core/kernels/kafka_kernels.cc:248] Kafka stream starts with current offset: 56320\n"
     ]
    },
    {
     "name": "stdout",
     "output_type": "stream",
     "text": [
      "880/938 [===========================>..] - ETA: 1s - loss: 0.4494 - accuracy: 0.7921"
     ]
    },
    {
     "name": "stderr",
     "output_type": "stream",
     "text": [
      "2022-06-15 18:00:08.022700: I tensorflow_io/core/kernels/kafka_kernels.cc:248] Kafka stream starts with current offset: 57344\n"
     ]
    },
    {
     "name": "stdout",
     "output_type": "stream",
     "text": [
      "896/938 [===========================>..] - ETA: 1s - loss: 0.4499 - accuracy: 0.7917"
     ]
    },
    {
     "name": "stderr",
     "output_type": "stream",
     "text": [
      "2022-06-15 18:00:08.525916: I tensorflow_io/core/kernels/kafka_kernels.cc:248] Kafka stream starts with current offset: 58368\n"
     ]
    },
    {
     "name": "stdout",
     "output_type": "stream",
     "text": [
      "927/938 [============================>.] - ETA: 0s - loss: 0.4504 - accuracy: 0.7912"
     ]
    },
    {
     "name": "stderr",
     "output_type": "stream",
     "text": [
      "2022-06-15 18:00:09.034046: I tensorflow_io/core/kernels/kafka_kernels.cc:248] Kafka stream starts with current offset: 59392\n"
     ]
    },
    {
     "name": "stdout",
     "output_type": "stream",
     "text": [
      "938/938 [==============================] - 28s 29ms/step - loss: 0.4498 - accuracy: 0.7915\n",
      "Epoch 5/10\n"
     ]
    },
    {
     "name": "stderr",
     "output_type": "stream",
     "text": [
      "2022-06-15 18:00:09.537968: I tensorflow_io/core/kernels/kafka_kernels.cc:248] Kafka stream starts with current offset: 0\n"
     ]
    },
    {
     "name": "stdout",
     "output_type": "stream",
     "text": [
      " 25/938 [..............................] - ETA: 4s - loss: 0.4306 - accuracy: 0.8094"
     ]
    },
    {
     "name": "stderr",
     "output_type": "stream",
     "text": [
      "2022-06-15 18:00:10.044678: I tensorflow_io/core/kernels/kafka_kernels.cc:248] Kafka stream starts with current offset: 1024\n",
      "2022-06-15 18:00:10.121499: I tensorflow_io/core/kernels/kafka_kernels.cc:248] Kafka stream starts with current offset: 2048\n"
     ]
    },
    {
     "name": "stdout",
     "output_type": "stream",
     "text": [
      " 55/938 [>.............................] - ETA: 11s - loss: 0.4410 - accuracy: 0.7986"
     ]
    },
    {
     "name": "stderr",
     "output_type": "stream",
     "text": [
      "2022-06-15 18:00:10.673166: I tensorflow_io/core/kernels/kafka_kernels.cc:248] Kafka stream starts with current offset: 3072\n",
      "2022-06-15 18:00:10.757501: I tensorflow_io/core/kernels/kafka_kernels.cc:248] Kafka stream starts with current offset: 4096\n"
     ]
    },
    {
     "name": "stdout",
     "output_type": "stream",
     "text": [
      " 91/938 [=>............................] - ETA: 13s - loss: 0.4466 - accuracy: 0.7941"
     ]
    },
    {
     "name": "stderr",
     "output_type": "stream",
     "text": [
      "2022-06-15 18:00:11.346008: I tensorflow_io/core/kernels/kafka_kernels.cc:248] Kafka stream starts with current offset: 5120\n",
      "2022-06-15 18:00:11.446529: I tensorflow_io/core/kernels/kafka_kernels.cc:248] Kafka stream starts with current offset: 6144\n"
     ]
    },
    {
     "name": "stdout",
     "output_type": "stream",
     "text": [
      "118/938 [==>...........................] - ETA: 14s - loss: 0.4436 - accuracy: 0.7958"
     ]
    },
    {
     "name": "stderr",
     "output_type": "stream",
     "text": [
      "2022-06-15 18:00:11.999841: I tensorflow_io/core/kernels/kafka_kernels.cc:248] Kafka stream starts with current offset: 7168\n",
      "2022-06-15 18:00:12.081759: I tensorflow_io/core/kernels/kafka_kernels.cc:248] Kafka stream starts with current offset: 8192\n"
     ]
    },
    {
     "name": "stdout",
     "output_type": "stream",
     "text": [
      "168/938 [====>.........................] - ETA: 12s - loss: 0.4477 - accuracy: 0.7935"
     ]
    },
    {
     "name": "stderr",
     "output_type": "stream",
     "text": [
      "2022-06-15 18:00:12.628345: I tensorflow_io/core/kernels/kafka_kernels.cc:248] Kafka stream starts with current offset: 9216\n",
      "2022-06-15 18:00:12.694739: I tensorflow_io/core/kernels/kafka_kernels.cc:248] Kafka stream starts with current offset: 10240\n",
      "2022-06-15 18:00:12.761131: I tensorflow_io/core/kernels/kafka_kernels.cc:248] Kafka stream starts with current offset: 11264\n"
     ]
    },
    {
     "name": "stdout",
     "output_type": "stream",
     "text": [
      "199/938 [=====>........................] - ETA: 12s - loss: 0.4504 - accuracy: 0.7921"
     ]
    },
    {
     "name": "stderr",
     "output_type": "stream",
     "text": [
      "2022-06-15 18:00:13.317810: I tensorflow_io/core/kernels/kafka_kernels.cc:248] Kafka stream starts with current offset: 12288\n",
      "2022-06-15 18:00:13.383556: I tensorflow_io/core/kernels/kafka_kernels.cc:248] Kafka stream starts with current offset: 13312\n"
     ]
    },
    {
     "name": "stdout",
     "output_type": "stream",
     "text": [
      "222/938 [======>.......................] - ETA: 12s - loss: 0.4497 - accuracy: 0.7927"
     ]
    },
    {
     "name": "stderr",
     "output_type": "stream",
     "text": [
      "2022-06-15 18:00:13.918238: I tensorflow_io/core/kernels/kafka_kernels.cc:248] Kafka stream starts with current offset: 14336\n"
     ]
    },
    {
     "name": "stdout",
     "output_type": "stream",
     "text": [
      "251/938 [=======>......................] - ETA: 12s - loss: 0.4529 - accuracy: 0.7902"
     ]
    },
    {
     "name": "stderr",
     "output_type": "stream",
     "text": [
      "2022-06-15 18:00:14.476024: I tensorflow_io/core/kernels/kafka_kernels.cc:248] Kafka stream starts with current offset: 15360\n",
      "2022-06-15 18:00:14.549068: I tensorflow_io/core/kernels/kafka_kernels.cc:248] Kafka stream starts with current offset: 16384\n"
     ]
    },
    {
     "name": "stdout",
     "output_type": "stream",
     "text": [
      "256/938 [=======>......................] - ETA: 13s - loss: 0.4525 - accuracy: 0.7905"
     ]
    },
    {
     "name": "stderr",
     "output_type": "stream",
     "text": [
      "2022-06-15 18:00:15.077492: I tensorflow_io/core/kernels/kafka_kernels.cc:248] Kafka stream starts with current offset: 17408\n"
     ]
    },
    {
     "name": "stdout",
     "output_type": "stream",
     "text": [
      "286/938 [========>.....................] - ETA: 12s - loss: 0.4498 - accuracy: 0.7914"
     ]
    },
    {
     "name": "stderr",
     "output_type": "stream",
     "text": [
      "2022-06-15 18:00:15.625622: I tensorflow_io/core/kernels/kafka_kernels.cc:248] Kafka stream starts with current offset: 18432\n"
     ]
    },
    {
     "name": "stdout",
     "output_type": "stream",
     "text": [
      "301/938 [========>.....................] - ETA: 13s - loss: 0.4496 - accuracy: 0.7912"
     ]
    },
    {
     "name": "stderr",
     "output_type": "stream",
     "text": [
      "2022-06-15 18:00:16.182660: I tensorflow_io/core/kernels/kafka_kernels.cc:248] Kafka stream starts with current offset: 19456\n"
     ]
    },
    {
     "name": "stdout",
     "output_type": "stream",
     "text": [
      "318/938 [=========>....................] - ETA: 13s - loss: 0.4506 - accuracy: 0.7917"
     ]
    },
    {
     "name": "stderr",
     "output_type": "stream",
     "text": [
      "2022-06-15 18:00:16.734134: I tensorflow_io/core/kernels/kafka_kernels.cc:248] Kafka stream starts with current offset: 20480\n"
     ]
    },
    {
     "name": "stdout",
     "output_type": "stream",
     "text": [
      "331/938 [=========>....................] - ETA: 13s - loss: 0.4511 - accuracy: 0.7908"
     ]
    },
    {
     "name": "stderr",
     "output_type": "stream",
     "text": [
      "2022-06-15 18:00:17.288888: I tensorflow_io/core/kernels/kafka_kernels.cc:248] Kafka stream starts with current offset: 21504\n"
     ]
    },
    {
     "name": "stdout",
     "output_type": "stream",
     "text": [
      "349/938 [==========>...................] - ETA: 13s - loss: 0.4508 - accuracy: 0.7914"
     ]
    },
    {
     "name": "stderr",
     "output_type": "stream",
     "text": [
      "2022-06-15 18:00:17.828575: I tensorflow_io/core/kernels/kafka_kernels.cc:248] Kafka stream starts with current offset: 22528\n"
     ]
    },
    {
     "name": "stdout",
     "output_type": "stream",
     "text": [
      "366/938 [==========>...................] - ETA: 13s - loss: 0.4505 - accuracy: 0.7914"
     ]
    },
    {
     "name": "stderr",
     "output_type": "stream",
     "text": [
      "2022-06-15 18:00:18.367104: I tensorflow_io/core/kernels/kafka_kernels.cc:248] Kafka stream starts with current offset: 23552\n"
     ]
    },
    {
     "name": "stdout",
     "output_type": "stream",
     "text": [
      "379/938 [===========>..................] - ETA: 13s - loss: 0.4506 - accuracy: 0.7914"
     ]
    },
    {
     "name": "stderr",
     "output_type": "stream",
     "text": [
      "2022-06-15 18:00:18.933504: I tensorflow_io/core/kernels/kafka_kernels.cc:248] Kafka stream starts with current offset: 24576\n"
     ]
    },
    {
     "name": "stdout",
     "output_type": "stream",
     "text": [
      "397/938 [===========>..................] - ETA: 12s - loss: 0.4499 - accuracy: 0.7923"
     ]
    },
    {
     "name": "stderr",
     "output_type": "stream",
     "text": [
      "2022-06-15 18:00:19.477084: I tensorflow_io/core/kernels/kafka_kernels.cc:248] Kafka stream starts with current offset: 25600\n"
     ]
    },
    {
     "name": "stdout",
     "output_type": "stream",
     "text": [
      "413/938 [============>.................] - ETA: 12s - loss: 0.4491 - accuracy: 0.7929"
     ]
    },
    {
     "name": "stderr",
     "output_type": "stream",
     "text": [
      "2022-06-15 18:00:20.005669: I tensorflow_io/core/kernels/kafka_kernels.cc:248] Kafka stream starts with current offset: 26624\n"
     ]
    },
    {
     "name": "stdout",
     "output_type": "stream",
     "text": [
      "431/938 [============>.................] - ETA: 12s - loss: 0.4493 - accuracy: 0.7932"
     ]
    },
    {
     "name": "stderr",
     "output_type": "stream",
     "text": [
      "2022-06-15 18:00:20.545504: I tensorflow_io/core/kernels/kafka_kernels.cc:248] Kafka stream starts with current offset: 27648\n"
     ]
    },
    {
     "name": "stdout",
     "output_type": "stream",
     "text": [
      "446/938 [=============>................] - ETA: 12s - loss: 0.4501 - accuracy: 0.7926"
     ]
    },
    {
     "name": "stderr",
     "output_type": "stream",
     "text": [
      "2022-06-15 18:00:21.079508: I tensorflow_io/core/kernels/kafka_kernels.cc:248] Kafka stream starts with current offset: 28672\n"
     ]
    },
    {
     "name": "stdout",
     "output_type": "stream",
     "text": [
      "456/938 [=============>................] - ETA: 12s - loss: 0.4495 - accuracy: 0.7927"
     ]
    },
    {
     "name": "stderr",
     "output_type": "stream",
     "text": [
      "2022-06-15 18:00:21.657716: I tensorflow_io/core/kernels/kafka_kernels.cc:248] Kafka stream starts with current offset: 29696\n"
     ]
    },
    {
     "name": "stdout",
     "output_type": "stream",
     "text": [
      "477/938 [==============>...............] - ETA: 11s - loss: 0.4486 - accuracy: 0.7936"
     ]
    },
    {
     "name": "stderr",
     "output_type": "stream",
     "text": [
      "2022-06-15 18:00:22.223412: I tensorflow_io/core/kernels/kafka_kernels.cc:248] Kafka stream starts with current offset: 30720\n"
     ]
    },
    {
     "name": "stdout",
     "output_type": "stream",
     "text": [
      "500/938 [==============>...............] - ETA: 11s - loss: 0.4475 - accuracy: 0.7944"
     ]
    },
    {
     "name": "stderr",
     "output_type": "stream",
     "text": [
      "2022-06-15 18:00:22.759122: I tensorflow_io/core/kernels/kafka_kernels.cc:248] Kafka stream starts with current offset: 31744\n",
      "2022-06-15 18:00:22.838624: I tensorflow_io/core/kernels/kafka_kernels.cc:248] Kafka stream starts with current offset: 32768\n"
     ]
    },
    {
     "name": "stdout",
     "output_type": "stream",
     "text": [
      "526/938 [===============>..............] - ETA: 10s - loss: 0.4473 - accuracy: 0.7944"
     ]
    },
    {
     "name": "stderr",
     "output_type": "stream",
     "text": [
      "2022-06-15 18:00:23.367937: I tensorflow_io/core/kernels/kafka_kernels.cc:248] Kafka stream starts with current offset: 33792\n"
     ]
    },
    {
     "name": "stdout",
     "output_type": "stream",
     "text": [
      "541/938 [================>.............] - ETA: 10s - loss: 0.4472 - accuracy: 0.7941"
     ]
    },
    {
     "name": "stderr",
     "output_type": "stream",
     "text": [
      "2022-06-15 18:00:23.921014: I tensorflow_io/core/kernels/kafka_kernels.cc:248] Kafka stream starts with current offset: 34816\n"
     ]
    },
    {
     "name": "stdout",
     "output_type": "stream",
     "text": [
      "557/938 [================>.............] - ETA: 9s - loss: 0.4469 - accuracy: 0.7943 "
     ]
    },
    {
     "name": "stderr",
     "output_type": "stream",
     "text": [
      "2022-06-15 18:00:24.466161: I tensorflow_io/core/kernels/kafka_kernels.cc:248] Kafka stream starts with current offset: 35840\n"
     ]
    },
    {
     "name": "stdout",
     "output_type": "stream",
     "text": [
      "573/938 [=================>............] - ETA: 9s - loss: 0.4475 - accuracy: 0.7940 "
     ]
    },
    {
     "name": "stderr",
     "output_type": "stream",
     "text": [
      "2022-06-15 18:00:25.004385: I tensorflow_io/core/kernels/kafka_kernels.cc:248] Kafka stream starts with current offset: 36864\n"
     ]
    },
    {
     "name": "stdout",
     "output_type": "stream",
     "text": [
      "589/938 [=================>............] - ETA: 9s - loss: 0.4472 - accuracy: 0.7941"
     ]
    },
    {
     "name": "stderr",
     "output_type": "stream",
     "text": [
      "2022-06-15 18:00:25.537440: I tensorflow_io/core/kernels/kafka_kernels.cc:248] Kafka stream starts with current offset: 37888\n"
     ]
    },
    {
     "name": "stdout",
     "output_type": "stream",
     "text": [
      "606/938 [==================>...........] - ETA: 8s - loss: 0.4478 - accuracy: 0.7935"
     ]
    },
    {
     "name": "stderr",
     "output_type": "stream",
     "text": [
      "2022-06-15 18:00:26.074571: I tensorflow_io/core/kernels/kafka_kernels.cc:248] Kafka stream starts with current offset: 38912\n"
     ]
    },
    {
     "name": "stdout",
     "output_type": "stream",
     "text": [
      "622/938 [==================>...........] - ETA: 8s - loss: 0.4479 - accuracy: 0.7934"
     ]
    },
    {
     "name": "stderr",
     "output_type": "stream",
     "text": [
      "2022-06-15 18:00:26.593996: I tensorflow_io/core/kernels/kafka_kernels.cc:248] Kafka stream starts with current offset: 39936\n"
     ]
    },
    {
     "name": "stdout",
     "output_type": "stream",
     "text": [
      "624/938 [==================>...........] - ETA: 8s - loss: 0.4480 - accuracy: 0.7935"
     ]
    },
    {
     "name": "stderr",
     "output_type": "stream",
     "text": [
      "2022-06-15 18:00:27.137200: I tensorflow_io/core/kernels/kafka_kernels.cc:248] Kafka stream starts with current offset: 40960\n"
     ]
    },
    {
     "name": "stdout",
     "output_type": "stream",
     "text": [
      "640/938 [===================>..........] - ETA: 8s - loss: 0.4482 - accuracy: 0.7934"
     ]
    },
    {
     "name": "stderr",
     "output_type": "stream",
     "text": [
      "2022-06-15 18:00:27.662723: I tensorflow_io/core/kernels/kafka_kernels.cc:248] Kafka stream starts with current offset: 41984\n"
     ]
    },
    {
     "name": "stdout",
     "output_type": "stream",
     "text": [
      "671/938 [====================>.........] - ETA: 7s - loss: 0.4483 - accuracy: 0.7929"
     ]
    },
    {
     "name": "stderr",
     "output_type": "stream",
     "text": [
      "2022-06-15 18:00:28.192979: I tensorflow_io/core/kernels/kafka_kernels.cc:248] Kafka stream starts with current offset: 43008\n"
     ]
    },
    {
     "name": "stdout",
     "output_type": "stream",
     "text": [
      "672/938 [====================>.........] - ETA: 7s - loss: 0.4483 - accuracy: 0.7929"
     ]
    },
    {
     "name": "stderr",
     "output_type": "stream",
     "text": [
      "2022-06-15 18:00:28.725154: I tensorflow_io/core/kernels/kafka_kernels.cc:248] Kafka stream starts with current offset: 44032\n"
     ]
    },
    {
     "name": "stdout",
     "output_type": "stream",
     "text": [
      "688/938 [=====================>........] - ETA: 6s - loss: 0.4484 - accuracy: 0.7929"
     ]
    },
    {
     "name": "stderr",
     "output_type": "stream",
     "text": [
      "2022-06-15 18:00:29.241099: I tensorflow_io/core/kernels/kafka_kernels.cc:248] Kafka stream starts with current offset: 45056\n"
     ]
    },
    {
     "name": "stdout",
     "output_type": "stream",
     "text": [
      "714/938 [=====================>........] - ETA: 6s - loss: 0.4486 - accuracy: 0.7925"
     ]
    },
    {
     "name": "stderr",
     "output_type": "stream",
     "text": [
      "2022-06-15 18:00:29.784869: I tensorflow_io/core/kernels/kafka_kernels.cc:248] Kafka stream starts with current offset: 46080\n"
     ]
    },
    {
     "name": "stdout",
     "output_type": "stream",
     "text": [
      "734/938 [======================>.......] - ETA: 5s - loss: 0.4483 - accuracy: 0.7929"
     ]
    },
    {
     "name": "stderr",
     "output_type": "stream",
     "text": [
      "2022-06-15 18:00:30.296413: I tensorflow_io/core/kernels/kafka_kernels.cc:248] Kafka stream starts with current offset: 47104\n"
     ]
    },
    {
     "name": "stdout",
     "output_type": "stream",
     "text": [
      "750/938 [======================>.......] - ETA: 5s - loss: 0.4484 - accuracy: 0.7927"
     ]
    },
    {
     "name": "stderr",
     "output_type": "stream",
     "text": [
      "2022-06-15 18:00:30.816535: I tensorflow_io/core/kernels/kafka_kernels.cc:248] Kafka stream starts with current offset: 48128\n"
     ]
    },
    {
     "name": "stdout",
     "output_type": "stream",
     "text": [
      "765/938 [=======================>......] - ETA: 4s - loss: 0.4488 - accuracy: 0.7923"
     ]
    },
    {
     "name": "stderr",
     "output_type": "stream",
     "text": [
      "2022-06-15 18:00:31.319967: I tensorflow_io/core/kernels/kafka_kernels.cc:248] Kafka stream starts with current offset: 49152\n"
     ]
    },
    {
     "name": "stdout",
     "output_type": "stream",
     "text": [
      "783/938 [========================>.....] - ETA: 4s - loss: 0.4493 - accuracy: 0.7918"
     ]
    },
    {
     "name": "stderr",
     "output_type": "stream",
     "text": [
      "2022-06-15 18:00:31.887576: I tensorflow_io/core/kernels/kafka_kernels.cc:248] Kafka stream starts with current offset: 50176\n"
     ]
    },
    {
     "name": "stdout",
     "output_type": "stream",
     "text": [
      "784/938 [========================>.....] - ETA: 4s - loss: 0.4492 - accuracy: 0.7918"
     ]
    },
    {
     "name": "stderr",
     "output_type": "stream",
     "text": [
      "2022-06-15 18:00:32.363243: I tensorflow_io/core/kernels/kafka_kernels.cc:248] Kafka stream starts with current offset: 51200\n"
     ]
    },
    {
     "name": "stdout",
     "output_type": "stream",
     "text": [
      "815/938 [=========================>....] - ETA: 3s - loss: 0.4491 - accuracy: 0.7917"
     ]
    },
    {
     "name": "stderr",
     "output_type": "stream",
     "text": [
      "2022-06-15 18:00:32.875078: I tensorflow_io/core/kernels/kafka_kernels.cc:248] Kafka stream starts with current offset: 52224\n"
     ]
    },
    {
     "name": "stdout",
     "output_type": "stream",
     "text": [
      "816/938 [=========================>....] - ETA: 3s - loss: 0.4491 - accuracy: 0.7917"
     ]
    },
    {
     "name": "stderr",
     "output_type": "stream",
     "text": [
      "2022-06-15 18:00:33.377585: I tensorflow_io/core/kernels/kafka_kernels.cc:248] Kafka stream starts with current offset: 53248\n"
     ]
    },
    {
     "name": "stdout",
     "output_type": "stream",
     "text": [
      "832/938 [=========================>....] - ETA: 3s - loss: 0.4491 - accuracy: 0.7917"
     ]
    },
    {
     "name": "stderr",
     "output_type": "stream",
     "text": [
      "2022-06-15 18:00:33.889479: I tensorflow_io/core/kernels/kafka_kernels.cc:248] Kafka stream starts with current offset: 54272\n"
     ]
    },
    {
     "name": "stdout",
     "output_type": "stream",
     "text": [
      "862/938 [==========================>...] - ETA: 2s - loss: 0.4487 - accuracy: 0.7920"
     ]
    },
    {
     "name": "stderr",
     "output_type": "stream",
     "text": [
      "2022-06-15 18:00:34.396306: I tensorflow_io/core/kernels/kafka_kernels.cc:248] Kafka stream starts with current offset: 55296\n"
     ]
    },
    {
     "name": "stdout",
     "output_type": "stream",
     "text": [
      "877/938 [===========================>..] - ETA: 1s - loss: 0.4491 - accuracy: 0.7916"
     ]
    },
    {
     "name": "stderr",
     "output_type": "stream",
     "text": [
      "2022-06-15 18:00:34.904971: I tensorflow_io/core/kernels/kafka_kernels.cc:248] Kafka stream starts with current offset: 56320\n"
     ]
    },
    {
     "name": "stdout",
     "output_type": "stream",
     "text": [
      "893/938 [===========================>..] - ETA: 1s - loss: 0.4494 - accuracy: 0.7914"
     ]
    },
    {
     "name": "stderr",
     "output_type": "stream",
     "text": [
      "2022-06-15 18:00:35.411811: I tensorflow_io/core/kernels/kafka_kernels.cc:248] Kafka stream starts with current offset: 57344\n"
     ]
    },
    {
     "name": "stdout",
     "output_type": "stream",
     "text": [
      "910/938 [============================>.] - ETA: 0s - loss: 0.4498 - accuracy: 0.7908"
     ]
    },
    {
     "name": "stderr",
     "output_type": "stream",
     "text": [
      "2022-06-15 18:00:35.910386: I tensorflow_io/core/kernels/kafka_kernels.cc:248] Kafka stream starts with current offset: 58368\n"
     ]
    },
    {
     "name": "stdout",
     "output_type": "stream",
     "text": [
      "924/938 [============================>.] - ETA: 0s - loss: 0.4499 - accuracy: 0.7909"
     ]
    },
    {
     "name": "stderr",
     "output_type": "stream",
     "text": [
      "2022-06-15 18:00:36.421079: I tensorflow_io/core/kernels/kafka_kernels.cc:248] Kafka stream starts with current offset: 59392\n"
     ]
    },
    {
     "name": "stdout",
     "output_type": "stream",
     "text": [
      "938/938 [==============================] - 27s 29ms/step - loss: 0.4495 - accuracy: 0.7911\n",
      "Epoch 6/10\n"
     ]
    },
    {
     "name": "stderr",
     "output_type": "stream",
     "text": [
      "2022-06-15 18:00:36.909507: I tensorflow_io/core/kernels/kafka_kernels.cc:248] Kafka stream starts with current offset: 0\n"
     ]
    },
    {
     "name": "stdout",
     "output_type": "stream",
     "text": [
      " 13/938 [..............................] - ETA: 3s - loss: 0.4125 - accuracy: 0.8233  "
     ]
    },
    {
     "name": "stderr",
     "output_type": "stream",
     "text": [
      "2022-06-15 18:00:37.432378: I tensorflow_io/core/kernels/kafka_kernels.cc:248] Kafka stream starts with current offset: 1024\n"
     ]
    },
    {
     "name": "stdout",
     "output_type": "stream",
     "text": [
      " 40/938 [>.............................] - ETA: 15s - loss: 0.4241 - accuracy: 0.8105"
     ]
    },
    {
     "name": "stderr",
     "output_type": "stream",
     "text": [
      "2022-06-15 18:00:37.996627: I tensorflow_io/core/kernels/kafka_kernels.cc:248] Kafka stream starts with current offset: 2048\n",
      "2022-06-15 18:00:38.069491: I tensorflow_io/core/kernels/kafka_kernels.cc:248] Kafka stream starts with current offset: 3072\n"
     ]
    },
    {
     "name": "stdout",
     "output_type": "stream",
     "text": [
      " 61/938 [>.............................] - ETA: 18s - loss: 0.4385 - accuracy: 0.7989"
     ]
    },
    {
     "name": "stderr",
     "output_type": "stream",
     "text": [
      "2022-06-15 18:00:38.632472: I tensorflow_io/core/kernels/kafka_kernels.cc:248] Kafka stream starts with current offset: 4096\n"
     ]
    },
    {
     "name": "stdout",
     "output_type": "stream",
     "text": [
      "115/938 [==>...........................] - ETA: 14s - loss: 0.4411 - accuracy: 0.7959"
     ]
    },
    {
     "name": "stderr",
     "output_type": "stream",
     "text": [
      "2022-06-15 18:00:39.194874: I tensorflow_io/core/kernels/kafka_kernels.cc:248] Kafka stream starts with current offset: 5120\n",
      "2022-06-15 18:00:39.255410: I tensorflow_io/core/kernels/kafka_kernels.cc:248] Kafka stream starts with current offset: 6144\n",
      "2022-06-15 18:00:39.321738: I tensorflow_io/core/kernels/kafka_kernels.cc:248] Kafka stream starts with current offset: 7168\n",
      "2022-06-15 18:00:39.393498: I tensorflow_io/core/kernels/kafka_kernels.cc:248] Kafka stream starts with current offset: 8192\n"
     ]
    },
    {
     "name": "stdout",
     "output_type": "stream",
     "text": [
      "140/938 [===>..........................] - ETA: 14s - loss: 0.4429 - accuracy: 0.7953"
     ]
    },
    {
     "name": "stderr",
     "output_type": "stream",
     "text": [
      "2022-06-15 18:00:39.940765: I tensorflow_io/core/kernels/kafka_kernels.cc:248] Kafka stream starts with current offset: 9216\n"
     ]
    },
    {
     "name": "stdout",
     "output_type": "stream",
     "text": [
      "156/938 [===>..........................] - ETA: 15s - loss: 0.4445 - accuracy: 0.7939"
     ]
    },
    {
     "name": "stderr",
     "output_type": "stream",
     "text": [
      "2022-06-15 18:00:40.498309: I tensorflow_io/core/kernels/kafka_kernels.cc:248] Kafka stream starts with current offset: 10240\n"
     ]
    },
    {
     "name": "stdout",
     "output_type": "stream",
     "text": [
      "174/938 [====>.........................] - ETA: 16s - loss: 0.4451 - accuracy: 0.7936"
     ]
    },
    {
     "name": "stderr",
     "output_type": "stream",
     "text": [
      "2022-06-15 18:00:41.054446: I tensorflow_io/core/kernels/kafka_kernels.cc:248] Kafka stream starts with current offset: 11264\n"
     ]
    },
    {
     "name": "stdout",
     "output_type": "stream",
     "text": [
      "186/938 [====>.........................] - ETA: 17s - loss: 0.4466 - accuracy: 0.7924"
     ]
    },
    {
     "name": "stderr",
     "output_type": "stream",
     "text": [
      "2022-06-15 18:00:41.619992: I tensorflow_io/core/kernels/kafka_kernels.cc:248] Kafka stream starts with current offset: 12288\n"
     ]
    },
    {
     "name": "stdout",
     "output_type": "stream",
     "text": [
      "200/938 [=====>........................] - ETA: 17s - loss: 0.4479 - accuracy: 0.7909"
     ]
    },
    {
     "name": "stderr",
     "output_type": "stream",
     "text": [
      "2022-06-15 18:00:42.210923: I tensorflow_io/core/kernels/kafka_kernels.cc:248] Kafka stream starts with current offset: 13312\n"
     ]
    },
    {
     "name": "stdout",
     "output_type": "stream",
     "text": [
      "221/938 [======>.......................] - ETA: 17s - loss: 0.4479 - accuracy: 0.7919"
     ]
    },
    {
     "name": "stderr",
     "output_type": "stream",
     "text": [
      "2022-06-15 18:00:42.763377: I tensorflow_io/core/kernels/kafka_kernels.cc:248] Kafka stream starts with current offset: 14336\n"
     ]
    },
    {
     "name": "stdout",
     "output_type": "stream",
     "text": [
      "253/938 [=======>......................] - ETA: 16s - loss: 0.4504 - accuracy: 0.7906"
     ]
    },
    {
     "name": "stderr",
     "output_type": "stream",
     "text": [
      "2022-06-15 18:00:43.333361: I tensorflow_io/core/kernels/kafka_kernels.cc:248] Kafka stream starts with current offset: 15360\n",
      "2022-06-15 18:00:43.426172: I tensorflow_io/core/kernels/kafka_kernels.cc:248] Kafka stream starts with current offset: 16384\n"
     ]
    },
    {
     "name": "stdout",
     "output_type": "stream",
     "text": [
      "270/938 [=======>......................] - ETA: 16s - loss: 0.4491 - accuracy: 0.7918"
     ]
    },
    {
     "name": "stderr",
     "output_type": "stream",
     "text": [
      "2022-06-15 18:00:43.966261: I tensorflow_io/core/kernels/kafka_kernels.cc:248] Kafka stream starts with current offset: 17408\n"
     ]
    },
    {
     "name": "stdout",
     "output_type": "stream",
     "text": [
      "286/938 [========>.....................] - ETA: 16s - loss: 0.4481 - accuracy: 0.7920"
     ]
    },
    {
     "name": "stderr",
     "output_type": "stream",
     "text": [
      "2022-06-15 18:00:44.509472: I tensorflow_io/core/kernels/kafka_kernels.cc:248] Kafka stream starts with current offset: 18432\n"
     ]
    },
    {
     "name": "stdout",
     "output_type": "stream",
     "text": [
      "302/938 [========>.....................] - ETA: 16s - loss: 0.4485 - accuracy: 0.7916"
     ]
    },
    {
     "name": "stderr",
     "output_type": "stream",
     "text": [
      "2022-06-15 18:00:45.065379: I tensorflow_io/core/kernels/kafka_kernels.cc:248] Kafka stream starts with current offset: 19456\n"
     ]
    },
    {
     "name": "stdout",
     "output_type": "stream",
     "text": [
      "318/938 [=========>....................] - ETA: 16s - loss: 0.4494 - accuracy: 0.7918"
     ]
    },
    {
     "name": "stderr",
     "output_type": "stream",
     "text": [
      "2022-06-15 18:00:45.619026: I tensorflow_io/core/kernels/kafka_kernels.cc:248] Kafka stream starts with current offset: 20480\n"
     ]
    },
    {
     "name": "stdout",
     "output_type": "stream",
     "text": [
      "334/938 [=========>....................] - ETA: 15s - loss: 0.4493 - accuracy: 0.7916"
     ]
    },
    {
     "name": "stderr",
     "output_type": "stream",
     "text": [
      "2022-06-15 18:00:46.174866: I tensorflow_io/core/kernels/kafka_kernels.cc:248] Kafka stream starts with current offset: 21504\n"
     ]
    },
    {
     "name": "stdout",
     "output_type": "stream",
     "text": [
      "347/938 [==========>...................] - ETA: 15s - loss: 0.4492 - accuracy: 0.7917"
     ]
    },
    {
     "name": "stderr",
     "output_type": "stream",
     "text": [
      "2022-06-15 18:00:46.732687: I tensorflow_io/core/kernels/kafka_kernels.cc:248] Kafka stream starts with current offset: 22528\n"
     ]
    },
    {
     "name": "stdout",
     "output_type": "stream",
     "text": [
      "366/938 [==========>...................] - ETA: 15s - loss: 0.4487 - accuracy: 0.7916"
     ]
    },
    {
     "name": "stderr",
     "output_type": "stream",
     "text": [
      "2022-06-15 18:00:47.288177: I tensorflow_io/core/kernels/kafka_kernels.cc:248] Kafka stream starts with current offset: 23552\n"
     ]
    },
    {
     "name": "stdout",
     "output_type": "stream",
     "text": [
      "380/938 [===========>..................] - ETA: 15s - loss: 0.4487 - accuracy: 0.7917"
     ]
    },
    {
     "name": "stderr",
     "output_type": "stream",
     "text": [
      "2022-06-15 18:00:47.868352: I tensorflow_io/core/kernels/kafka_kernels.cc:248] Kafka stream starts with current offset: 24576\n"
     ]
    },
    {
     "name": "stdout",
     "output_type": "stream",
     "text": [
      "397/938 [===========>..................] - ETA: 15s - loss: 0.4482 - accuracy: 0.7929"
     ]
    },
    {
     "name": "stderr",
     "output_type": "stream",
     "text": [
      "2022-06-15 18:00:48.382508: I tensorflow_io/core/kernels/kafka_kernels.cc:248] Kafka stream starts with current offset: 25600\n"
     ]
    },
    {
     "name": "stdout",
     "output_type": "stream",
     "text": [
      "414/938 [============>.................] - ETA: 14s - loss: 0.4472 - accuracy: 0.7934"
     ]
    },
    {
     "name": "stderr",
     "output_type": "stream",
     "text": [
      "2022-06-15 18:00:48.928941: I tensorflow_io/core/kernels/kafka_kernels.cc:248] Kafka stream starts with current offset: 26624\n"
     ]
    },
    {
     "name": "stdout",
     "output_type": "stream",
     "text": [
      "431/938 [============>.................] - ETA: 14s - loss: 0.4476 - accuracy: 0.7930"
     ]
    },
    {
     "name": "stderr",
     "output_type": "stream",
     "text": [
      "2022-06-15 18:00:49.484084: I tensorflow_io/core/kernels/kafka_kernels.cc:248] Kafka stream starts with current offset: 27648\n"
     ]
    },
    {
     "name": "stdout",
     "output_type": "stream",
     "text": [
      "442/938 [=============>................] - ETA: 14s - loss: 0.4485 - accuracy: 0.7923"
     ]
    },
    {
     "name": "stderr",
     "output_type": "stream",
     "text": [
      "2022-06-15 18:00:50.050216: I tensorflow_io/core/kernels/kafka_kernels.cc:248] Kafka stream starts with current offset: 28672\n"
     ]
    },
    {
     "name": "stdout",
     "output_type": "stream",
     "text": [
      "462/938 [=============>................] - ETA: 13s - loss: 0.4480 - accuracy: 0.7924"
     ]
    },
    {
     "name": "stderr",
     "output_type": "stream",
     "text": [
      "2022-06-15 18:00:50.600151: I tensorflow_io/core/kernels/kafka_kernels.cc:248] Kafka stream starts with current offset: 29696\n"
     ]
    },
    {
     "name": "stdout",
     "output_type": "stream",
     "text": [
      "479/938 [==============>...............] - ETA: 13s - loss: 0.4471 - accuracy: 0.7929"
     ]
    },
    {
     "name": "stderr",
     "output_type": "stream",
     "text": [
      "2022-06-15 18:00:51.150846: I tensorflow_io/core/kernels/kafka_kernels.cc:248] Kafka stream starts with current offset: 30720\n"
     ]
    },
    {
     "name": "stdout",
     "output_type": "stream",
     "text": [
      "493/938 [==============>...............] - ETA: 12s - loss: 0.4465 - accuracy: 0.7933"
     ]
    },
    {
     "name": "stderr",
     "output_type": "stream",
     "text": [
      "2022-06-15 18:00:51.706491: I tensorflow_io/core/kernels/kafka_kernels.cc:248] Kafka stream starts with current offset: 31744\n"
     ]
    },
    {
     "name": "stdout",
     "output_type": "stream",
     "text": [
      "505/938 [===============>..............] - ETA: 12s - loss: 0.4466 - accuracy: 0.7933"
     ]
    },
    {
     "name": "stderr",
     "output_type": "stream",
     "text": [
      "2022-06-15 18:00:52.258793: I tensorflow_io/core/kernels/kafka_kernels.cc:248] Kafka stream starts with current offset: 32768\n"
     ]
    },
    {
     "name": "stdout",
     "output_type": "stream",
     "text": [
      "527/938 [===============>..............] - ETA: 12s - loss: 0.4458 - accuracy: 0.7937"
     ]
    },
    {
     "name": "stderr",
     "output_type": "stream",
     "text": [
      "2022-06-15 18:00:52.783820: I tensorflow_io/core/kernels/kafka_kernels.cc:248] Kafka stream starts with current offset: 33792\n"
     ]
    },
    {
     "name": "stdout",
     "output_type": "stream",
     "text": [
      "541/938 [================>.............] - ETA: 11s - loss: 0.4460 - accuracy: 0.7932"
     ]
    },
    {
     "name": "stderr",
     "output_type": "stream",
     "text": [
      "2022-06-15 18:00:53.325519: I tensorflow_io/core/kernels/kafka_kernels.cc:248] Kafka stream starts with current offset: 34816\n"
     ]
    },
    {
     "name": "stdout",
     "output_type": "stream",
     "text": [
      "556/938 [================>.............] - ETA: 11s - loss: 0.4459 - accuracy: 0.7935"
     ]
    },
    {
     "name": "stderr",
     "output_type": "stream",
     "text": [
      "2022-06-15 18:00:53.872106: I tensorflow_io/core/kernels/kafka_kernels.cc:248] Kafka stream starts with current offset: 35840\n"
     ]
    },
    {
     "name": "stdout",
     "output_type": "stream",
     "text": [
      "573/938 [=================>............] - ETA: 10s - loss: 0.4468 - accuracy: 0.7935"
     ]
    },
    {
     "name": "stderr",
     "output_type": "stream",
     "text": [
      "2022-06-15 18:00:54.395546: I tensorflow_io/core/kernels/kafka_kernels.cc:248] Kafka stream starts with current offset: 36864\n"
     ]
    },
    {
     "name": "stdout",
     "output_type": "stream",
     "text": [
      "576/938 [=================>............] - ETA: 11s - loss: 0.4466 - accuracy: 0.7935"
     ]
    },
    {
     "name": "stderr",
     "output_type": "stream",
     "text": [
      "2022-06-15 18:00:54.916986: I tensorflow_io/core/kernels/kafka_kernels.cc:248] Kafka stream starts with current offset: 37888\n"
     ]
    },
    {
     "name": "stdout",
     "output_type": "stream",
     "text": [
      "607/938 [==================>...........] - ETA: 9s - loss: 0.4470 - accuracy: 0.7933 "
     ]
    },
    {
     "name": "stderr",
     "output_type": "stream",
     "text": [
      "2022-06-15 18:00:55.445419: I tensorflow_io/core/kernels/kafka_kernels.cc:248] Kafka stream starts with current offset: 38912\n"
     ]
    },
    {
     "name": "stdout",
     "output_type": "stream",
     "text": [
      "623/938 [==================>...........] - ETA: 9s - loss: 0.4472 - accuracy: 0.7929 "
     ]
    },
    {
     "name": "stderr",
     "output_type": "stream",
     "text": [
      "2022-06-15 18:00:55.981761: I tensorflow_io/core/kernels/kafka_kernels.cc:248] Kafka stream starts with current offset: 39936\n"
     ]
    },
    {
     "name": "stdout",
     "output_type": "stream",
     "text": [
      "639/938 [===================>..........] - ETA: 8s - loss: 0.4472 - accuracy: 0.7930"
     ]
    },
    {
     "name": "stderr",
     "output_type": "stream",
     "text": [
      "2022-06-15 18:00:56.497513: I tensorflow_io/core/kernels/kafka_kernels.cc:248] Kafka stream starts with current offset: 40960\n"
     ]
    },
    {
     "name": "stdout",
     "output_type": "stream",
     "text": [
      "655/938 [===================>..........] - ETA: 8s - loss: 0.4476 - accuracy: 0.7926"
     ]
    },
    {
     "name": "stderr",
     "output_type": "stream",
     "text": [
      "2022-06-15 18:00:57.028429: I tensorflow_io/core/kernels/kafka_kernels.cc:248] Kafka stream starts with current offset: 41984\n"
     ]
    },
    {
     "name": "stdout",
     "output_type": "stream",
     "text": [
      "656/938 [===================>..........] - ETA: 8s - loss: 0.4475 - accuracy: 0.7927"
     ]
    },
    {
     "name": "stderr",
     "output_type": "stream",
     "text": [
      "2022-06-15 18:00:57.569557: I tensorflow_io/core/kernels/kafka_kernels.cc:248] Kafka stream starts with current offset: 43008\n"
     ]
    },
    {
     "name": "stdout",
     "output_type": "stream",
     "text": [
      "687/938 [====================>.........] - ETA: 7s - loss: 0.4471 - accuracy: 0.7927"
     ]
    },
    {
     "name": "stderr",
     "output_type": "stream",
     "text": [
      "2022-06-15 18:00:58.095174: I tensorflow_io/core/kernels/kafka_kernels.cc:248] Kafka stream starts with current offset: 44032\n"
     ]
    },
    {
     "name": "stdout",
     "output_type": "stream",
     "text": [
      "701/938 [=====================>........] - ETA: 7s - loss: 0.4471 - accuracy: 0.7928"
     ]
    },
    {
     "name": "stderr",
     "output_type": "stream",
     "text": [
      "2022-06-15 18:00:58.627551: I tensorflow_io/core/kernels/kafka_kernels.cc:248] Kafka stream starts with current offset: 45056\n"
     ]
    },
    {
     "name": "stdout",
     "output_type": "stream",
     "text": [
      "718/938 [=====================>........] - ETA: 6s - loss: 0.4471 - accuracy: 0.7923"
     ]
    },
    {
     "name": "stderr",
     "output_type": "stream",
     "text": [
      "2022-06-15 18:00:59.139559: I tensorflow_io/core/kernels/kafka_kernels.cc:248] Kafka stream starts with current offset: 46080\n"
     ]
    },
    {
     "name": "stdout",
     "output_type": "stream",
     "text": [
      "730/938 [======================>.......] - ETA: 6s - loss: 0.4469 - accuracy: 0.7925"
     ]
    },
    {
     "name": "stderr",
     "output_type": "stream",
     "text": [
      "2022-06-15 18:00:59.673812: I tensorflow_io/core/kernels/kafka_kernels.cc:248] Kafka stream starts with current offset: 47104\n"
     ]
    },
    {
     "name": "stdout",
     "output_type": "stream",
     "text": [
      "750/938 [======================>.......] - ETA: 5s - loss: 0.4468 - accuracy: 0.7926"
     ]
    },
    {
     "name": "stderr",
     "output_type": "stream",
     "text": [
      "2022-06-15 18:01:00.179412: I tensorflow_io/core/kernels/kafka_kernels.cc:248] Kafka stream starts with current offset: 48128\n"
     ]
    },
    {
     "name": "stdout",
     "output_type": "stream",
     "text": [
      "752/938 [=======================>......] - ETA: 5s - loss: 0.4467 - accuracy: 0.7927"
     ]
    },
    {
     "name": "stderr",
     "output_type": "stream",
     "text": [
      "2022-06-15 18:01:00.695474: I tensorflow_io/core/kernels/kafka_kernels.cc:248] Kafka stream starts with current offset: 49152\n"
     ]
    },
    {
     "name": "stdout",
     "output_type": "stream",
     "text": [
      "768/938 [=======================>......] - ETA: 5s - loss: 0.4471 - accuracy: 0.7921"
     ]
    },
    {
     "name": "stderr",
     "output_type": "stream",
     "text": [
      "2022-06-15 18:01:01.207428: I tensorflow_io/core/kernels/kafka_kernels.cc:248] Kafka stream starts with current offset: 50176\n"
     ]
    },
    {
     "name": "stdout",
     "output_type": "stream",
     "text": [
      "784/938 [========================>.....] - ETA: 4s - loss: 0.4475 - accuracy: 0.7917"
     ]
    },
    {
     "name": "stderr",
     "output_type": "stream",
     "text": [
      "2022-06-15 18:01:01.722700: I tensorflow_io/core/kernels/kafka_kernels.cc:248] Kafka stream starts with current offset: 51200\n"
     ]
    },
    {
     "name": "stdout",
     "output_type": "stream",
     "text": [
      "815/938 [=========================>....] - ETA: 3s - loss: 0.4473 - accuracy: 0.7918"
     ]
    },
    {
     "name": "stderr",
     "output_type": "stream",
     "text": [
      "2022-06-15 18:01:02.242956: I tensorflow_io/core/kernels/kafka_kernels.cc:248] Kafka stream starts with current offset: 52224\n"
     ]
    },
    {
     "name": "stdout",
     "output_type": "stream",
     "text": [
      "830/938 [=========================>....] - ETA: 3s - loss: 0.4471 - accuracy: 0.7921"
     ]
    },
    {
     "name": "stderr",
     "output_type": "stream",
     "text": [
      "2022-06-15 18:01:02.741523: I tensorflow_io/core/kernels/kafka_kernels.cc:248] Kafka stream starts with current offset: 53248\n"
     ]
    },
    {
     "name": "stdout",
     "output_type": "stream",
     "text": [
      "832/938 [=========================>....] - ETA: 3s - loss: 0.4473 - accuracy: 0.7919"
     ]
    },
    {
     "name": "stderr",
     "output_type": "stream",
     "text": [
      "2022-06-15 18:01:03.250472: I tensorflow_io/core/kernels/kafka_kernels.cc:248] Kafka stream starts with current offset: 54272\n"
     ]
    },
    {
     "name": "stdout",
     "output_type": "stream",
     "text": [
      "848/938 [==========================>...] - ETA: 2s - loss: 0.4469 - accuracy: 0.7924"
     ]
    },
    {
     "name": "stderr",
     "output_type": "stream",
     "text": [
      "2022-06-15 18:01:03.753337: I tensorflow_io/core/kernels/kafka_kernels.cc:248] Kafka stream starts with current offset: 55296\n"
     ]
    },
    {
     "name": "stdout",
     "output_type": "stream",
     "text": [
      "864/938 [==========================>...] - ETA: 2s - loss: 0.4470 - accuracy: 0.7922"
     ]
    },
    {
     "name": "stderr",
     "output_type": "stream",
     "text": [
      "2022-06-15 18:01:04.261363: I tensorflow_io/core/kernels/kafka_kernels.cc:248] Kafka stream starts with current offset: 56320\n"
     ]
    },
    {
     "name": "stdout",
     "output_type": "stream",
     "text": [
      "880/938 [===========================>..] - ETA: 1s - loss: 0.4473 - accuracy: 0.7918"
     ]
    },
    {
     "name": "stderr",
     "output_type": "stream",
     "text": [
      "2022-06-15 18:01:04.766330: I tensorflow_io/core/kernels/kafka_kernels.cc:248] Kafka stream starts with current offset: 57344\n"
     ]
    },
    {
     "name": "stdout",
     "output_type": "stream",
     "text": [
      "911/938 [============================>.] - ETA: 0s - loss: 0.4479 - accuracy: 0.7912"
     ]
    },
    {
     "name": "stderr",
     "output_type": "stream",
     "text": [
      "2022-06-15 18:01:05.277539: I tensorflow_io/core/kernels/kafka_kernels.cc:248] Kafka stream starts with current offset: 58368\n"
     ]
    },
    {
     "name": "stdout",
     "output_type": "stream",
     "text": [
      "912/938 [============================>.] - ETA: 0s - loss: 0.4479 - accuracy: 0.7912"
     ]
    },
    {
     "name": "stderr",
     "output_type": "stream",
     "text": [
      "2022-06-15 18:01:05.772558: I tensorflow_io/core/kernels/kafka_kernels.cc:248] Kafka stream starts with current offset: 59392\n"
     ]
    },
    {
     "name": "stdout",
     "output_type": "stream",
     "text": [
      "938/938 [==============================] - 29s 31ms/step - loss: 0.4478 - accuracy: 0.7914\n",
      "Epoch 7/10\n"
     ]
    },
    {
     "name": "stderr",
     "output_type": "stream",
     "text": [
      "2022-06-15 18:01:06.277263: I tensorflow_io/core/kernels/kafka_kernels.cc:248] Kafka stream starts with current offset: 0\n"
     ]
    },
    {
     "name": "stdout",
     "output_type": "stream",
     "text": [
      " 12/938 [..............................] - ETA: 4s - loss: 0.4207 - accuracy: 0.8164  "
     ]
    },
    {
     "name": "stderr",
     "output_type": "stream",
     "text": [
      "2022-06-15 18:01:06.807437: I tensorflow_io/core/kernels/kafka_kernels.cc:248] Kafka stream starts with current offset: 1024\n"
     ]
    },
    {
     "name": "stdout",
     "output_type": "stream",
     "text": [
      " 41/938 [>.............................] - ETA: 15s - loss: 0.4203 - accuracy: 0.8095"
     ]
    },
    {
     "name": "stderr",
     "output_type": "stream",
     "text": [
      "2022-06-15 18:01:07.368147: I tensorflow_io/core/kernels/kafka_kernels.cc:248] Kafka stream starts with current offset: 2048\n",
      "2022-06-15 18:01:07.445785: I tensorflow_io/core/kernels/kafka_kernels.cc:248] Kafka stream starts with current offset: 3072\n"
     ]
    },
    {
     "name": "stdout",
     "output_type": "stream",
     "text": [
      " 74/938 [=>............................] - ETA: 15s - loss: 0.4362 - accuracy: 0.8005"
     ]
    },
    {
     "name": "stderr",
     "output_type": "stream",
     "text": [
      "2022-06-15 18:01:08.000657: I tensorflow_io/core/kernels/kafka_kernels.cc:248] Kafka stream starts with current offset: 4096\n",
      "2022-06-15 18:01:08.065490: I tensorflow_io/core/kernels/kafka_kernels.cc:248] Kafka stream starts with current offset: 5120\n"
     ]
    },
    {
     "name": "stdout",
     "output_type": "stream",
     "text": [
      " 94/938 [==>...........................] - ETA: 17s - loss: 0.4392 - accuracy: 0.7982"
     ]
    },
    {
     "name": "stderr",
     "output_type": "stream",
     "text": [
      "2022-06-15 18:01:08.626307: I tensorflow_io/core/kernels/kafka_kernels.cc:248] Kafka stream starts with current offset: 6144\n"
     ]
    },
    {
     "name": "stdout",
     "output_type": "stream",
     "text": [
      "137/938 [===>..........................] - ETA: 15s - loss: 0.4412 - accuracy: 0.7980"
     ]
    },
    {
     "name": "stderr",
     "output_type": "stream",
     "text": [
      "2022-06-15 18:01:09.185670: I tensorflow_io/core/kernels/kafka_kernels.cc:248] Kafka stream starts with current offset: 7168\n",
      "2022-06-15 18:01:09.247690: I tensorflow_io/core/kernels/kafka_kernels.cc:248] Kafka stream starts with current offset: 8192\n",
      "2022-06-15 18:01:09.307220: I tensorflow_io/core/kernels/kafka_kernels.cc:248] Kafka stream starts with current offset: 9216\n"
     ]
    },
    {
     "name": "stdout",
     "output_type": "stream",
     "text": [
      "168/938 [====>.........................] - ETA: 14s - loss: 0.4440 - accuracy: 0.7957"
     ]
    },
    {
     "name": "stderr",
     "output_type": "stream",
     "text": [
      "2022-06-15 18:01:09.862393: I tensorflow_io/core/kernels/kafka_kernels.cc:248] Kafka stream starts with current offset: 10240\n",
      "2022-06-15 18:01:09.937610: I tensorflow_io/core/kernels/kafka_kernels.cc:248] Kafka stream starts with current offset: 11264\n"
     ]
    },
    {
     "name": "stdout",
     "output_type": "stream",
     "text": [
      "203/938 [=====>........................] - ETA: 13s - loss: 0.4474 - accuracy: 0.7933"
     ]
    },
    {
     "name": "stderr",
     "output_type": "stream",
     "text": [
      "2022-06-15 18:01:10.481094: I tensorflow_io/core/kernels/kafka_kernels.cc:248] Kafka stream starts with current offset: 12288\n",
      "2022-06-15 18:01:10.542879: I tensorflow_io/core/kernels/kafka_kernels.cc:248] Kafka stream starts with current offset: 13312\n"
     ]
    },
    {
     "name": "stdout",
     "output_type": "stream",
     "text": [
      "234/938 [======>.......................] - ETA: 13s - loss: 0.4490 - accuracy: 0.7930"
     ]
    },
    {
     "name": "stderr",
     "output_type": "stream",
     "text": [
      "2022-06-15 18:01:11.103525: I tensorflow_io/core/kernels/kafka_kernels.cc:248] Kafka stream starts with current offset: 14336\n",
      "2022-06-15 18:01:11.166641: I tensorflow_io/core/kernels/kafka_kernels.cc:248] Kafka stream starts with current offset: 15360\n"
     ]
    },
    {
     "name": "stdout",
     "output_type": "stream",
     "text": [
      "266/938 [=======>......................] - ETA: 12s - loss: 0.4486 - accuracy: 0.7934"
     ]
    },
    {
     "name": "stderr",
     "output_type": "stream",
     "text": [
      "2022-06-15 18:01:11.708083: I tensorflow_io/core/kernels/kafka_kernels.cc:248] Kafka stream starts with current offset: 16384\n",
      "2022-06-15 18:01:11.781492: I tensorflow_io/core/kernels/kafka_kernels.cc:248] Kafka stream starts with current offset: 17408\n"
     ]
    },
    {
     "name": "stdout",
     "output_type": "stream",
     "text": [
      "286/938 [========>.....................] - ETA: 12s - loss: 0.4467 - accuracy: 0.7941"
     ]
    },
    {
     "name": "stderr",
     "output_type": "stream",
     "text": [
      "2022-06-15 18:01:12.319623: I tensorflow_io/core/kernels/kafka_kernels.cc:248] Kafka stream starts with current offset: 18432\n"
     ]
    },
    {
     "name": "stdout",
     "output_type": "stream",
     "text": [
      "301/938 [========>.....................] - ETA: 13s - loss: 0.4470 - accuracy: 0.7936"
     ]
    },
    {
     "name": "stderr",
     "output_type": "stream",
     "text": [
      "2022-06-15 18:01:12.863895: I tensorflow_io/core/kernels/kafka_kernels.cc:248] Kafka stream starts with current offset: 19456\n"
     ]
    },
    {
     "name": "stdout",
     "output_type": "stream",
     "text": [
      "318/938 [=========>....................] - ETA: 13s - loss: 0.4482 - accuracy: 0.7936"
     ]
    },
    {
     "name": "stderr",
     "output_type": "stream",
     "text": [
      "2022-06-15 18:01:13.410600: I tensorflow_io/core/kernels/kafka_kernels.cc:248] Kafka stream starts with current offset: 20480\n"
     ]
    },
    {
     "name": "stdout",
     "output_type": "stream",
     "text": [
      "332/938 [=========>....................] - ETA: 13s - loss: 0.4492 - accuracy: 0.7929"
     ]
    },
    {
     "name": "stderr",
     "output_type": "stream",
     "text": [
      "2022-06-15 18:01:13.965759: I tensorflow_io/core/kernels/kafka_kernels.cc:248] Kafka stream starts with current offset: 21504\n"
     ]
    },
    {
     "name": "stdout",
     "output_type": "stream",
     "text": [
      "351/938 [==========>...................] - ETA: 13s - loss: 0.4489 - accuracy: 0.7925"
     ]
    },
    {
     "name": "stderr",
     "output_type": "stream",
     "text": [
      "2022-06-15 18:01:14.520589: I tensorflow_io/core/kernels/kafka_kernels.cc:248] Kafka stream starts with current offset: 22528\n"
     ]
    },
    {
     "name": "stdout",
     "output_type": "stream",
     "text": [
      "366/938 [==========>...................] - ETA: 13s - loss: 0.4477 - accuracy: 0.7931"
     ]
    },
    {
     "name": "stderr",
     "output_type": "stream",
     "text": [
      "2022-06-15 18:01:15.067941: I tensorflow_io/core/kernels/kafka_kernels.cc:248] Kafka stream starts with current offset: 23552\n"
     ]
    },
    {
     "name": "stdout",
     "output_type": "stream",
     "text": [
      "381/938 [===========>..................] - ETA: 13s - loss: 0.4478 - accuracy: 0.7931"
     ]
    },
    {
     "name": "stderr",
     "output_type": "stream",
     "text": [
      "2022-06-15 18:01:15.629489: I tensorflow_io/core/kernels/kafka_kernels.cc:248] Kafka stream starts with current offset: 24576\n"
     ]
    },
    {
     "name": "stdout",
     "output_type": "stream",
     "text": [
      "399/938 [===========>..................] - ETA: 12s - loss: 0.4471 - accuracy: 0.7937"
     ]
    },
    {
     "name": "stderr",
     "output_type": "stream",
     "text": [
      "2022-06-15 18:01:16.153071: I tensorflow_io/core/kernels/kafka_kernels.cc:248] Kafka stream starts with current offset: 25600\n"
     ]
    },
    {
     "name": "stdout",
     "output_type": "stream",
     "text": [
      "408/938 [============>.................] - ETA: 12s - loss: 0.4468 - accuracy: 0.7942"
     ]
    },
    {
     "name": "stderr",
     "output_type": "stream",
     "text": [
      "2022-06-15 18:01:16.729265: I tensorflow_io/core/kernels/kafka_kernels.cc:248] Kafka stream starts with current offset: 26624\n"
     ]
    },
    {
     "name": "stdout",
     "output_type": "stream",
     "text": [
      "431/938 [============>.................] - ETA: 12s - loss: 0.4461 - accuracy: 0.7949"
     ]
    },
    {
     "name": "stderr",
     "output_type": "stream",
     "text": [
      "2022-06-15 18:01:17.287750: I tensorflow_io/core/kernels/kafka_kernels.cc:248] Kafka stream starts with current offset: 27648\n"
     ]
    },
    {
     "name": "stdout",
     "output_type": "stream",
     "text": [
      "432/938 [============>.................] - ETA: 12s - loss: 0.4464 - accuracy: 0.7946"
     ]
    },
    {
     "name": "stderr",
     "output_type": "stream",
     "text": [
      "2022-06-15 18:01:17.830804: I tensorflow_io/core/kernels/kafka_kernels.cc:248] Kafka stream starts with current offset: 28672\n"
     ]
    },
    {
     "name": "stdout",
     "output_type": "stream",
     "text": [
      "462/938 [=============>................] - ETA: 12s - loss: 0.4465 - accuracy: 0.7945"
     ]
    },
    {
     "name": "stderr",
     "output_type": "stream",
     "text": [
      "2022-06-15 18:01:18.379026: I tensorflow_io/core/kernels/kafka_kernels.cc:248] Kafka stream starts with current offset: 29696\n"
     ]
    },
    {
     "name": "stdout",
     "output_type": "stream",
     "text": [
      "479/938 [==============>...............] - ETA: 11s - loss: 0.4456 - accuracy: 0.7949"
     ]
    },
    {
     "name": "stderr",
     "output_type": "stream",
     "text": [
      "2022-06-15 18:01:18.910273: I tensorflow_io/core/kernels/kafka_kernels.cc:248] Kafka stream starts with current offset: 30720\n"
     ]
    },
    {
     "name": "stdout",
     "output_type": "stream",
     "text": [
      "480/938 [==============>...............] - ETA: 12s - loss: 0.4453 - accuracy: 0.7950"
     ]
    },
    {
     "name": "stderr",
     "output_type": "stream",
     "text": [
      "2022-06-15 18:01:19.441001: I tensorflow_io/core/kernels/kafka_kernels.cc:248] Kafka stream starts with current offset: 31744\n"
     ]
    },
    {
     "name": "stdout",
     "output_type": "stream",
     "text": [
      "511/938 [===============>..............] - ETA: 11s - loss: 0.4443 - accuracy: 0.7952"
     ]
    },
    {
     "name": "stderr",
     "output_type": "stream",
     "text": [
      "2022-06-15 18:01:19.985886: I tensorflow_io/core/kernels/kafka_kernels.cc:248] Kafka stream starts with current offset: 32768\n"
     ]
    },
    {
     "name": "stdout",
     "output_type": "stream",
     "text": [
      "525/938 [===============>..............] - ETA: 10s - loss: 0.4442 - accuracy: 0.7952"
     ]
    },
    {
     "name": "stderr",
     "output_type": "stream",
     "text": [
      "2022-06-15 18:01:20.521295: I tensorflow_io/core/kernels/kafka_kernels.cc:248] Kafka stream starts with current offset: 33792\n"
     ]
    },
    {
     "name": "stdout",
     "output_type": "stream",
     "text": [
      "542/938 [================>.............] - ETA: 10s - loss: 0.4444 - accuracy: 0.7947"
     ]
    },
    {
     "name": "stderr",
     "output_type": "stream",
     "text": [
      "2022-06-15 18:01:21.078063: I tensorflow_io/core/kernels/kafka_kernels.cc:248] Kafka stream starts with current offset: 34816\n"
     ]
    },
    {
     "name": "stdout",
     "output_type": "stream",
     "text": [
      "556/938 [================>.............] - ETA: 10s - loss: 0.4442 - accuracy: 0.7949"
     ]
    },
    {
     "name": "stderr",
     "output_type": "stream",
     "text": [
      "2022-06-15 18:01:21.631187: I tensorflow_io/core/kernels/kafka_kernels.cc:248] Kafka stream starts with current offset: 35840\n"
     ]
    },
    {
     "name": "stdout",
     "output_type": "stream",
     "text": [
      "572/938 [=================>............] - ETA: 9s - loss: 0.4449 - accuracy: 0.7949 "
     ]
    },
    {
     "name": "stderr",
     "output_type": "stream",
     "text": [
      "2022-06-15 18:01:22.185697: I tensorflow_io/core/kernels/kafka_kernels.cc:248] Kafka stream starts with current offset: 36864\n"
     ]
    },
    {
     "name": "stdout",
     "output_type": "stream",
     "text": [
      "576/938 [=================>............] - ETA: 10s - loss: 0.4448 - accuracy: 0.7949"
     ]
    },
    {
     "name": "stderr",
     "output_type": "stream",
     "text": [
      "2022-06-15 18:01:22.701492: I tensorflow_io/core/kernels/kafka_kernels.cc:248] Kafka stream starts with current offset: 37888\n"
     ]
    },
    {
     "name": "stdout",
     "output_type": "stream",
     "text": [
      "607/938 [==================>...........] - ETA: 9s - loss: 0.4448 - accuracy: 0.7945"
     ]
    },
    {
     "name": "stderr",
     "output_type": "stream",
     "text": [
      "2022-06-15 18:01:23.237626: I tensorflow_io/core/kernels/kafka_kernels.cc:248] Kafka stream starts with current offset: 38912\n"
     ]
    },
    {
     "name": "stdout",
     "output_type": "stream",
     "text": [
      "623/938 [==================>...........] - ETA: 8s - loss: 0.4453 - accuracy: 0.7940"
     ]
    },
    {
     "name": "stderr",
     "output_type": "stream",
     "text": [
      "2022-06-15 18:01:23.776558: I tensorflow_io/core/kernels/kafka_kernels.cc:248] Kafka stream starts with current offset: 39936\n"
     ]
    },
    {
     "name": "stdout",
     "output_type": "stream",
     "text": [
      "624/938 [==================>...........] - ETA: 8s - loss: 0.4452 - accuracy: 0.7941"
     ]
    },
    {
     "name": "stderr",
     "output_type": "stream",
     "text": [
      "2022-06-15 18:01:24.306262: I tensorflow_io/core/kernels/kafka_kernels.cc:248] Kafka stream starts with current offset: 40960\n"
     ]
    },
    {
     "name": "stdout",
     "output_type": "stream",
     "text": [
      "640/938 [===================>..........] - ETA: 8s - loss: 0.4454 - accuracy: 0.7941"
     ]
    },
    {
     "name": "stderr",
     "output_type": "stream",
     "text": [
      "2022-06-15 18:01:24.823649: I tensorflow_io/core/kernels/kafka_kernels.cc:248] Kafka stream starts with current offset: 41984\n"
     ]
    },
    {
     "name": "stdout",
     "output_type": "stream",
     "text": [
      "656/938 [===================>..........] - ETA: 7s - loss: 0.4457 - accuracy: 0.7938"
     ]
    },
    {
     "name": "stderr",
     "output_type": "stream",
     "text": [
      "2022-06-15 18:01:25.353764: I tensorflow_io/core/kernels/kafka_kernels.cc:248] Kafka stream starts with current offset: 43008\n"
     ]
    },
    {
     "name": "stdout",
     "output_type": "stream",
     "text": [
      "672/938 [====================>.........] - ETA: 7s - loss: 0.4453 - accuracy: 0.7938"
     ]
    },
    {
     "name": "stderr",
     "output_type": "stream",
     "text": [
      "2022-06-15 18:01:25.869286: I tensorflow_io/core/kernels/kafka_kernels.cc:248] Kafka stream starts with current offset: 44032\n"
     ]
    },
    {
     "name": "stdout",
     "output_type": "stream",
     "text": [
      "688/938 [=====================>........] - ETA: 7s - loss: 0.4453 - accuracy: 0.7939"
     ]
    },
    {
     "name": "stderr",
     "output_type": "stream",
     "text": [
      "2022-06-15 18:01:26.393384: I tensorflow_io/core/kernels/kafka_kernels.cc:248] Kafka stream starts with current offset: 45056\n"
     ]
    },
    {
     "name": "stdout",
     "output_type": "stream",
     "text": [
      "716/938 [=====================>........] - ETA: 6s - loss: 0.4453 - accuracy: 0.7937"
     ]
    },
    {
     "name": "stderr",
     "output_type": "stream",
     "text": [
      "2022-06-15 18:01:26.924084: I tensorflow_io/core/kernels/kafka_kernels.cc:248] Kafka stream starts with current offset: 46080\n"
     ]
    },
    {
     "name": "stdout",
     "output_type": "stream",
     "text": [
      "732/938 [======================>.......] - ETA: 5s - loss: 0.4451 - accuracy: 0.7938"
     ]
    },
    {
     "name": "stderr",
     "output_type": "stream",
     "text": [
      "2022-06-15 18:01:27.446162: I tensorflow_io/core/kernels/kafka_kernels.cc:248] Kafka stream starts with current offset: 47104\n"
     ]
    },
    {
     "name": "stdout",
     "output_type": "stream",
     "text": [
      "736/938 [======================>.......] - ETA: 5s - loss: 0.4451 - accuracy: 0.7937"
     ]
    },
    {
     "name": "stderr",
     "output_type": "stream",
     "text": [
      "2022-06-15 18:01:27.946570: I tensorflow_io/core/kernels/kafka_kernels.cc:248] Kafka stream starts with current offset: 48128\n"
     ]
    },
    {
     "name": "stdout",
     "output_type": "stream",
     "text": [
      "765/938 [=======================>......] - ETA: 4s - loss: 0.4453 - accuracy: 0.7935"
     ]
    },
    {
     "name": "stderr",
     "output_type": "stream",
     "text": [
      "2022-06-15 18:01:28.477397: I tensorflow_io/core/kernels/kafka_kernels.cc:248] Kafka stream starts with current offset: 49152\n"
     ]
    },
    {
     "name": "stdout",
     "output_type": "stream",
     "text": [
      "768/938 [=======================>......] - ETA: 4s - loss: 0.4452 - accuracy: 0.7935"
     ]
    },
    {
     "name": "stderr",
     "output_type": "stream",
     "text": [
      "2022-06-15 18:01:28.972379: I tensorflow_io/core/kernels/kafka_kernels.cc:248] Kafka stream starts with current offset: 50176\n"
     ]
    },
    {
     "name": "stdout",
     "output_type": "stream",
     "text": [
      "784/938 [========================>.....] - ETA: 4s - loss: 0.4457 - accuracy: 0.7933"
     ]
    },
    {
     "name": "stderr",
     "output_type": "stream",
     "text": [
      "2022-06-15 18:01:29.483487: I tensorflow_io/core/kernels/kafka_kernels.cc:248] Kafka stream starts with current offset: 51200\n"
     ]
    },
    {
     "name": "stdout",
     "output_type": "stream",
     "text": [
      "800/938 [========================>.....] - ETA: 4s - loss: 0.4458 - accuracy: 0.7932"
     ]
    },
    {
     "name": "stderr",
     "output_type": "stream",
     "text": [
      "2022-06-15 18:01:30.000081: I tensorflow_io/core/kernels/kafka_kernels.cc:248] Kafka stream starts with current offset: 52224\n"
     ]
    },
    {
     "name": "stdout",
     "output_type": "stream",
     "text": [
      "816/938 [=========================>....] - ETA: 3s - loss: 0.4458 - accuracy: 0.7932"
     ]
    },
    {
     "name": "stderr",
     "output_type": "stream",
     "text": [
      "2022-06-15 18:01:30.503684: I tensorflow_io/core/kernels/kafka_kernels.cc:248] Kafka stream starts with current offset: 53248\n"
     ]
    },
    {
     "name": "stdout",
     "output_type": "stream",
     "text": [
      "832/938 [=========================>....] - ETA: 3s - loss: 0.4455 - accuracy: 0.7933"
     ]
    },
    {
     "name": "stderr",
     "output_type": "stream",
     "text": [
      "2022-06-15 18:01:31.012571: I tensorflow_io/core/kernels/kafka_kernels.cc:248] Kafka stream starts with current offset: 54272\n"
     ]
    },
    {
     "name": "stdout",
     "output_type": "stream",
     "text": [
      "861/938 [==========================>...] - ETA: 2s - loss: 0.4451 - accuracy: 0.7938"
     ]
    },
    {
     "name": "stderr",
     "output_type": "stream",
     "text": [
      "2022-06-15 18:01:31.544175: I tensorflow_io/core/kernels/kafka_kernels.cc:248] Kafka stream starts with current offset: 55296\n"
     ]
    },
    {
     "name": "stdout",
     "output_type": "stream",
     "text": [
      "864/938 [==========================>...] - ETA: 2s - loss: 0.4452 - accuracy: 0.7937"
     ]
    },
    {
     "name": "stderr",
     "output_type": "stream",
     "text": [
      "2022-06-15 18:01:32.029266: I tensorflow_io/core/kernels/kafka_kernels.cc:248] Kafka stream starts with current offset: 56320\n"
     ]
    },
    {
     "name": "stdout",
     "output_type": "stream",
     "text": [
      "892/938 [===========================>..] - ETA: 1s - loss: 0.4457 - accuracy: 0.7931"
     ]
    },
    {
     "name": "stderr",
     "output_type": "stream",
     "text": [
      "2022-06-15 18:01:32.547433: I tensorflow_io/core/kernels/kafka_kernels.cc:248] Kafka stream starts with current offset: 57344\n"
     ]
    },
    {
     "name": "stdout",
     "output_type": "stream",
     "text": [
      "910/938 [============================>.] - ETA: 0s - loss: 0.4459 - accuracy: 0.7927"
     ]
    },
    {
     "name": "stderr",
     "output_type": "stream",
     "text": [
      "2022-06-15 18:01:33.042243: I tensorflow_io/core/kernels/kafka_kernels.cc:248] Kafka stream starts with current offset: 58368\n"
     ]
    },
    {
     "name": "stdout",
     "output_type": "stream",
     "text": [
      "912/938 [============================>.] - ETA: 0s - loss: 0.4459 - accuracy: 0.7928"
     ]
    },
    {
     "name": "stderr",
     "output_type": "stream",
     "text": [
      "2022-06-15 18:01:33.539939: I tensorflow_io/core/kernels/kafka_kernels.cc:248] Kafka stream starts with current offset: 59392\n"
     ]
    },
    {
     "name": "stdout",
     "output_type": "stream",
     "text": [
      "938/938 [==============================] - 28s 29ms/step - loss: 0.4458 - accuracy: 0.7929\n",
      "Epoch 8/10\n"
     ]
    },
    {
     "name": "stderr",
     "output_type": "stream",
     "text": [
      "2022-06-15 18:01:34.046091: I tensorflow_io/core/kernels/kafka_kernels.cc:248] Kafka stream starts with current offset: 0\n"
     ]
    },
    {
     "name": "stdout",
     "output_type": "stream",
     "text": [
      " 13/938 [..............................] - ETA: 3s - loss: 0.4185 - accuracy: 0.8137  "
     ]
    },
    {
     "name": "stderr",
     "output_type": "stream",
     "text": [
      "2022-06-15 18:01:34.561975: I tensorflow_io/core/kernels/kafka_kernels.cc:248] Kafka stream starts with current offset: 1024\n"
     ]
    },
    {
     "name": "stdout",
     "output_type": "stream",
     "text": [
      " 64/938 [=>............................] - ETA: 10s - loss: 0.4396 - accuracy: 0.8000"
     ]
    },
    {
     "name": "stderr",
     "output_type": "stream",
     "text": [
      "2022-06-15 18:01:35.125921: I tensorflow_io/core/kernels/kafka_kernels.cc:248] Kafka stream starts with current offset: 2048\n",
      "2022-06-15 18:01:35.192153: I tensorflow_io/core/kernels/kafka_kernels.cc:248] Kafka stream starts with current offset: 3072\n",
      "2022-06-15 18:01:35.267387: I tensorflow_io/core/kernels/kafka_kernels.cc:248] Kafka stream starts with current offset: 4096\n"
     ]
    },
    {
     "name": "stdout",
     "output_type": "stream",
     "text": [
      "112/938 [==>...........................] - ETA: 7s - loss: 0.4392 - accuracy: 0.7985"
     ]
    },
    {
     "name": "stderr",
     "output_type": "stream",
     "text": [
      "2022-06-15 18:01:35.334173: I tensorflow_io/core/kernels/kafka_kernels.cc:248] Kafka stream starts with current offset: 5120\n",
      "2022-06-15 18:01:35.413180: I tensorflow_io/core/kernels/kafka_kernels.cc:248] Kafka stream starts with current offset: 6144\n",
      "2022-06-15 18:01:35.483561: I tensorflow_io/core/kernels/kafka_kernels.cc:248] Kafka stream starts with current offset: 7168\n"
     ]
    },
    {
     "name": "stdout",
     "output_type": "stream",
     "text": [
      "164/938 [====>.........................] - ETA: 5s - loss: 0.4426 - accuracy: 0.7952"
     ]
    },
    {
     "name": "stderr",
     "output_type": "stream",
     "text": [
      "2022-06-15 18:01:35.566062: I tensorflow_io/core/kernels/kafka_kernels.cc:248] Kafka stream starts with current offset: 8192\n",
      "2022-06-15 18:01:35.643259: I tensorflow_io/core/kernels/kafka_kernels.cc:248] Kafka stream starts with current offset: 9216\n",
      "2022-06-15 18:01:35.726614: I tensorflow_io/core/kernels/kafka_kernels.cc:248] Kafka stream starts with current offset: 10240\n"
     ]
    },
    {
     "name": "stdout",
     "output_type": "stream",
     "text": [
      "173/938 [====>.........................] - ETA: 5s - loss: 0.4429 - accuracy: 0.7949"
     ]
    },
    {
     "name": "stderr",
     "output_type": "stream",
     "text": [
      "2022-06-15 18:01:35.821574: I tensorflow_io/core/kernels/kafka_kernels.cc:248] Kafka stream starts with current offset: 11264\n"
     ]
    },
    {
     "name": "stdout",
     "output_type": "stream",
     "text": [
      "204/938 [=====>........................] - ETA: 6s - loss: 0.4456 - accuracy: 0.7929"
     ]
    },
    {
     "name": "stderr",
     "output_type": "stream",
     "text": [
      "2022-06-15 18:01:36.361377: I tensorflow_io/core/kernels/kafka_kernels.cc:248] Kafka stream starts with current offset: 12288\n",
      "2022-06-15 18:01:36.425428: I tensorflow_io/core/kernels/kafka_kernels.cc:248] Kafka stream starts with current offset: 13312\n"
     ]
    },
    {
     "name": "stdout",
     "output_type": "stream",
     "text": [
      "218/938 [=====>........................] - ETA: 8s - loss: 0.4454 - accuracy: 0.7938"
     ]
    },
    {
     "name": "stderr",
     "output_type": "stream",
     "text": [
      "2022-06-15 18:01:36.999250: I tensorflow_io/core/kernels/kafka_kernels.cc:248] Kafka stream starts with current offset: 14336\n"
     ]
    },
    {
     "name": "stdout",
     "output_type": "stream",
     "text": [
      "246/938 [======>.......................] - ETA: 8s - loss: 0.4485 - accuracy: 0.7922"
     ]
    },
    {
     "name": "stderr",
     "output_type": "stream",
     "text": [
      "2022-06-15 18:01:37.540163: I tensorflow_io/core/kernels/kafka_kernels.cc:248] Kafka stream starts with current offset: 15360\n",
      "2022-06-15 18:01:37.630025: I tensorflow_io/core/kernels/kafka_kernels.cc:248] Kafka stream starts with current offset: 16384\n"
     ]
    },
    {
     "name": "stdout",
     "output_type": "stream",
     "text": [
      "277/938 [=======>......................] - ETA: 8s - loss: 0.4469 - accuracy: 0.7929"
     ]
    },
    {
     "name": "stderr",
     "output_type": "stream",
     "text": [
      "2022-06-15 18:01:38.195290: I tensorflow_io/core/kernels/kafka_kernels.cc:248] Kafka stream starts with current offset: 17408\n",
      "2022-06-15 18:01:38.270502: I tensorflow_io/core/kernels/kafka_kernels.cc:248] Kafka stream starts with current offset: 18432\n"
     ]
    },
    {
     "name": "stdout",
     "output_type": "stream",
     "text": [
      "316/938 [=========>....................] - ETA: 8s - loss: 0.4469 - accuracy: 0.7932"
     ]
    },
    {
     "name": "stderr",
     "output_type": "stream",
     "text": [
      "2022-06-15 18:01:38.819703: I tensorflow_io/core/kernels/kafka_kernels.cc:248] Kafka stream starts with current offset: 19456\n",
      "2022-06-15 18:01:38.879720: I tensorflow_io/core/kernels/kafka_kernels.cc:248] Kafka stream starts with current offset: 20480\n"
     ]
    },
    {
     "name": "stdout",
     "output_type": "stream",
     "text": [
      "334/938 [=========>....................] - ETA: 8s - loss: 0.4472 - accuracy: 0.7926"
     ]
    },
    {
     "name": "stderr",
     "output_type": "stream",
     "text": [
      "2022-06-15 18:01:39.425499: I tensorflow_io/core/kernels/kafka_kernels.cc:248] Kafka stream starts with current offset: 21504\n"
     ]
    },
    {
     "name": "stdout",
     "output_type": "stream",
     "text": [
      "348/938 [==========>...................] - ETA: 9s - loss: 0.4469 - accuracy: 0.7929"
     ]
    },
    {
     "name": "stderr",
     "output_type": "stream",
     "text": [
      "2022-06-15 18:01:39.979813: I tensorflow_io/core/kernels/kafka_kernels.cc:248] Kafka stream starts with current offset: 22528\n"
     ]
    },
    {
     "name": "stdout",
     "output_type": "stream",
     "text": [
      "367/938 [==========>...................] - ETA: 9s - loss: 0.4464 - accuracy: 0.7930"
     ]
    },
    {
     "name": "stderr",
     "output_type": "stream",
     "text": [
      "2022-06-15 18:01:40.529872: I tensorflow_io/core/kernels/kafka_kernels.cc:248] Kafka stream starts with current offset: 23552\n"
     ]
    },
    {
     "name": "stdout",
     "output_type": "stream",
     "text": [
      "383/938 [===========>..................] - ETA: 9s - loss: 0.4466 - accuracy: 0.7931 "
     ]
    },
    {
     "name": "stderr",
     "output_type": "stream",
     "text": [
      "2022-06-15 18:01:41.081088: I tensorflow_io/core/kernels/kafka_kernels.cc:248] Kafka stream starts with current offset: 24576\n"
     ]
    },
    {
     "name": "stdout",
     "output_type": "stream",
     "text": [
      "399/938 [===========>..................] - ETA: 9s - loss: 0.4458 - accuracy: 0.7943 "
     ]
    },
    {
     "name": "stderr",
     "output_type": "stream",
     "text": [
      "2022-06-15 18:01:41.629060: I tensorflow_io/core/kernels/kafka_kernels.cc:248] Kafka stream starts with current offset: 25600\n"
     ]
    },
    {
     "name": "stdout",
     "output_type": "stream",
     "text": [
      "414/938 [============>.................] - ETA: 9s - loss: 0.4449 - accuracy: 0.7949 "
     ]
    },
    {
     "name": "stderr",
     "output_type": "stream",
     "text": [
      "2022-06-15 18:01:42.170809: I tensorflow_io/core/kernels/kafka_kernels.cc:248] Kafka stream starts with current offset: 26624\n"
     ]
    },
    {
     "name": "stdout",
     "output_type": "stream",
     "text": [
      "430/938 [============>.................] - ETA: 9s - loss: 0.4448 - accuracy: 0.7951 "
     ]
    },
    {
     "name": "stderr",
     "output_type": "stream",
     "text": [
      "2022-06-15 18:01:42.716594: I tensorflow_io/core/kernels/kafka_kernels.cc:248] Kafka stream starts with current offset: 27648\n"
     ]
    },
    {
     "name": "stdout",
     "output_type": "stream",
     "text": [
      "445/938 [=============>................] - ETA: 9s - loss: 0.4457 - accuracy: 0.7946 "
     ]
    },
    {
     "name": "stderr",
     "output_type": "stream",
     "text": [
      "2022-06-15 18:01:43.273830: I tensorflow_io/core/kernels/kafka_kernels.cc:248] Kafka stream starts with current offset: 28672\n"
     ]
    },
    {
     "name": "stdout",
     "output_type": "stream",
     "text": [
      "448/938 [=============>................] - ETA: 10s - loss: 0.4459 - accuracy: 0.7943"
     ]
    },
    {
     "name": "stderr",
     "output_type": "stream",
     "text": [
      "2022-06-15 18:01:43.829547: I tensorflow_io/core/kernels/kafka_kernels.cc:248] Kafka stream starts with current offset: 29696\n"
     ]
    },
    {
     "name": "stdout",
     "output_type": "stream",
     "text": [
      "492/938 [==============>...............] - ETA: 9s - loss: 0.4439 - accuracy: 0.7952"
     ]
    },
    {
     "name": "stderr",
     "output_type": "stream",
     "text": [
      "2022-06-15 18:01:44.378381: I tensorflow_io/core/kernels/kafka_kernels.cc:248] Kafka stream starts with current offset: 30720\n",
      "2022-06-15 18:01:44.437506: I tensorflow_io/core/kernels/kafka_kernels.cc:248] Kafka stream starts with current offset: 31744\n"
     ]
    },
    {
     "name": "stdout",
     "output_type": "stream",
     "text": [
      "508/938 [===============>..............] - ETA: 8s - loss: 0.4431 - accuracy: 0.7958"
     ]
    },
    {
     "name": "stderr",
     "output_type": "stream",
     "text": [
      "2022-06-15 18:01:44.980401: I tensorflow_io/core/kernels/kafka_kernels.cc:248] Kafka stream starts with current offset: 32768\n"
     ]
    },
    {
     "name": "stdout",
     "output_type": "stream",
     "text": [
      "525/938 [===============>..............] - ETA: 8s - loss: 0.4430 - accuracy: 0.7957"
     ]
    },
    {
     "name": "stderr",
     "output_type": "stream",
     "text": [
      "2022-06-15 18:01:45.522290: I tensorflow_io/core/kernels/kafka_kernels.cc:248] Kafka stream starts with current offset: 33792\n"
     ]
    },
    {
     "name": "stdout",
     "output_type": "stream",
     "text": [
      "543/938 [================>.............] - ETA: 8s - loss: 0.4432 - accuracy: 0.7953"
     ]
    },
    {
     "name": "stderr",
     "output_type": "stream",
     "text": [
      "2022-06-15 18:01:46.043993: I tensorflow_io/core/kernels/kafka_kernels.cc:248] Kafka stream starts with current offset: 34816\n"
     ]
    },
    {
     "name": "stdout",
     "output_type": "stream",
     "text": [
      "544/938 [================>.............] - ETA: 8s - loss: 0.4432 - accuracy: 0.7952"
     ]
    },
    {
     "name": "stderr",
     "output_type": "stream",
     "text": [
      "2022-06-15 18:01:46.583070: I tensorflow_io/core/kernels/kafka_kernels.cc:248] Kafka stream starts with current offset: 35840\n"
     ]
    },
    {
     "name": "stdout",
     "output_type": "stream",
     "text": [
      "560/938 [================>.............] - ETA: 8s - loss: 0.4429 - accuracy: 0.7956"
     ]
    },
    {
     "name": "stderr",
     "output_type": "stream",
     "text": [
      "2022-06-15 18:01:47.107208: I tensorflow_io/core/kernels/kafka_kernels.cc:248] Kafka stream starts with current offset: 36864\n"
     ]
    },
    {
     "name": "stdout",
     "output_type": "stream",
     "text": [
      "586/938 [=================>............] - ETA: 7s - loss: 0.4430 - accuracy: 0.7959"
     ]
    },
    {
     "name": "stderr",
     "output_type": "stream",
     "text": [
      "2022-06-15 18:01:47.661313: I tensorflow_io/core/kernels/kafka_kernels.cc:248] Kafka stream starts with current offset: 37888\n"
     ]
    },
    {
     "name": "stdout",
     "output_type": "stream",
     "text": [
      "604/938 [==================>...........] - ETA: 7s - loss: 0.4436 - accuracy: 0.7955"
     ]
    },
    {
     "name": "stderr",
     "output_type": "stream",
     "text": [
      "2022-06-15 18:01:48.200079: I tensorflow_io/core/kernels/kafka_kernels.cc:248] Kafka stream starts with current offset: 38912\n"
     ]
    },
    {
     "name": "stdout",
     "output_type": "stream",
     "text": [
      "608/938 [==================>...........] - ETA: 7s - loss: 0.4438 - accuracy: 0.7952"
     ]
    },
    {
     "name": "stderr",
     "output_type": "stream",
     "text": [
      "2022-06-15 18:01:48.714063: I tensorflow_io/core/kernels/kafka_kernels.cc:248] Kafka stream starts with current offset: 39936\n"
     ]
    },
    {
     "name": "stdout",
     "output_type": "stream",
     "text": [
      "639/938 [===================>..........] - ETA: 6s - loss: 0.4443 - accuracy: 0.7948"
     ]
    },
    {
     "name": "stderr",
     "output_type": "stream",
     "text": [
      "2022-06-15 18:01:49.249487: I tensorflow_io/core/kernels/kafka_kernels.cc:248] Kafka stream starts with current offset: 40960\n"
     ]
    },
    {
     "name": "stdout",
     "output_type": "stream",
     "text": [
      "640/938 [===================>..........] - ETA: 7s - loss: 0.4441 - accuracy: 0.7949"
     ]
    },
    {
     "name": "stderr",
     "output_type": "stream",
     "text": [
      "2022-06-15 18:01:49.774320: I tensorflow_io/core/kernels/kafka_kernels.cc:248] Kafka stream starts with current offset: 41984\n"
     ]
    },
    {
     "name": "stdout",
     "output_type": "stream",
     "text": [
      "669/938 [====================>.........] - ETA: 6s - loss: 0.4442 - accuracy: 0.7946"
     ]
    },
    {
     "name": "stderr",
     "output_type": "stream",
     "text": [
      "2022-06-15 18:01:50.320874: I tensorflow_io/core/kernels/kafka_kernels.cc:248] Kafka stream starts with current offset: 43008\n"
     ]
    },
    {
     "name": "stdout",
     "output_type": "stream",
     "text": [
      "672/938 [====================>.........] - ETA: 6s - loss: 0.4441 - accuracy: 0.7946"
     ]
    },
    {
     "name": "stderr",
     "output_type": "stream",
     "text": [
      "2022-06-15 18:01:50.836759: I tensorflow_io/core/kernels/kafka_kernels.cc:248] Kafka stream starts with current offset: 44032\n"
     ]
    },
    {
     "name": "stdout",
     "output_type": "stream",
     "text": [
      "702/938 [=====================>........] - ETA: 5s - loss: 0.4440 - accuracy: 0.7948"
     ]
    },
    {
     "name": "stderr",
     "output_type": "stream",
     "text": [
      "2022-06-15 18:01:51.367931: I tensorflow_io/core/kernels/kafka_kernels.cc:248] Kafka stream starts with current offset: 45056\n"
     ]
    },
    {
     "name": "stdout",
     "output_type": "stream",
     "text": [
      "704/938 [=====================>........] - ETA: 5s - loss: 0.4440 - accuracy: 0.7948"
     ]
    },
    {
     "name": "stderr",
     "output_type": "stream",
     "text": [
      "2022-06-15 18:01:51.889138: I tensorflow_io/core/kernels/kafka_kernels.cc:248] Kafka stream starts with current offset: 46080\n"
     ]
    },
    {
     "name": "stdout",
     "output_type": "stream",
     "text": [
      "720/938 [======================>.......] - ETA: 5s - loss: 0.4443 - accuracy: 0.7943"
     ]
    },
    {
     "name": "stderr",
     "output_type": "stream",
     "text": [
      "2022-06-15 18:01:52.409635: I tensorflow_io/core/kernels/kafka_kernels.cc:248] Kafka stream starts with current offset: 47104\n"
     ]
    },
    {
     "name": "stdout",
     "output_type": "stream",
     "text": [
      "736/938 [======================>.......] - ETA: 5s - loss: 0.4440 - accuracy: 0.7946"
     ]
    },
    {
     "name": "stderr",
     "output_type": "stream",
     "text": [
      "2022-06-15 18:01:52.922663: I tensorflow_io/core/kernels/kafka_kernels.cc:248] Kafka stream starts with current offset: 48128\n"
     ]
    },
    {
     "name": "stdout",
     "output_type": "stream",
     "text": [
      "762/938 [=======================>......] - ETA: 4s - loss: 0.4441 - accuracy: 0.7945"
     ]
    },
    {
     "name": "stderr",
     "output_type": "stream",
     "text": [
      "2022-06-15 18:01:53.481395: I tensorflow_io/core/kernels/kafka_kernels.cc:248] Kafka stream starts with current offset: 49152\n"
     ]
    },
    {
     "name": "stdout",
     "output_type": "stream",
     "text": [
      "783/938 [========================>.....] - ETA: 3s - loss: 0.4447 - accuracy: 0.7938"
     ]
    },
    {
     "name": "stderr",
     "output_type": "stream",
     "text": [
      "2022-06-15 18:01:54.002142: I tensorflow_io/core/kernels/kafka_kernels.cc:248] Kafka stream starts with current offset: 50176\n"
     ]
    },
    {
     "name": "stdout",
     "output_type": "stream",
     "text": [
      "784/938 [========================>.....] - ETA: 3s - loss: 0.4446 - accuracy: 0.7938"
     ]
    },
    {
     "name": "stderr",
     "output_type": "stream",
     "text": [
      "2022-06-15 18:01:54.506864: I tensorflow_io/core/kernels/kafka_kernels.cc:248] Kafka stream starts with current offset: 51200\n"
     ]
    },
    {
     "name": "stdout",
     "output_type": "stream",
     "text": [
      "800/938 [========================>.....] - ETA: 3s - loss: 0.4444 - accuracy: 0.7940"
     ]
    },
    {
     "name": "stderr",
     "output_type": "stream",
     "text": [
      "2022-06-15 18:01:55.013427: I tensorflow_io/core/kernels/kafka_kernels.cc:248] Kafka stream starts with current offset: 52224\n"
     ]
    },
    {
     "name": "stdout",
     "output_type": "stream",
     "text": [
      "816/938 [=========================>....] - ETA: 3s - loss: 0.4446 - accuracy: 0.7939"
     ]
    },
    {
     "name": "stderr",
     "output_type": "stream",
     "text": [
      "2022-06-15 18:01:55.520109: I tensorflow_io/core/kernels/kafka_kernels.cc:248] Kafka stream starts with current offset: 53248\n"
     ]
    },
    {
     "name": "stdout",
     "output_type": "stream",
     "text": [
      "832/938 [=========================>....] - ETA: 2s - loss: 0.4443 - accuracy: 0.7939"
     ]
    },
    {
     "name": "stderr",
     "output_type": "stream",
     "text": [
      "2022-06-15 18:01:56.026945: I tensorflow_io/core/kernels/kafka_kernels.cc:248] Kafka stream starts with current offset: 54272\n"
     ]
    },
    {
     "name": "stdout",
     "output_type": "stream",
     "text": [
      "848/938 [==========================>...] - ETA: 2s - loss: 0.4440 - accuracy: 0.7944"
     ]
    },
    {
     "name": "stderr",
     "output_type": "stream",
     "text": [
      "2022-06-15 18:01:56.536026: I tensorflow_io/core/kernels/kafka_kernels.cc:248] Kafka stream starts with current offset: 55296\n"
     ]
    },
    {
     "name": "stdout",
     "output_type": "stream",
     "text": [
      "877/938 [===========================>..] - ETA: 1s - loss: 0.4441 - accuracy: 0.7940"
     ]
    },
    {
     "name": "stderr",
     "output_type": "stream",
     "text": [
      "2022-06-15 18:01:57.051568: I tensorflow_io/core/kernels/kafka_kernels.cc:248] Kafka stream starts with current offset: 56320\n"
     ]
    },
    {
     "name": "stdout",
     "output_type": "stream",
     "text": [
      "880/938 [===========================>..] - ETA: 1s - loss: 0.4442 - accuracy: 0.7939"
     ]
    },
    {
     "name": "stderr",
     "output_type": "stream",
     "text": [
      "2022-06-15 18:01:57.548930: I tensorflow_io/core/kernels/kafka_kernels.cc:248] Kafka stream starts with current offset: 57344\n"
     ]
    },
    {
     "name": "stdout",
     "output_type": "stream",
     "text": [
      "905/938 [===========================>..] - ETA: 0s - loss: 0.4449 - accuracy: 0.7932"
     ]
    },
    {
     "name": "stderr",
     "output_type": "stream",
     "text": [
      "2022-06-15 18:01:58.072923: I tensorflow_io/core/kernels/kafka_kernels.cc:248] Kafka stream starts with current offset: 58368\n"
     ]
    },
    {
     "name": "stdout",
     "output_type": "stream",
     "text": [
      "912/938 [============================>.] - ETA: 0s - loss: 0.4449 - accuracy: 0.7932"
     ]
    },
    {
     "name": "stderr",
     "output_type": "stream",
     "text": [
      "2022-06-15 18:01:58.551126: I tensorflow_io/core/kernels/kafka_kernels.cc:248] Kafka stream starts with current offset: 59392\n"
     ]
    },
    {
     "name": "stdout",
     "output_type": "stream",
     "text": [
      "938/938 [==============================] - 25s 26ms/step - loss: 0.4447 - accuracy: 0.7934\n",
      "Epoch 9/10\n"
     ]
    },
    {
     "name": "stderr",
     "output_type": "stream",
     "text": [
      "2022-06-15 18:01:59.064996: I tensorflow_io/core/kernels/kafka_kernels.cc:248] Kafka stream starts with current offset: 0\n"
     ]
    },
    {
     "name": "stdout",
     "output_type": "stream",
     "text": [
      " 25/938 [..............................] - ETA: 3s - loss: 0.4192 - accuracy: 0.8119"
     ]
    },
    {
     "name": "stderr",
     "output_type": "stream",
     "text": [
      "2022-06-15 18:01:59.572492: I tensorflow_io/core/kernels/kafka_kernels.cc:248] Kafka stream starts with current offset: 1024\n",
      "2022-06-15 18:01:59.641050: I tensorflow_io/core/kernels/kafka_kernels.cc:248] Kafka stream starts with current offset: 2048\n"
     ]
    },
    {
     "name": "stdout",
     "output_type": "stream",
     "text": [
      " 56/938 [>.............................] - ETA: 11s - loss: 0.4359 - accuracy: 0.7952"
     ]
    },
    {
     "name": "stderr",
     "output_type": "stream",
     "text": [
      "2022-06-15 18:02:00.192051: I tensorflow_io/core/kernels/kafka_kernels.cc:248] Kafka stream starts with current offset: 3072\n",
      "2022-06-15 18:02:00.269496: I tensorflow_io/core/kernels/kafka_kernels.cc:248] Kafka stream starts with current offset: 4096\n"
     ]
    },
    {
     "name": "stdout",
     "output_type": "stream",
     "text": [
      " 77/938 [=>............................] - ETA: 14s - loss: 0.4374 - accuracy: 0.7963"
     ]
    },
    {
     "name": "stderr",
     "output_type": "stream",
     "text": [
      "2022-06-15 18:02:00.818843: I tensorflow_io/core/kernels/kafka_kernels.cc:248] Kafka stream starts with current offset: 5120\n"
     ]
    },
    {
     "name": "stdout",
     "output_type": "stream",
     "text": [
      "130/938 [===>..........................] - ETA: 12s - loss: 0.4379 - accuracy: 0.7980"
     ]
    },
    {
     "name": "stderr",
     "output_type": "stream",
     "text": [
      "2022-06-15 18:02:01.380020: I tensorflow_io/core/kernels/kafka_kernels.cc:248] Kafka stream starts with current offset: 6144\n",
      "2022-06-15 18:02:01.445238: I tensorflow_io/core/kernels/kafka_kernels.cc:248] Kafka stream starts with current offset: 7168\n",
      "2022-06-15 18:02:01.507438: I tensorflow_io/core/kernels/kafka_kernels.cc:248] Kafka stream starts with current offset: 8192\n",
      "2022-06-15 18:02:01.570954: I tensorflow_io/core/kernels/kafka_kernels.cc:248] Kafka stream starts with current offset: 9216\n"
     ]
    },
    {
     "name": "stdout",
     "output_type": "stream",
     "text": [
      "169/938 [====>.........................] - ETA: 12s - loss: 0.4414 - accuracy: 0.7959"
     ]
    },
    {
     "name": "stderr",
     "output_type": "stream",
     "text": [
      "2022-06-15 18:02:02.130674: I tensorflow_io/core/kernels/kafka_kernels.cc:248] Kafka stream starts with current offset: 10240\n",
      "2022-06-15 18:02:02.197899: I tensorflow_io/core/kernels/kafka_kernels.cc:248] Kafka stream starts with current offset: 11264\n"
     ]
    },
    {
     "name": "stdout",
     "output_type": "stream",
     "text": [
      "186/938 [====>.........................] - ETA: 13s - loss: 0.4431 - accuracy: 0.7949"
     ]
    },
    {
     "name": "stderr",
     "output_type": "stream",
     "text": [
      "2022-06-15 18:02:02.757533: I tensorflow_io/core/kernels/kafka_kernels.cc:248] Kafka stream starts with current offset: 12288\n"
     ]
    },
    {
     "name": "stdout",
     "output_type": "stream",
     "text": [
      "205/938 [=====>........................] - ETA: 13s - loss: 0.4457 - accuracy: 0.7925"
     ]
    },
    {
     "name": "stderr",
     "output_type": "stream",
     "text": [
      "2022-06-15 18:02:03.301489: I tensorflow_io/core/kernels/kafka_kernels.cc:248] Kafka stream starts with current offset: 13312\n"
     ]
    },
    {
     "name": "stdout",
     "output_type": "stream",
     "text": [
      "234/938 [======>.......................] - ETA: 13s - loss: 0.4472 - accuracy: 0.7918"
     ]
    },
    {
     "name": "stderr",
     "output_type": "stream",
     "text": [
      "2022-06-15 18:02:03.845968: I tensorflow_io/core/kernels/kafka_kernels.cc:248] Kafka stream starts with current offset: 14336\n",
      "2022-06-15 18:02:03.920258: I tensorflow_io/core/kernels/kafka_kernels.cc:248] Kafka stream starts with current offset: 15360\n"
     ]
    },
    {
     "name": "stdout",
     "output_type": "stream",
     "text": [
      "264/938 [=======>......................] - ETA: 12s - loss: 0.4481 - accuracy: 0.7915"
     ]
    },
    {
     "name": "stderr",
     "output_type": "stream",
     "text": [
      "2022-06-15 18:02:04.495519: I tensorflow_io/core/kernels/kafka_kernels.cc:248] Kafka stream starts with current offset: 16384\n",
      "2022-06-15 18:02:04.613625: I tensorflow_io/core/kernels/kafka_kernels.cc:248] Kafka stream starts with current offset: 17408\n"
     ]
    },
    {
     "name": "stdout",
     "output_type": "stream",
     "text": [
      "272/938 [=======>......................] - ETA: 13s - loss: 0.4468 - accuracy: 0.7921"
     ]
    },
    {
     "name": "stderr",
     "output_type": "stream",
     "text": [
      "2022-06-15 18:02:05.124342: I tensorflow_io/core/kernels/kafka_kernels.cc:248] Kafka stream starts with current offset: 18432\n"
     ]
    },
    {
     "name": "stdout",
     "output_type": "stream",
     "text": [
      "302/938 [========>.....................] - ETA: 13s - loss: 0.4464 - accuracy: 0.7927"
     ]
    },
    {
     "name": "stderr",
     "output_type": "stream",
     "text": [
      "2022-06-15 18:02:05.680818: I tensorflow_io/core/kernels/kafka_kernels.cc:248] Kafka stream starts with current offset: 19456\n"
     ]
    },
    {
     "name": "stdout",
     "output_type": "stream",
     "text": [
      "320/938 [=========>....................] - ETA: 13s - loss: 0.4472 - accuracy: 0.7931"
     ]
    },
    {
     "name": "stderr",
     "output_type": "stream",
     "text": [
      "2022-06-15 18:02:06.224729: I tensorflow_io/core/kernels/kafka_kernels.cc:248] Kafka stream starts with current offset: 20480\n",
      "2022-06-15 18:02:06.285508: I tensorflow_io/core/kernels/kafka_kernels.cc:248] Kafka stream starts with current offset: 21504\n"
     ]
    },
    {
     "name": "stdout",
     "output_type": "stream",
     "text": [
      "351/938 [==========>...................] - ETA: 12s - loss: 0.4473 - accuracy: 0.7934"
     ]
    },
    {
     "name": "stderr",
     "output_type": "stream",
     "text": [
      "2022-06-15 18:02:06.827167: I tensorflow_io/core/kernels/kafka_kernels.cc:248] Kafka stream starts with current offset: 22528\n"
     ]
    },
    {
     "name": "stdout",
     "output_type": "stream",
     "text": [
      "367/938 [==========>...................] - ETA: 12s - loss: 0.4465 - accuracy: 0.7939"
     ]
    },
    {
     "name": "stderr",
     "output_type": "stream",
     "text": [
      "2022-06-15 18:02:07.373491: I tensorflow_io/core/kernels/kafka_kernels.cc:248] Kafka stream starts with current offset: 23552\n"
     ]
    },
    {
     "name": "stdout",
     "output_type": "stream",
     "text": [
      "382/938 [===========>..................] - ETA: 12s - loss: 0.4468 - accuracy: 0.7937"
     ]
    },
    {
     "name": "stderr",
     "output_type": "stream",
     "text": [
      "2022-06-15 18:02:07.928199: I tensorflow_io/core/kernels/kafka_kernels.cc:248] Kafka stream starts with current offset: 24576\n"
     ]
    },
    {
     "name": "stdout",
     "output_type": "stream",
     "text": [
      "399/938 [===========>..................] - ETA: 12s - loss: 0.4459 - accuracy: 0.7946"
     ]
    },
    {
     "name": "stderr",
     "output_type": "stream",
     "text": [
      "2022-06-15 18:02:08.466213: I tensorflow_io/core/kernels/kafka_kernels.cc:248] Kafka stream starts with current offset: 25600\n"
     ]
    },
    {
     "name": "stdout",
     "output_type": "stream",
     "text": [
      "415/938 [============>.................] - ETA: 12s - loss: 0.4448 - accuracy: 0.7951"
     ]
    },
    {
     "name": "stderr",
     "output_type": "stream",
     "text": [
      "2022-06-15 18:02:09.025493: I tensorflow_io/core/kernels/kafka_kernels.cc:248] Kafka stream starts with current offset: 26624\n"
     ]
    },
    {
     "name": "stdout",
     "output_type": "stream",
     "text": [
      "430/938 [============>.................] - ETA: 11s - loss: 0.4447 - accuracy: 0.7955"
     ]
    },
    {
     "name": "stderr",
     "output_type": "stream",
     "text": [
      "2022-06-15 18:02:09.570090: I tensorflow_io/core/kernels/kafka_kernels.cc:248] Kafka stream starts with current offset: 27648\n"
     ]
    },
    {
     "name": "stdout",
     "output_type": "stream",
     "text": [
      "447/938 [=============>................] - ETA: 11s - loss: 0.4460 - accuracy: 0.7949"
     ]
    },
    {
     "name": "stderr",
     "output_type": "stream",
     "text": [
      "2022-06-15 18:02:10.116792: I tensorflow_io/core/kernels/kafka_kernels.cc:248] Kafka stream starts with current offset: 28672\n"
     ]
    },
    {
     "name": "stdout",
     "output_type": "stream",
     "text": [
      "463/938 [=============>................] - ETA: 11s - loss: 0.4449 - accuracy: 0.7954"
     ]
    },
    {
     "name": "stderr",
     "output_type": "stream",
     "text": [
      "2022-06-15 18:02:10.655934: I tensorflow_io/core/kernels/kafka_kernels.cc:248] Kafka stream starts with current offset: 29696\n"
     ]
    },
    {
     "name": "stdout",
     "output_type": "stream",
     "text": [
      "479/938 [==============>...............] - ETA: 11s - loss: 0.4440 - accuracy: 0.7955"
     ]
    },
    {
     "name": "stderr",
     "output_type": "stream",
     "text": [
      "2022-06-15 18:02:11.198432: I tensorflow_io/core/kernels/kafka_kernels.cc:248] Kafka stream starts with current offset: 30720\n"
     ]
    },
    {
     "name": "stdout",
     "output_type": "stream",
     "text": [
      "480/938 [==============>...............] - ETA: 11s - loss: 0.4438 - accuracy: 0.7957"
     ]
    },
    {
     "name": "stderr",
     "output_type": "stream",
     "text": [
      "2022-06-15 18:02:11.746530: I tensorflow_io/core/kernels/kafka_kernels.cc:248] Kafka stream starts with current offset: 31744\n"
     ]
    },
    {
     "name": "stdout",
     "output_type": "stream",
     "text": [
      "510/938 [===============>..............] - ETA: 10s - loss: 0.4431 - accuracy: 0.7962"
     ]
    },
    {
     "name": "stderr",
     "output_type": "stream",
     "text": [
      "2022-06-15 18:02:12.285503: I tensorflow_io/core/kernels/kafka_kernels.cc:248] Kafka stream starts with current offset: 32768\n"
     ]
    },
    {
     "name": "stdout",
     "output_type": "stream",
     "text": [
      "512/938 [===============>..............] - ETA: 11s - loss: 0.4433 - accuracy: 0.7961"
     ]
    },
    {
     "name": "stderr",
     "output_type": "stream",
     "text": [
      "2022-06-15 18:02:12.809552: I tensorflow_io/core/kernels/kafka_kernels.cc:248] Kafka stream starts with current offset: 33792\n"
     ]
    },
    {
     "name": "stdout",
     "output_type": "stream",
     "text": [
      "543/938 [================>.............] - ETA: 10s - loss: 0.4433 - accuracy: 0.7956"
     ]
    },
    {
     "name": "stderr",
     "output_type": "stream",
     "text": [
      "2022-06-15 18:02:13.354322: I tensorflow_io/core/kernels/kafka_kernels.cc:248] Kafka stream starts with current offset: 34816\n"
     ]
    },
    {
     "name": "stdout",
     "output_type": "stream",
     "text": [
      "556/938 [================>.............] - ETA: 9s - loss: 0.4430 - accuracy: 0.7961 "
     ]
    },
    {
     "name": "stderr",
     "output_type": "stream",
     "text": [
      "2022-06-15 18:02:13.898297: I tensorflow_io/core/kernels/kafka_kernels.cc:248] Kafka stream starts with current offset: 35840\n"
     ]
    },
    {
     "name": "stdout",
     "output_type": "stream",
     "text": [
      "575/938 [=================>............] - ETA: 9s - loss: 0.4435 - accuracy: 0.7960 "
     ]
    },
    {
     "name": "stderr",
     "output_type": "stream",
     "text": [
      "2022-06-15 18:02:14.430585: I tensorflow_io/core/kernels/kafka_kernels.cc:248] Kafka stream starts with current offset: 36864\n"
     ]
    },
    {
     "name": "stdout",
     "output_type": "stream",
     "text": [
      "587/938 [=================>............] - ETA: 9s - loss: 0.4432 - accuracy: 0.7960"
     ]
    },
    {
     "name": "stderr",
     "output_type": "stream",
     "text": [
      "2022-06-15 18:02:14.973607: I tensorflow_io/core/kernels/kafka_kernels.cc:248] Kafka stream starts with current offset: 37888\n"
     ]
    },
    {
     "name": "stdout",
     "output_type": "stream",
     "text": [
      "592/938 [=================>............] - ETA: 9s - loss: 0.4435 - accuracy: 0.7958"
     ]
    },
    {
     "name": "stderr",
     "output_type": "stream",
     "text": [
      "2022-06-15 18:02:15.484189: I tensorflow_io/core/kernels/kafka_kernels.cc:248] Kafka stream starts with current offset: 38912\n"
     ]
    },
    {
     "name": "stdout",
     "output_type": "stream",
     "text": [
      "608/938 [==================>...........] - ETA: 8s - loss: 0.4439 - accuracy: 0.7952"
     ]
    },
    {
     "name": "stderr",
     "output_type": "stream",
     "text": [
      "2022-06-15 18:02:16.003942: I tensorflow_io/core/kernels/kafka_kernels.cc:248] Kafka stream starts with current offset: 39936\n"
     ]
    },
    {
     "name": "stdout",
     "output_type": "stream",
     "text": [
      "636/938 [===================>..........] - ETA: 8s - loss: 0.4441 - accuracy: 0.7952"
     ]
    },
    {
     "name": "stderr",
     "output_type": "stream",
     "text": [
      "2022-06-15 18:02:16.549592: I tensorflow_io/core/kernels/kafka_kernels.cc:248] Kafka stream starts with current offset: 40960\n"
     ]
    },
    {
     "name": "stdout",
     "output_type": "stream",
     "text": [
      "651/938 [===================>..........] - ETA: 7s - loss: 0.4446 - accuracy: 0.7948"
     ]
    },
    {
     "name": "stderr",
     "output_type": "stream",
     "text": [
      "2022-06-15 18:02:17.087477: I tensorflow_io/core/kernels/kafka_kernels.cc:248] Kafka stream starts with current offset: 41984\n"
     ]
    },
    {
     "name": "stdout",
     "output_type": "stream",
     "text": [
      "656/938 [===================>..........] - ETA: 7s - loss: 0.4444 - accuracy: 0.7948"
     ]
    },
    {
     "name": "stderr",
     "output_type": "stream",
     "text": [
      "2022-06-15 18:02:17.607377: I tensorflow_io/core/kernels/kafka_kernels.cc:248] Kafka stream starts with current offset: 43008\n"
     ]
    },
    {
     "name": "stdout",
     "output_type": "stream",
     "text": [
      "686/938 [====================>.........] - ETA: 6s - loss: 0.4441 - accuracy: 0.7948"
     ]
    },
    {
     "name": "stderr",
     "output_type": "stream",
     "text": [
      "2022-06-15 18:02:18.131986: I tensorflow_io/core/kernels/kafka_kernels.cc:248] Kafka stream starts with current offset: 44032\n"
     ]
    },
    {
     "name": "stdout",
     "output_type": "stream",
     "text": [
      "702/938 [=====================>........] - ETA: 6s - loss: 0.4439 - accuracy: 0.7950"
     ]
    },
    {
     "name": "stderr",
     "output_type": "stream",
     "text": [
      "2022-06-15 18:02:18.657503: I tensorflow_io/core/kernels/kafka_kernels.cc:248] Kafka stream starts with current offset: 45056\n"
     ]
    },
    {
     "name": "stdout",
     "output_type": "stream",
     "text": [
      "704/938 [=====================>........] - ETA: 6s - loss: 0.4437 - accuracy: 0.7949"
     ]
    },
    {
     "name": "stderr",
     "output_type": "stream",
     "text": [
      "2022-06-15 18:02:19.169889: I tensorflow_io/core/kernels/kafka_kernels.cc:248] Kafka stream starts with current offset: 46080\n"
     ]
    },
    {
     "name": "stdout",
     "output_type": "stream",
     "text": [
      "733/938 [======================>.......] - ETA: 5s - loss: 0.4440 - accuracy: 0.7947"
     ]
    },
    {
     "name": "stderr",
     "output_type": "stream",
     "text": [
      "2022-06-15 18:02:19.700841: I tensorflow_io/core/kernels/kafka_kernels.cc:248] Kafka stream starts with current offset: 47104\n"
     ]
    },
    {
     "name": "stdout",
     "output_type": "stream",
     "text": [
      "736/938 [======================>.......] - ETA: 5s - loss: 0.4441 - accuracy: 0.7946"
     ]
    },
    {
     "name": "stderr",
     "output_type": "stream",
     "text": [
      "2022-06-15 18:02:20.198849: I tensorflow_io/core/kernels/kafka_kernels.cc:248] Kafka stream starts with current offset: 48128\n"
     ]
    },
    {
     "name": "stdout",
     "output_type": "stream",
     "text": [
      "767/938 [=======================>......] - ETA: 4s - loss: 0.4446 - accuracy: 0.7944"
     ]
    },
    {
     "name": "stderr",
     "output_type": "stream",
     "text": [
      "2022-06-15 18:02:20.722509: I tensorflow_io/core/kernels/kafka_kernels.cc:248] Kafka stream starts with current offset: 49152\n"
     ]
    },
    {
     "name": "stdout",
     "output_type": "stream",
     "text": [
      "768/938 [=======================>......] - ETA: 4s - loss: 0.4447 - accuracy: 0.7943"
     ]
    },
    {
     "name": "stderr",
     "output_type": "stream",
     "text": [
      "2022-06-15 18:02:21.231899: I tensorflow_io/core/kernels/kafka_kernels.cc:248] Kafka stream starts with current offset: 50176\n"
     ]
    },
    {
     "name": "stdout",
     "output_type": "stream",
     "text": [
      "784/938 [========================>.....] - ETA: 4s - loss: 0.4450 - accuracy: 0.7942"
     ]
    },
    {
     "name": "stderr",
     "output_type": "stream",
     "text": [
      "2022-06-15 18:02:21.754451: I tensorflow_io/core/kernels/kafka_kernels.cc:248] Kafka stream starts with current offset: 51200\n"
     ]
    },
    {
     "name": "stdout",
     "output_type": "stream",
     "text": [
      "814/938 [=========================>....] - ETA: 3s - loss: 0.4449 - accuracy: 0.7941"
     ]
    },
    {
     "name": "stderr",
     "output_type": "stream",
     "text": [
      "2022-06-15 18:02:22.269773: I tensorflow_io/core/kernels/kafka_kernels.cc:248] Kafka stream starts with current offset: 52224\n"
     ]
    },
    {
     "name": "stdout",
     "output_type": "stream",
     "text": [
      "826/938 [=========================>....] - ETA: 3s - loss: 0.4447 - accuracy: 0.7943"
     ]
    },
    {
     "name": "stderr",
     "output_type": "stream",
     "text": [
      "2022-06-15 18:02:22.807657: I tensorflow_io/core/kernels/kafka_kernels.cc:248] Kafka stream starts with current offset: 53248\n"
     ]
    },
    {
     "name": "stdout",
     "output_type": "stream",
     "text": [
      "832/938 [=========================>....] - ETA: 3s - loss: 0.4448 - accuracy: 0.7945"
     ]
    },
    {
     "name": "stderr",
     "output_type": "stream",
     "text": [
      "2022-06-15 18:02:23.279852: I tensorflow_io/core/kernels/kafka_kernels.cc:248] Kafka stream starts with current offset: 54272\n"
     ]
    },
    {
     "name": "stdout",
     "output_type": "stream",
     "text": [
      "848/938 [==========================>...] - ETA: 2s - loss: 0.4443 - accuracy: 0.7948"
     ]
    },
    {
     "name": "stderr",
     "output_type": "stream",
     "text": [
      "2022-06-15 18:02:23.786050: I tensorflow_io/core/kernels/kafka_kernels.cc:248] Kafka stream starts with current offset: 55296\n"
     ]
    },
    {
     "name": "stdout",
     "output_type": "stream",
     "text": [
      "878/938 [===========================>..] - ETA: 1s - loss: 0.4446 - accuracy: 0.7942"
     ]
    },
    {
     "name": "stderr",
     "output_type": "stream",
     "text": [
      "2022-06-15 18:02:24.298545: I tensorflow_io/core/kernels/kafka_kernels.cc:248] Kafka stream starts with current offset: 56320\n"
     ]
    },
    {
     "name": "stdout",
     "output_type": "stream",
     "text": [
      "880/938 [===========================>..] - ETA: 1s - loss: 0.4446 - accuracy: 0.7941"
     ]
    },
    {
     "name": "stderr",
     "output_type": "stream",
     "text": [
      "2022-06-15 18:02:24.794800: I tensorflow_io/core/kernels/kafka_kernels.cc:248] Kafka stream starts with current offset: 57344\n"
     ]
    },
    {
     "name": "stdout",
     "output_type": "stream",
     "text": [
      "906/938 [===========================>..] - ETA: 0s - loss: 0.4450 - accuracy: 0.7936"
     ]
    },
    {
     "name": "stderr",
     "output_type": "stream",
     "text": [
      "2022-06-15 18:02:25.358692: I tensorflow_io/core/kernels/kafka_kernels.cc:248] Kafka stream starts with current offset: 58368\n"
     ]
    },
    {
     "name": "stdout",
     "output_type": "stream",
     "text": [
      "912/938 [============================>.] - ETA: 0s - loss: 0.4449 - accuracy: 0.7937"
     ]
    },
    {
     "name": "stderr",
     "output_type": "stream",
     "text": [
      "2022-06-15 18:02:25.804508: I tensorflow_io/core/kernels/kafka_kernels.cc:248] Kafka stream starts with current offset: 59392\n"
     ]
    },
    {
     "name": "stdout",
     "output_type": "stream",
     "text": [
      "938/938 [==============================] - 27s 29ms/step - loss: 0.4448 - accuracy: 0.7939\n",
      "Epoch 10/10\n"
     ]
    },
    {
     "name": "stderr",
     "output_type": "stream",
     "text": [
      "2022-06-15 18:02:26.314778: I tensorflow_io/core/kernels/kafka_kernels.cc:248] Kafka stream starts with current offset: 0\n"
     ]
    },
    {
     "name": "stdout",
     "output_type": "stream",
     "text": [
      " 39/938 [>.............................] - ETA: 3s - loss: 0.4238 - accuracy: 0.8109"
     ]
    },
    {
     "name": "stderr",
     "output_type": "stream",
     "text": [
      "2022-06-15 18:02:26.822068: I tensorflow_io/core/kernels/kafka_kernels.cc:248] Kafka stream starts with current offset: 1024\n",
      "2022-06-15 18:02:26.888871: I tensorflow_io/core/kernels/kafka_kernels.cc:248] Kafka stream starts with current offset: 2048\n",
      "2022-06-15 18:02:26.957485: I tensorflow_io/core/kernels/kafka_kernels.cc:248] Kafka stream starts with current offset: 3072\n"
     ]
    },
    {
     "name": "stdout",
     "output_type": "stream",
     "text": [
      " 83/938 [=>............................] - ETA: 8s - loss: 0.4323 - accuracy: 0.8059"
     ]
    },
    {
     "name": "stderr",
     "output_type": "stream",
     "text": [
      "2022-06-15 18:02:27.504143: I tensorflow_io/core/kernels/kafka_kernels.cc:248] Kafka stream starts with current offset: 4096\n",
      "2022-06-15 18:02:27.585303: I tensorflow_io/core/kernels/kafka_kernels.cc:248] Kafka stream starts with current offset: 5120\n",
      "2022-06-15 18:02:27.663512: I tensorflow_io/core/kernels/kafka_kernels.cc:248] Kafka stream starts with current offset: 6144\n"
     ]
    },
    {
     "name": "stdout",
     "output_type": "stream",
     "text": [
      "110/938 [==>...........................] - ETA: 11s - loss: 0.4351 - accuracy: 0.8040"
     ]
    },
    {
     "name": "stderr",
     "output_type": "stream",
     "text": [
      "2022-06-15 18:02:28.224857: I tensorflow_io/core/kernels/kafka_kernels.cc:248] Kafka stream starts with current offset: 7168\n"
     ]
    },
    {
     "name": "stdout",
     "output_type": "stream",
     "text": [
      "139/938 [===>..........................] - ETA: 11s - loss: 0.4360 - accuracy: 0.8033"
     ]
    },
    {
     "name": "stderr",
     "output_type": "stream",
     "text": [
      "2022-06-15 18:02:28.788870: I tensorflow_io/core/kernels/kafka_kernels.cc:248] Kafka stream starts with current offset: 8192\n",
      "2022-06-15 18:02:28.852691: I tensorflow_io/core/kernels/kafka_kernels.cc:248] Kafka stream starts with current offset: 9216\n"
     ]
    },
    {
     "name": "stdout",
     "output_type": "stream",
     "text": [
      "158/938 [====>.........................] - ETA: 13s - loss: 0.4388 - accuracy: 0.7993"
     ]
    },
    {
     "name": "stderr",
     "output_type": "stream",
     "text": [
      "2022-06-15 18:02:29.408827: I tensorflow_io/core/kernels/kafka_kernels.cc:248] Kafka stream starts with current offset: 10240\n"
     ]
    },
    {
     "name": "stdout",
     "output_type": "stream",
     "text": [
      "171/938 [====>.........................] - ETA: 14s - loss: 0.4399 - accuracy: 0.7997"
     ]
    },
    {
     "name": "stderr",
     "output_type": "stream",
     "text": [
      "2022-06-15 18:02:29.980769: I tensorflow_io/core/kernels/kafka_kernels.cc:248] Kafka stream starts with current offset: 11264\n"
     ]
    },
    {
     "name": "stdout",
     "output_type": "stream",
     "text": [
      "186/938 [====>.........................] - ETA: 15s - loss: 0.4419 - accuracy: 0.7981"
     ]
    },
    {
     "name": "stderr",
     "output_type": "stream",
     "text": [
      "2022-06-15 18:02:30.560987: I tensorflow_io/core/kernels/kafka_kernels.cc:248] Kafka stream starts with current offset: 12288\n"
     ]
    },
    {
     "name": "stdout",
     "output_type": "stream",
     "text": [
      "206/938 [=====>........................] - ETA: 15s - loss: 0.4432 - accuracy: 0.7972"
     ]
    },
    {
     "name": "stderr",
     "output_type": "stream",
     "text": [
      "2022-06-15 18:02:31.113080: I tensorflow_io/core/kernels/kafka_kernels.cc:248] Kafka stream starts with current offset: 13312\n"
     ]
    },
    {
     "name": "stdout",
     "output_type": "stream",
     "text": [
      "222/938 [======>.......................] - ETA: 15s - loss: 0.4422 - accuracy: 0.7977"
     ]
    },
    {
     "name": "stderr",
     "output_type": "stream",
     "text": [
      "2022-06-15 18:02:31.661267: I tensorflow_io/core/kernels/kafka_kernels.cc:248] Kafka stream starts with current offset: 14336\n"
     ]
    },
    {
     "name": "stdout",
     "output_type": "stream",
     "text": [
      "258/938 [=======>......................] - ETA: 14s - loss: 0.4449 - accuracy: 0.7961"
     ]
    },
    {
     "name": "stderr",
     "output_type": "stream",
     "text": [
      "2022-06-15 18:02:32.214902: I tensorflow_io/core/kernels/kafka_kernels.cc:248] Kafka stream starts with current offset: 15360\n",
      "2022-06-15 18:02:32.291279: I tensorflow_io/core/kernels/kafka_kernels.cc:248] Kafka stream starts with current offset: 16384\n",
      "2022-06-15 18:02:32.355051: I tensorflow_io/core/kernels/kafka_kernels.cc:248] Kafka stream starts with current offset: 17408\n"
     ]
    },
    {
     "name": "stdout",
     "output_type": "stream",
     "text": [
      "285/938 [========>.....................] - ETA: 14s - loss: 0.4435 - accuracy: 0.7969"
     ]
    },
    {
     "name": "stderr",
     "output_type": "stream",
     "text": [
      "2022-06-15 18:02:32.931501: I tensorflow_io/core/kernels/kafka_kernels.cc:248] Kafka stream starts with current offset: 18432\n"
     ]
    },
    {
     "name": "stdout",
     "output_type": "stream",
     "text": [
      "288/938 [========>.....................] - ETA: 15s - loss: 0.4433 - accuracy: 0.7967"
     ]
    },
    {
     "name": "stderr",
     "output_type": "stream",
     "text": [
      "2022-06-15 18:02:33.473526: I tensorflow_io/core/kernels/kafka_kernels.cc:248] Kafka stream starts with current offset: 19456\n"
     ]
    },
    {
     "name": "stdout",
     "output_type": "stream",
     "text": [
      "317/938 [=========>....................] - ETA: 14s - loss: 0.4449 - accuracy: 0.7962"
     ]
    },
    {
     "name": "stderr",
     "output_type": "stream",
     "text": [
      "2022-06-15 18:02:34.026863: I tensorflow_io/core/kernels/kafka_kernels.cc:248] Kafka stream starts with current offset: 20480\n"
     ]
    },
    {
     "name": "stdout",
     "output_type": "stream",
     "text": [
      "333/938 [=========>....................] - ETA: 14s - loss: 0.4452 - accuracy: 0.7955"
     ]
    },
    {
     "name": "stderr",
     "output_type": "stream",
     "text": [
      "2022-06-15 18:02:34.583824: I tensorflow_io/core/kernels/kafka_kernels.cc:248] Kafka stream starts with current offset: 21504\n"
     ]
    },
    {
     "name": "stdout",
     "output_type": "stream",
     "text": [
      "363/938 [==========>...................] - ETA: 13s - loss: 0.4440 - accuracy: 0.7958"
     ]
    },
    {
     "name": "stderr",
     "output_type": "stream",
     "text": [
      "2022-06-15 18:02:35.125393: I tensorflow_io/core/kernels/kafka_kernels.cc:248] Kafka stream starts with current offset: 22528\n",
      "2022-06-15 18:02:35.193217: I tensorflow_io/core/kernels/kafka_kernels.cc:248] Kafka stream starts with current offset: 23552\n"
     ]
    },
    {
     "name": "stdout",
     "output_type": "stream",
     "text": [
      "379/938 [===========>..................] - ETA: 13s - loss: 0.4437 - accuracy: 0.7959"
     ]
    },
    {
     "name": "stderr",
     "output_type": "stream",
     "text": [
      "2022-06-15 18:02:35.732463: I tensorflow_io/core/kernels/kafka_kernels.cc:248] Kafka stream starts with current offset: 24576\n"
     ]
    },
    {
     "name": "stdout",
     "output_type": "stream",
     "text": [
      "399/938 [===========>..................] - ETA: 12s - loss: 0.4430 - accuracy: 0.7968"
     ]
    },
    {
     "name": "stderr",
     "output_type": "stream",
     "text": [
      "2022-06-15 18:02:36.270830: I tensorflow_io/core/kernels/kafka_kernels.cc:248] Kafka stream starts with current offset: 25600\n"
     ]
    },
    {
     "name": "stdout",
     "output_type": "stream",
     "text": [
      "412/938 [============>.................] - ETA: 12s - loss: 0.4424 - accuracy: 0.7970"
     ]
    },
    {
     "name": "stderr",
     "output_type": "stream",
     "text": [
      "2022-06-15 18:02:36.821285: I tensorflow_io/core/kernels/kafka_kernels.cc:248] Kafka stream starts with current offset: 26624\n"
     ]
    },
    {
     "name": "stdout",
     "output_type": "stream",
     "text": [
      "430/938 [============>.................] - ETA: 12s - loss: 0.4422 - accuracy: 0.7974"
     ]
    },
    {
     "name": "stderr",
     "output_type": "stream",
     "text": [
      "2022-06-15 18:02:37.360993: I tensorflow_io/core/kernels/kafka_kernels.cc:248] Kafka stream starts with current offset: 27648\n"
     ]
    },
    {
     "name": "stdout",
     "output_type": "stream",
     "text": [
      "442/938 [=============>................] - ETA: 12s - loss: 0.4435 - accuracy: 0.7965"
     ]
    },
    {
     "name": "stderr",
     "output_type": "stream",
     "text": [
      "2022-06-15 18:02:37.929090: I tensorflow_io/core/kernels/kafka_kernels.cc:248] Kafka stream starts with current offset: 28672\n"
     ]
    },
    {
     "name": "stdout",
     "output_type": "stream",
     "text": [
      "460/938 [=============>................] - ETA: 12s - loss: 0.4430 - accuracy: 0.7966"
     ]
    },
    {
     "name": "stderr",
     "output_type": "stream",
     "text": [
      "2022-06-15 18:02:38.462606: I tensorflow_io/core/kernels/kafka_kernels.cc:248] Kafka stream starts with current offset: 29696\n"
     ]
    },
    {
     "name": "stdout",
     "output_type": "stream",
     "text": [
      "478/938 [==============>...............] - ETA: 11s - loss: 0.4426 - accuracy: 0.7971"
     ]
    },
    {
     "name": "stderr",
     "output_type": "stream",
     "text": [
      "2022-06-15 18:02:39.012032: I tensorflow_io/core/kernels/kafka_kernels.cc:248] Kafka stream starts with current offset: 30720\n"
     ]
    },
    {
     "name": "stdout",
     "output_type": "stream",
     "text": [
      "480/938 [==============>...............] - ETA: 12s - loss: 0.4421 - accuracy: 0.7974"
     ]
    },
    {
     "name": "stderr",
     "output_type": "stream",
     "text": [
      "2022-06-15 18:02:39.555695: I tensorflow_io/core/kernels/kafka_kernels.cc:248] Kafka stream starts with current offset: 31744\n"
     ]
    },
    {
     "name": "stdout",
     "output_type": "stream",
     "text": [
      "496/938 [==============>...............] - ETA: 11s - loss: 0.4415 - accuracy: 0.7975"
     ]
    },
    {
     "name": "stderr",
     "output_type": "stream",
     "text": [
      "2022-06-15 18:02:40.093140: I tensorflow_io/core/kernels/kafka_kernels.cc:248] Kafka stream starts with current offset: 32768\n"
     ]
    },
    {
     "name": "stdout",
     "output_type": "stream",
     "text": [
      "512/938 [===============>..............] - ETA: 11s - loss: 0.4415 - accuracy: 0.7979"
     ]
    },
    {
     "name": "stderr",
     "output_type": "stream",
     "text": [
      "2022-06-15 18:02:40.639627: I tensorflow_io/core/kernels/kafka_kernels.cc:248] Kafka stream starts with current offset: 33792\n"
     ]
    },
    {
     "name": "stdout",
     "output_type": "stream",
     "text": [
      "528/938 [===============>..............] - ETA: 11s - loss: 0.4408 - accuracy: 0.7984"
     ]
    },
    {
     "name": "stderr",
     "output_type": "stream",
     "text": [
      "2022-06-15 18:02:41.179688: I tensorflow_io/core/kernels/kafka_kernels.cc:248] Kafka stream starts with current offset: 34816\n"
     ]
    },
    {
     "name": "stdout",
     "output_type": "stream",
     "text": [
      "558/938 [================>.............] - ETA: 10s - loss: 0.4412 - accuracy: 0.7982"
     ]
    },
    {
     "name": "stderr",
     "output_type": "stream",
     "text": [
      "2022-06-15 18:02:41.733496: I tensorflow_io/core/kernels/kafka_kernels.cc:248] Kafka stream starts with current offset: 35840\n"
     ]
    },
    {
     "name": "stdout",
     "output_type": "stream",
     "text": [
      "560/938 [================>.............] - ETA: 10s - loss: 0.4412 - accuracy: 0.7983"
     ]
    },
    {
     "name": "stderr",
     "output_type": "stream",
     "text": [
      "2022-06-15 18:02:42.250745: I tensorflow_io/core/kernels/kafka_kernels.cc:248] Kafka stream starts with current offset: 36864\n"
     ]
    },
    {
     "name": "stdout",
     "output_type": "stream",
     "text": [
      "576/938 [=================>............] - ETA: 10s - loss: 0.4413 - accuracy: 0.7985"
     ]
    },
    {
     "name": "stderr",
     "output_type": "stream",
     "text": [
      "2022-06-15 18:02:42.791137: I tensorflow_io/core/kernels/kafka_kernels.cc:248] Kafka stream starts with current offset: 37888\n"
     ]
    },
    {
     "name": "stdout",
     "output_type": "stream",
     "text": [
      "592/938 [=================>............] - ETA: 9s - loss: 0.4413 - accuracy: 0.7984 "
     ]
    },
    {
     "name": "stderr",
     "output_type": "stream",
     "text": [
      "2022-06-15 18:02:43.312790: I tensorflow_io/core/kernels/kafka_kernels.cc:248] Kafka stream starts with current offset: 38912\n"
     ]
    },
    {
     "name": "stdout",
     "output_type": "stream",
     "text": [
      "621/938 [==================>...........] - ETA: 8s - loss: 0.4420 - accuracy: 0.7975"
     ]
    },
    {
     "name": "stderr",
     "output_type": "stream",
     "text": [
      "2022-06-15 18:02:43.858240: I tensorflow_io/core/kernels/kafka_kernels.cc:248] Kafka stream starts with current offset: 39936\n"
     ]
    },
    {
     "name": "stdout",
     "output_type": "stream",
     "text": [
      "639/938 [===================>..........] - ETA: 8s - loss: 0.4423 - accuracy: 0.7973"
     ]
    },
    {
     "name": "stderr",
     "output_type": "stream",
     "text": [
      "2022-06-15 18:02:44.370936: I tensorflow_io/core/kernels/kafka_kernels.cc:248] Kafka stream starts with current offset: 40960\n"
     ]
    },
    {
     "name": "stdout",
     "output_type": "stream",
     "text": [
      "655/938 [===================>..........] - ETA: 7s - loss: 0.4425 - accuracy: 0.7970"
     ]
    },
    {
     "name": "stderr",
     "output_type": "stream",
     "text": [
      "2022-06-15 18:02:44.906500: I tensorflow_io/core/kernels/kafka_kernels.cc:248] Kafka stream starts with current offset: 41984\n"
     ]
    },
    {
     "name": "stdout",
     "output_type": "stream",
     "text": [
      "656/938 [===================>..........] - ETA: 8s - loss: 0.4424 - accuracy: 0.7970"
     ]
    },
    {
     "name": "stderr",
     "output_type": "stream",
     "text": [
      "2022-06-15 18:02:45.418646: I tensorflow_io/core/kernels/kafka_kernels.cc:248] Kafka stream starts with current offset: 43008\n"
     ]
    },
    {
     "name": "stdout",
     "output_type": "stream",
     "text": [
      "679/938 [====================>.........] - ETA: 7s - loss: 0.4423 - accuracy: 0.7970"
     ]
    },
    {
     "name": "stderr",
     "output_type": "stream",
     "text": [
      "2022-06-15 18:02:45.977834: I tensorflow_io/core/kernels/kafka_kernels.cc:248] Kafka stream starts with current offset: 44032\n"
     ]
    },
    {
     "name": "stdout",
     "output_type": "stream",
     "text": [
      "688/938 [=====================>........] - ETA: 7s - loss: 0.4422 - accuracy: 0.7970"
     ]
    },
    {
     "name": "stderr",
     "output_type": "stream",
     "text": [
      "2022-06-15 18:02:46.460900: I tensorflow_io/core/kernels/kafka_kernels.cc:248] Kafka stream starts with current offset: 45056\n"
     ]
    },
    {
     "name": "stdout",
     "output_type": "stream",
     "text": [
      "719/938 [=====================>........] - ETA: 6s - loss: 0.4423 - accuracy: 0.7967"
     ]
    },
    {
     "name": "stderr",
     "output_type": "stream",
     "text": [
      "2022-06-15 18:02:46.981617: I tensorflow_io/core/kernels/kafka_kernels.cc:248] Kafka stream starts with current offset: 46080\n"
     ]
    },
    {
     "name": "stdout",
     "output_type": "stream",
     "text": [
      "735/938 [======================>.......] - ETA: 5s - loss: 0.4423 - accuracy: 0.7968"
     ]
    },
    {
     "name": "stderr",
     "output_type": "stream",
     "text": [
      "2022-06-15 18:02:47.516021: I tensorflow_io/core/kernels/kafka_kernels.cc:248] Kafka stream starts with current offset: 47104\n"
     ]
    },
    {
     "name": "stdout",
     "output_type": "stream",
     "text": [
      "736/938 [======================>.......] - ETA: 5s - loss: 0.4423 - accuracy: 0.7968"
     ]
    },
    {
     "name": "stderr",
     "output_type": "stream",
     "text": [
      "2022-06-15 18:02:48.038514: I tensorflow_io/core/kernels/kafka_kernels.cc:248] Kafka stream starts with current offset: 48128\n"
     ]
    },
    {
     "name": "stdout",
     "output_type": "stream",
     "text": [
      "766/938 [=======================>......] - ETA: 4s - loss: 0.4424 - accuracy: 0.7964"
     ]
    },
    {
     "name": "stderr",
     "output_type": "stream",
     "text": [
      "2022-06-15 18:02:48.561514: I tensorflow_io/core/kernels/kafka_kernels.cc:248] Kafka stream starts with current offset: 49152\n"
     ]
    },
    {
     "name": "stdout",
     "output_type": "stream",
     "text": [
      "768/938 [=======================>......] - ETA: 4s - loss: 0.4425 - accuracy: 0.7963"
     ]
    },
    {
     "name": "stderr",
     "output_type": "stream",
     "text": [
      "2022-06-15 18:02:49.075300: I tensorflow_io/core/kernels/kafka_kernels.cc:248] Kafka stream starts with current offset: 50176\n"
     ]
    },
    {
     "name": "stdout",
     "output_type": "stream",
     "text": [
      "797/938 [========================>.....] - ETA: 4s - loss: 0.4431 - accuracy: 0.7958"
     ]
    },
    {
     "name": "stderr",
     "output_type": "stream",
     "text": [
      "2022-06-15 18:02:49.597516: I tensorflow_io/core/kernels/kafka_kernels.cc:248] Kafka stream starts with current offset: 51200\n"
     ]
    },
    {
     "name": "stdout",
     "output_type": "stream",
     "text": [
      "800/938 [========================>.....] - ETA: 4s - loss: 0.4432 - accuracy: 0.7957"
     ]
    },
    {
     "name": "stderr",
     "output_type": "stream",
     "text": [
      "2022-06-15 18:02:50.093625: I tensorflow_io/core/kernels/kafka_kernels.cc:248] Kafka stream starts with current offset: 52224\n"
     ]
    },
    {
     "name": "stdout",
     "output_type": "stream",
     "text": [
      "831/938 [=========================>....] - ETA: 3s - loss: 0.4428 - accuracy: 0.7959"
     ]
    },
    {
     "name": "stderr",
     "output_type": "stream",
     "text": [
      "2022-06-15 18:02:50.607847: I tensorflow_io/core/kernels/kafka_kernels.cc:248] Kafka stream starts with current offset: 53248\n"
     ]
    },
    {
     "name": "stdout",
     "output_type": "stream",
     "text": [
      "832/938 [=========================>....] - ETA: 3s - loss: 0.4427 - accuracy: 0.7959"
     ]
    },
    {
     "name": "stderr",
     "output_type": "stream",
     "text": [
      "2022-06-15 18:02:51.098633: I tensorflow_io/core/kernels/kafka_kernels.cc:248] Kafka stream starts with current offset: 54272\n"
     ]
    },
    {
     "name": "stdout",
     "output_type": "stream",
     "text": [
      "860/938 [==========================>...] - ETA: 2s - loss: 0.4426 - accuracy: 0.7961"
     ]
    },
    {
     "name": "stderr",
     "output_type": "stream",
     "text": [
      "2022-06-15 18:02:51.621517: I tensorflow_io/core/kernels/kafka_kernels.cc:248] Kafka stream starts with current offset: 55296\n"
     ]
    },
    {
     "name": "stdout",
     "output_type": "stream",
     "text": [
      "877/938 [===========================>..] - ETA: 1s - loss: 0.4428 - accuracy: 0.7955"
     ]
    },
    {
     "name": "stderr",
     "output_type": "stream",
     "text": [
      "2022-06-15 18:02:52.137498: I tensorflow_io/core/kernels/kafka_kernels.cc:248] Kafka stream starts with current offset: 56320\n"
     ]
    },
    {
     "name": "stdout",
     "output_type": "stream",
     "text": [
      "880/938 [===========================>..] - ETA: 1s - loss: 0.4429 - accuracy: 0.7955"
     ]
    },
    {
     "name": "stderr",
     "output_type": "stream",
     "text": [
      "2022-06-15 18:02:52.621940: I tensorflow_io/core/kernels/kafka_kernels.cc:248] Kafka stream starts with current offset: 57344\n"
     ]
    },
    {
     "name": "stdout",
     "output_type": "stream",
     "text": [
      "896/938 [===========================>..] - ETA: 1s - loss: 0.4435 - accuracy: 0.7949"
     ]
    },
    {
     "name": "stderr",
     "output_type": "stream",
     "text": [
      "2022-06-15 18:02:53.122624: I tensorflow_io/core/kernels/kafka_kernels.cc:248] Kafka stream starts with current offset: 58368\n"
     ]
    },
    {
     "name": "stdout",
     "output_type": "stream",
     "text": [
      "912/938 [============================>.] - ETA: 0s - loss: 0.4438 - accuracy: 0.7947"
     ]
    },
    {
     "name": "stderr",
     "output_type": "stream",
     "text": [
      "2022-06-15 18:02:53.626492: I tensorflow_io/core/kernels/kafka_kernels.cc:248] Kafka stream starts with current offset: 59392\n"
     ]
    },
    {
     "name": "stdout",
     "output_type": "stream",
     "text": [
      "938/938 [==============================] - 28s 29ms/step - loss: 0.4436 - accuracy: 0.7949\n"
     ]
    },
    {
     "data": {
      "text/plain": [
       "<keras.callbacks.History at 0x7fa98e093a00>"
      ]
     },
     "execution_count": 22,
     "metadata": {},
     "output_type": "execute_result"
    }
   ],
   "source": [
    "# fit the model\n",
    "model.fit(train_ds, epochs=EPOCHS)"
   ]
  },
  {
   "cell_type": "code",
   "execution_count": 23,
   "metadata": {},
   "outputs": [
    {
     "name": "stdout",
     "output_type": "stream",
     "text": [
      "WARNING:tensorflow:From /opt/python/3.10.4/lib/python3.10/site-packages/tensorflow_io/python/experimental/kafka_group_io_dataset_ops.py:187: take_while (from tensorflow.python.data.experimental.ops.take_while_ops) is deprecated and will be removed in a future version.\n",
      "Instructions for updating:\n",
      "Use `tf.data.Dataset.take_while(...)\n"
     ]
    },
    {
     "name": "stderr",
     "output_type": "stream",
     "text": [
      "2022-06-15 18:13:20.688979: I tensorflow_io/core/kernels/kafka_kernels.cc:879] Kafka configuration: session.timeout.ms=7000\n",
      "2022-06-15 18:13:20.689056: I tensorflow_io/core/kernels/kafka_kernels.cc:879] Kafka configuration: max.poll.interval.ms=8000\n",
      "2022-06-15 18:13:20.689084: I tensorflow_io/core/kernels/kafka_kernels.cc:879] Kafka configuration: auto.offset.reset=earliest\n",
      "2022-06-15 18:13:20.689098: I tensorflow_io/core/kernels/kafka_kernels.cc:879] Kafka configuration: group.id=testcg\n",
      "2022-06-15 18:13:20.689115: I tensorflow_io/core/kernels/kafka_kernels.cc:879] Kafka configuration: bootstrap.servers=127.0.0.1:9092\n",
      "2022-06-15 18:13:20.689149: I tensorflow_io/core/kernels/kafka_kernels.cc:919] max num of messages per batch: 10000\n",
      "2022-06-15 18:13:20.689161: I tensorflow_io/core/kernels/kafka_kernels.cc:938] Creating the kafka consumer\n",
      "2022-06-15 18:13:20.689472: I tensorflow_io/core/kernels/kafka_kernels.cc:945] Subscribing to the kafka topic: susy-test\n"
     ]
    }
   ],
   "source": [
    "test_ds = tf_io.experimental.streaming.KafkaGroupIODataset(\n",
    "    topics=[\"susy-test\"],\n",
    "    group_id=\"testcg\",\n",
    "    servers=\"127.0.0.1:9092\",\n",
    "    stream_timeout=10000,\n",
    "    configuration=[\n",
    "        \"session.timeout.ms=7000\",\n",
    "        \"max.poll.interval.ms=8000\",\n",
    "        \"auto.offset.reset=earliest\"\n",
    "    ],\n",
    ")\n",
    "\n",
    "def decode_kafka_test_item(raw_message, raw_key):\n",
    "  message = tf.io.decode_csv(raw_message, [[0.0] for i in range(NUM_COLUMNS)])\n",
    "  key = tf.strings.to_number(raw_key)\n",
    "  return (message, key)\n",
    "\n",
    "test_ds = test_ds.map(decode_kafka_test_item)\n",
    "test_ds = test_ds.batch(BATCH_SIZE)"
   ]
  },
  {
   "cell_type": "code",
   "execution_count": 24,
   "metadata": {},
   "outputs": [
    {
     "name": "stderr",
     "output_type": "stream",
     "text": [
      "2022-06-15 18:14:40.069674: E tensorflow_io/core/kernels/kafka_kernels.cc:774] REBALANCE: Local: Assign partitions\n",
      "2022-06-15 18:14:40.073068: E tensorflow_io/core/kernels/kafka_kernels.cc:776] Retrieved committed offsets with status code: 0\n",
      "2022-06-15 18:14:40.073116: I tensorflow_io/core/kernels/kafka_kernels.cc:787] REBALANCE: susy-test[0], OFFSET: -1001 ERROR_CODE: 0\n",
      "2022-06-15 18:14:40.073129: I tensorflow_io/core/kernels/kafka_kernels.cc:787] REBALANCE: susy-test[1], OFFSET: -1001 ERROR_CODE: 0\n",
      "2022-06-15 18:14:40.073137: I tensorflow_io/core/kernels/kafka_kernels.cc:802] REBALANCE: Assigning partitions\n"
     ]
    },
    {
     "name": "stdout",
     "output_type": "stream",
     "text": [
      "    332/Unknown - 1s 2ms/step - loss: 0.4389 - accuracy: 0.7951"
     ]
    },
    {
     "name": "stderr",
     "output_type": "stream",
     "text": [
      "2022-06-15 18:14:40.889830: I tensorflow_io/core/kernels/kafka_kernels.cc:996] EOF reached for all 2 partition(s)\n"
     ]
    },
    {
     "name": "stdout",
     "output_type": "stream",
     "text": [
      "625/625 [==============================] - 11s 17ms/step - loss: 0.4350 - accuracy: 0.7976\n",
      "test loss, test acc: [0.4350031614303589, 0.7975749969482422]\n"
     ]
    },
    {
     "name": "stderr",
     "output_type": "stream",
     "text": [
      "2022-06-15 18:14:50.890318: E tensorflow_io/core/kernels/kafka_kernels.cc:1001] Local: Timed out\n"
     ]
    }
   ],
   "source": [
    "res = model.evaluate(test_ds)\n",
    "print(\"test loss, test acc:\", res)"
   ]
  },
  {
   "cell_type": "code",
   "execution_count": 25,
   "metadata": {},
   "outputs": [
    {
     "name": "stderr",
     "output_type": "stream",
     "text": [
      "2022-06-15 18:20:18.801901: I tensorflow_io/core/kernels/kafka_kernels.cc:879] Kafka configuration: session.timeout.ms=7000\n",
      "2022-06-15 18:20:18.801949: I tensorflow_io/core/kernels/kafka_kernels.cc:879] Kafka configuration: max.poll.interval.ms=8000\n",
      "2022-06-15 18:20:18.801965: I tensorflow_io/core/kernels/kafka_kernels.cc:879] Kafka configuration: auto.offset.reset=earliest\n",
      "2022-06-15 18:20:18.801974: I tensorflow_io/core/kernels/kafka_kernels.cc:879] Kafka configuration: group.id=cgonline\n",
      "2022-06-15 18:20:18.801984: I tensorflow_io/core/kernels/kafka_kernels.cc:879] Kafka configuration: bootstrap.servers=127.0.0.1:9092\n",
      "2022-06-15 18:20:18.802001: I tensorflow_io/core/kernels/kafka_kernels.cc:919] max num of messages per batch: 10000\n",
      "2022-06-15 18:20:18.802010: I tensorflow_io/core/kernels/kafka_kernels.cc:938] Creating the kafka consumer\n",
      "2022-06-15 18:20:18.802341: I tensorflow_io/core/kernels/kafka_kernels.cc:945] Subscribing to the kafka topic: susy-train\n"
     ]
    }
   ],
   "source": [
    "online_train_ds = tf_io.experimental.streaming.KafkaBatchIODataset(\n",
    "    topics=[\"susy-train\"],\n",
    "    group_id=\"cgonline\",\n",
    "    servers=\"127.0.0.1:9092\",\n",
    "    stream_timeout=10000, # in milliseconds, to block indefinitely, set it to -1.\n",
    "    configuration=[\n",
    "        \"session.timeout.ms=7000\",\n",
    "        \"max.poll.interval.ms=8000\",\n",
    "        \"auto.offset.reset=earliest\"\n",
    "    ],\n",
    ")"
   ]
  },
  {
   "cell_type": "code",
   "execution_count": 26,
   "metadata": {},
   "outputs": [
    {
     "name": "stderr",
     "output_type": "stream",
     "text": [
      "2022-06-15 18:21:06.187242: E tensorflow_io/core/kernels/kafka_kernels.cc:774] REBALANCE: Local: Assign partitions\n",
      "2022-06-15 18:21:06.188239: E tensorflow_io/core/kernels/kafka_kernels.cc:776] Retrieved committed offsets with status code: 0\n",
      "2022-06-15 18:21:06.188280: I tensorflow_io/core/kernels/kafka_kernels.cc:787] REBALANCE: susy-train[0], OFFSET: -1001 ERROR_CODE: 0\n",
      "2022-06-15 18:21:06.188290: I tensorflow_io/core/kernels/kafka_kernels.cc:802] REBALANCE: Assigning partitions\n"
     ]
    },
    {
     "name": "stdout",
     "output_type": "stream",
     "text": [
      "Epoch 1/3\n",
      "313/313 [==============================] - 1s 3ms/step - loss: 0.4455 - accuracy: 0.7944\n",
      "Epoch 2/3\n",
      "313/313 [==============================] - 1s 2ms/step - loss: 0.4416 - accuracy: 0.7982\n",
      "Epoch 3/3\n",
      "313/313 [==============================] - 1s 2ms/step - loss: 0.4392 - accuracy: 0.7978\n",
      "Epoch 1/3\n",
      "313/313 [==============================] - 1s 3ms/step - loss: 0.4556 - accuracy: 0.7917\n",
      "Epoch 2/3\n",
      "313/313 [==============================] - 1s 2ms/step - loss: 0.4486 - accuracy: 0.7951\n",
      "Epoch 3/3\n",
      "313/313 [==============================] - 1s 2ms/step - loss: 0.4476 - accuracy: 0.7914\n",
      "Epoch 1/3\n",
      "313/313 [==============================] - 1s 2ms/step - loss: 0.4491 - accuracy: 0.7939\n",
      "Epoch 2/3\n",
      "313/313 [==============================] - 1s 2ms/step - loss: 0.4443 - accuracy: 0.7961\n",
      "Epoch 3/3\n",
      "313/313 [==============================] - 1s 2ms/step - loss: 0.4414 - accuracy: 0.7967\n",
      "Epoch 1/3\n",
      "313/313 [==============================] - 1s 3ms/step - loss: 0.4458 - accuracy: 0.7947\n",
      "Epoch 2/3\n",
      "313/313 [==============================] - 1s 2ms/step - loss: 0.4426 - accuracy: 0.7922\n",
      "Epoch 3/3\n",
      "313/313 [==============================] - 1s 2ms/step - loss: 0.4401 - accuracy: 0.7973\n",
      "Epoch 1/3\n",
      "313/313 [==============================] - 1s 2ms/step - loss: 0.4524 - accuracy: 0.7857\n",
      "Epoch 2/3\n",
      "313/313 [==============================] - 1s 3ms/step - loss: 0.4486 - accuracy: 0.7884\n",
      "Epoch 3/3\n",
      "313/313 [==============================] - 1s 2ms/step - loss: 0.4429 - accuracy: 0.7914\n",
      "Epoch 1/3\n",
      "313/313 [==============================] - 1s 3ms/step - loss: 0.4486 - accuracy: 0.7911\n",
      "Epoch 2/3\n",
      "313/313 [==============================] - 1s 2ms/step - loss: 0.4444 - accuracy: 0.7931\n",
      "Epoch 3/3\n",
      "313/313 [==============================] - 1s 3ms/step - loss: 0.4422 - accuracy: 0.7944\n"
     ]
    },
    {
     "name": "stderr",
     "output_type": "stream",
     "text": [
      "2022-06-15 18:21:20.898293: I tensorflow_io/core/kernels/kafka_kernels.cc:996] EOF reached for all 1 partition(s)\n",
      "2022-06-15 18:21:30.918402: E tensorflow_io/core/kernels/kafka_kernels.cc:1001] Local: Timed out\n"
     ]
    }
   ],
   "source": [
    "def decode_kafka_online_item(raw_message, raw_key):\n",
    "  message = tf.io.decode_csv(raw_message, [[0.0] for i in range(NUM_COLUMNS)])\n",
    "  key = tf.strings.to_number(raw_key)\n",
    "  return (message, key)\n",
    "\n",
    "for mini_ds in online_train_ds:\n",
    "  mini_ds = mini_ds.shuffle(buffer_size=32)\n",
    "  mini_ds = mini_ds.map(decode_kafka_online_item)\n",
    "  mini_ds = mini_ds.batch(32)\n",
    "  if len(mini_ds) > 0:\n",
    "    model.fit(mini_ds, epochs=3)"
   ]
  }
 ],
 "metadata": {
  "kernelspec": {
   "display_name": "Python 3.10.4 64-bit",
   "language": "python",
   "name": "python3"
  },
  "language_info": {
   "codemirror_mode": {
    "name": "ipython",
    "version": 3
   },
   "file_extension": ".py",
   "mimetype": "text/x-python",
   "name": "python",
   "nbconvert_exporter": "python",
   "pygments_lexer": "ipython3",
   "version": "3.10.4"
  },
  "orig_nbformat": 4,
  "vscode": {
   "interpreter": {
    "hash": "4f946df053fbf2b937619d3c5458e7af74262f9a954d8797ba0b27400bcafe06"
   }
  }
 },
 "nbformat": 4,
 "nbformat_minor": 2
}
